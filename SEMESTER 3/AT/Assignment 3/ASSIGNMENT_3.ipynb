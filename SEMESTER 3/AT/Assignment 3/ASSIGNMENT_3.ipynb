{
  "nbformat": 4,
  "nbformat_minor": 0,
  "metadata": {
    "kernelspec": {
      "display_name": "Python 3",
      "language": "python",
      "name": "python3"
    },
    "language_info": {
      "codemirror_mode": {
        "name": "ipython",
        "version": 3
      },
      "file_extension": ".py",
      "mimetype": "text/x-python",
      "name": "python",
      "nbconvert_exporter": "python",
      "pygments_lexer": "ipython3",
      "version": "3.8.3"
    },
    "toc": {
      "colors": {
        "hover_highlight": "#DAA520",
        "running_highlight": "#FF0000",
        "selected_highlight": "#FFD700"
      },
      "moveMenuLeft": true,
      "nav_menu": {
        "height": "318px",
        "width": "252px"
      },
      "navigate_menu": true,
      "number_sections": true,
      "sideBar": true,
      "threshold": 4,
      "toc_cell": false,
      "toc_section_display": "block",
      "toc_window_display": false,
      "widenNotebook": false
    },
    "colab": {
      "name": "ASSIGNMENT 3.ipynb",
      "provenance": [],
      "collapsed_sections": [
        "PGb8OLbIbxXv",
        "zgIojb97bxX1",
        "5qQkgIyibxX6",
        "d3-EvbGNbxX8",
        "2ss93_OYbxYE",
        "8cJ7fdq3bxYF",
        "sB59_sRSbxYN",
        "8JMptLdYbxYb",
        "NEDLLyTDbxYc",
        "24Ghr4q1bxYd",
        "vlxEqvPCbxYe",
        "-NH-8SiSbxYe",
        "5FCYR9LVbxYg",
        "7scjVWCFbxYh",
        "sLPVULqUbxYi",
        "guRPzWKObxYj"
      ]
    },
    "widgets": {
      "application/vnd.jupyter.widget-state+json": {
        "c770537153e841fd865984985c37ec6e": {
          "model_module": "@jupyter-widgets/controls",
          "model_name": "TabModel",
          "model_module_version": "1.5.0",
          "state": {
            "_view_name": "TabView",
            "_dom_classes": [],
            "_titles": {
              "0": "Edit",
              "1": "Animate",
              "2": "Help"
            },
            "_model_name": "TabModel",
            "_view_module": "@jupyter-widgets/controls",
            "selected_index": 0,
            "_model_module_version": "1.5.0",
            "_view_count": null,
            "_view_module_version": "1.5.0",
            "box_style": "",
            "layout": "IPY_MODEL_ac8da652473645658af53c0f6a9617fa",
            "_model_module": "@jupyter-widgets/controls",
            "children": [
              "IPY_MODEL_ea43bf4957f54df98c0896478b93aa8d",
              "IPY_MODEL_fd8623042c294bde92307db51d0e1c61",
              "IPY_MODEL_7185db4db1084ddd889962a4e1874741"
            ]
          }
        },
        "ac8da652473645658af53c0f6a9617fa": {
          "model_module": "@jupyter-widgets/base",
          "model_name": "LayoutModel",
          "model_module_version": "1.2.0",
          "state": {
            "_view_name": "LayoutView",
            "grid_template_rows": null,
            "right": null,
            "justify_content": null,
            "_view_module": "@jupyter-widgets/base",
            "overflow": null,
            "_model_module_version": "1.2.0",
            "_view_count": null,
            "flex_flow": null,
            "width": null,
            "min_width": null,
            "border": null,
            "align_items": null,
            "bottom": null,
            "_model_module": "@jupyter-widgets/base",
            "top": null,
            "grid_column": null,
            "overflow_y": null,
            "overflow_x": null,
            "grid_auto_flow": null,
            "grid_area": null,
            "grid_template_columns": null,
            "flex": null,
            "_model_name": "LayoutModel",
            "justify_items": null,
            "grid_row": null,
            "max_height": null,
            "align_content": null,
            "visibility": null,
            "align_self": null,
            "height": null,
            "min_height": null,
            "padding": null,
            "grid_auto_rows": null,
            "grid_gap": null,
            "max_width": null,
            "order": null,
            "_view_module_version": "1.2.0",
            "grid_template_areas": null,
            "object_position": null,
            "object_fit": null,
            "grid_auto_columns": null,
            "margin": null,
            "display": null,
            "left": null
          }
        },
        "ea43bf4957f54df98c0896478b93aa8d": {
          "model_module": "@jupyter-widgets/controls",
          "model_name": "VBoxModel",
          "model_module_version": "1.5.0",
          "state": {
            "_view_name": "VBoxView",
            "_dom_classes": [],
            "_model_name": "VBoxModel",
            "_view_module": "@jupyter-widgets/controls",
            "_model_module_version": "1.5.0",
            "_view_count": null,
            "_view_module_version": "1.5.0",
            "box_style": "",
            "layout": "IPY_MODEL_2a3813a2c1b844d9aaee611c0f1e0201",
            "_model_module": "@jupyter-widgets/controls",
            "children": [
              "IPY_MODEL_0145f44ff92045ac856352970439e202",
              "IPY_MODEL_fe88121dbd82483884cabe41d4dfca67",
              "IPY_MODEL_7ae63d2f49ff495cbf221a0a57d7ad78"
            ]
          }
        },
        "fd8623042c294bde92307db51d0e1c61": {
          "model_module": "@jupyter-widgets/controls",
          "model_name": "VBoxModel",
          "model_module_version": "1.5.0",
          "state": {
            "_view_name": "VBoxView",
            "_dom_classes": [],
            "_model_name": "VBoxModel",
            "_view_module": "@jupyter-widgets/controls",
            "_model_module_version": "1.5.0",
            "_view_count": null,
            "_view_module_version": "1.5.0",
            "box_style": "",
            "layout": "IPY_MODEL_7cfad225a4184da39ea480a5750acc6c",
            "_model_module": "@jupyter-widgets/controls",
            "children": [
              "IPY_MODEL_b4012a3b0e2544078339f71a868e19a8",
              "IPY_MODEL_76ba052bd2b349be8d6ff36029265c52",
              "IPY_MODEL_a255bbb080364a06b84bd580719eb12f"
            ]
          }
        },
        "7185db4db1084ddd889962a4e1874741": {
          "model_module": "@jupyter-widgets/controls",
          "model_name": "VBoxModel",
          "model_module_version": "1.5.0",
          "state": {
            "_view_name": "VBoxView",
            "_dom_classes": [],
            "_model_name": "VBoxModel",
            "_view_module": "@jupyter-widgets/controls",
            "_model_module_version": "1.5.0",
            "_view_count": null,
            "_view_module_version": "1.5.0",
            "box_style": "",
            "layout": "IPY_MODEL_8976ada117294861b022f6d38ca11ba3",
            "_model_module": "@jupyter-widgets/controls",
            "children": [
              "IPY_MODEL_5decad0be6e24a8c8faf25e0191ed586",
              "IPY_MODEL_badeb72209fd4e518083b1b90be8a86e"
            ]
          }
        },
        "2a3813a2c1b844d9aaee611c0f1e0201": {
          "model_module": "@jupyter-widgets/base",
          "model_name": "LayoutModel",
          "model_module_version": "1.2.0",
          "state": {
            "_view_name": "LayoutView",
            "grid_template_rows": null,
            "right": null,
            "justify_content": null,
            "_view_module": "@jupyter-widgets/base",
            "overflow": null,
            "_model_module_version": "1.2.0",
            "_view_count": null,
            "flex_flow": null,
            "width": null,
            "min_width": null,
            "border": null,
            "align_items": null,
            "bottom": null,
            "_model_module": "@jupyter-widgets/base",
            "top": null,
            "grid_column": null,
            "overflow_y": null,
            "overflow_x": null,
            "grid_auto_flow": null,
            "grid_area": null,
            "grid_template_columns": null,
            "flex": null,
            "_model_name": "LayoutModel",
            "justify_items": null,
            "grid_row": null,
            "max_height": null,
            "align_content": null,
            "visibility": null,
            "align_self": null,
            "height": null,
            "min_height": null,
            "padding": null,
            "grid_auto_rows": null,
            "grid_gap": null,
            "max_width": null,
            "order": null,
            "_view_module_version": "1.2.0",
            "grid_template_areas": null,
            "object_position": null,
            "object_fit": null,
            "grid_auto_columns": null,
            "margin": null,
            "display": null,
            "left": null
          }
        },
        "0145f44ff92045ac856352970439e202": {
          "model_module": "@jupyter-widgets/controls",
          "model_name": "HBoxModel",
          "model_module_version": "1.5.0",
          "state": {
            "_view_name": "HBoxView",
            "_dom_classes": [],
            "_model_name": "HBoxModel",
            "_view_module": "@jupyter-widgets/controls",
            "_model_module_version": "1.5.0",
            "_view_count": null,
            "_view_module_version": "1.5.0",
            "box_style": "",
            "layout": "IPY_MODEL_0a3cccb171f04e0c95c5d0e493d620f6",
            "_model_module": "@jupyter-widgets/controls",
            "children": [
              "IPY_MODEL_eea6211174354b079a39df68c9a50904",
              "IPY_MODEL_f914c5ae59364bca8971349857ffcdd8"
            ]
          }
        },
        "fe88121dbd82483884cabe41d4dfca67": {
          "model_module": "@jupyter-widgets/output",
          "model_name": "OutputModel",
          "model_module_version": "1.0.0",
          "state": {
            "_view_name": "OutputView",
            "msg_id": "",
            "_dom_classes": [],
            "_model_name": "OutputModel",
            "outputs": [
              {
                "output_type": "display_data",
                "data": {
                  "application/vnd.jupyter.widget-view+json": {
                    "model_id": "5533d05f9d124bab940e20a49d692f0a",
                    "version_minor": 0,
                    "version_major": 2
                  },
                  "text/plain": "Textarea(value='!!---------------------------------------------------------------------------\\n!! This DFA loo…"
                },
                "metadata": {}
              }
            ],
            "_view_module": "@jupyter-widgets/output",
            "_model_module_version": "1.0.0",
            "_view_count": null,
            "_view_module_version": "1.0.0",
            "layout": "IPY_MODEL_2ec3df1efd47456cbb4f34dd70e6707b",
            "_model_module": "@jupyter-widgets/output"
          }
        },
        "7ae63d2f49ff495cbf221a0a57d7ad78": {
          "model_module": "@jupyter-widgets/controls",
          "model_name": "AccordionModel",
          "model_module_version": "1.5.0",
          "state": {
            "_view_name": "AccordionView",
            "_dom_classes": [],
            "_titles": {
              "0": "Options"
            },
            "_model_name": "AccordionModel",
            "_view_module": "@jupyter-widgets/controls",
            "selected_index": null,
            "_model_module_version": "1.5.0",
            "_view_count": null,
            "_view_module_version": "1.5.0",
            "box_style": "",
            "layout": "IPY_MODEL_1640ff859f744c2f8de7f91c85cfbcc1",
            "_model_module": "@jupyter-widgets/controls",
            "children": [
              "IPY_MODEL_2e1d268a9f044eee9d59a9efb4bf668b"
            ]
          }
        },
        "7cfad225a4184da39ea480a5750acc6c": {
          "model_module": "@jupyter-widgets/base",
          "model_name": "LayoutModel",
          "model_module_version": "1.2.0",
          "state": {
            "_view_name": "LayoutView",
            "grid_template_rows": null,
            "right": null,
            "justify_content": null,
            "_view_module": "@jupyter-widgets/base",
            "overflow": null,
            "_model_module_version": "1.2.0",
            "_view_count": null,
            "flex_flow": null,
            "width": null,
            "min_width": null,
            "border": null,
            "align_items": null,
            "bottom": null,
            "_model_module": "@jupyter-widgets/base",
            "top": null,
            "grid_column": null,
            "overflow_y": null,
            "overflow_x": null,
            "grid_auto_flow": null,
            "grid_area": null,
            "grid_template_columns": null,
            "flex": null,
            "_model_name": "LayoutModel",
            "justify_items": null,
            "grid_row": null,
            "max_height": null,
            "align_content": null,
            "visibility": null,
            "align_self": null,
            "height": null,
            "min_height": null,
            "padding": null,
            "grid_auto_rows": null,
            "grid_gap": null,
            "max_width": null,
            "order": null,
            "_view_module_version": "1.2.0",
            "grid_template_areas": null,
            "object_position": null,
            "object_fit": null,
            "grid_auto_columns": null,
            "margin": null,
            "display": null,
            "left": null
          }
        },
        "b4012a3b0e2544078339f71a868e19a8": {
          "model_module": "@jupyter-widgets/output",
          "model_name": "OutputModel",
          "model_module_version": "1.0.0",
          "state": {
            "_view_name": "OutputView",
            "msg_id": "",
            "_dom_classes": [],
            "_model_name": "OutputModel",
            "outputs": [],
            "_view_module": "@jupyter-widgets/output",
            "_model_module_version": "1.0.0",
            "_view_count": null,
            "_view_module_version": "1.0.0",
            "layout": "IPY_MODEL_85bae8757d2046dcb6d690cc99fdaeb9",
            "_model_module": "@jupyter-widgets/output"
          }
        },
        "76ba052bd2b349be8d6ff36029265c52": {
          "model_module": "@jupyter-widgets/output",
          "model_name": "OutputModel",
          "model_module_version": "1.0.0",
          "state": {
            "_view_name": "OutputView",
            "msg_id": "",
            "_dom_classes": [],
            "_model_name": "OutputModel",
            "outputs": [],
            "_view_module": "@jupyter-widgets/output",
            "_model_module_version": "1.0.0",
            "_view_count": null,
            "_view_module_version": "1.0.0",
            "layout": "IPY_MODEL_5f40e7696db94dbd829f91a432e8af78",
            "_model_module": "@jupyter-widgets/output"
          }
        },
        "a255bbb080364a06b84bd580719eb12f": {
          "model_module": "@jupyter-widgets/output",
          "model_name": "OutputModel",
          "model_module_version": "1.0.0",
          "state": {
            "_view_name": "OutputView",
            "msg_id": "",
            "_dom_classes": [],
            "_model_name": "OutputModel",
            "outputs": [],
            "_view_module": "@jupyter-widgets/output",
            "_model_module_version": "1.0.0",
            "_view_count": null,
            "_view_module_version": "1.0.0",
            "layout": "IPY_MODEL_be7b1859259c4ab482af9bfa47ef9a56",
            "_model_module": "@jupyter-widgets/output"
          }
        },
        "8976ada117294861b022f6d38ca11ba3": {
          "model_module": "@jupyter-widgets/base",
          "model_name": "LayoutModel",
          "model_module_version": "1.2.0",
          "state": {
            "_view_name": "LayoutView",
            "grid_template_rows": null,
            "right": null,
            "justify_content": null,
            "_view_module": "@jupyter-widgets/base",
            "overflow": null,
            "_model_module_version": "1.2.0",
            "_view_count": null,
            "flex_flow": null,
            "width": null,
            "min_width": null,
            "border": null,
            "align_items": null,
            "bottom": null,
            "_model_module": "@jupyter-widgets/base",
            "top": null,
            "grid_column": null,
            "overflow_y": null,
            "overflow_x": null,
            "grid_auto_flow": null,
            "grid_area": null,
            "grid_template_columns": null,
            "flex": null,
            "_model_name": "LayoutModel",
            "justify_items": null,
            "grid_row": null,
            "max_height": null,
            "align_content": null,
            "visibility": null,
            "align_self": null,
            "height": null,
            "min_height": null,
            "padding": null,
            "grid_auto_rows": null,
            "grid_gap": null,
            "max_width": null,
            "order": null,
            "_view_module_version": "1.2.0",
            "grid_template_areas": null,
            "object_position": null,
            "object_fit": null,
            "grid_auto_columns": null,
            "margin": null,
            "display": null,
            "left": null
          }
        },
        "5decad0be6e24a8c8faf25e0191ed586": {
          "model_module": "@jupyter-widgets/controls",
          "model_name": "HTMLModel",
          "model_module_version": "1.5.0",
          "state": {
            "_view_name": "HTMLView",
            "style": "IPY_MODEL_cf87d266e7624cba89f27a6dad2d6765",
            "_dom_classes": [],
            "description": "",
            "_model_name": "HTMLModel",
            "placeholder": "​",
            "_view_module": "@jupyter-widgets/controls",
            "_model_module_version": "1.5.0",
            "value": "<H2>Help</H2>",
            "_view_count": null,
            "_view_module_version": "1.5.0",
            "description_tooltip": null,
            "_model_module": "@jupyter-widgets/controls",
            "layout": "IPY_MODEL_9b8f3ce8eb514f5f8cfbc1e4e7a6d3e9"
          }
        },
        "badeb72209fd4e518083b1b90be8a86e": {
          "model_module": "@jupyter-widgets/controls",
          "model_name": "AccordionModel",
          "model_module_version": "1.5.0",
          "state": {
            "_view_name": "AccordionView",
            "_dom_classes": [],
            "_titles": {
              "0": "Machine Markdown",
              "1": "Options",
              "2": "Animations",
              "3": "Play Controls",
              "4": "Translation from JFlap"
            },
            "_model_name": "AccordionModel",
            "_view_module": "@jupyter-widgets/controls",
            "selected_index": null,
            "_model_module_version": "1.5.0",
            "_view_count": null,
            "_view_module_version": "1.5.0",
            "box_style": "",
            "layout": "IPY_MODEL_b518885614ee46058ab24056946c6fcb",
            "_model_module": "@jupyter-widgets/controls",
            "children": [
              "IPY_MODEL_5d9d883206b1477ebcbccdfcea82ab87",
              "IPY_MODEL_3e092feb010f4cb1a15f6bf38a75bb8b",
              "IPY_MODEL_cc9c9d065099477090d66ee691825e6e",
              "IPY_MODEL_7d37eebe3ace46ce8650f7255469a4f6",
              "IPY_MODEL_aa3f9c38ed2f45bbbd55178e2260dabf"
            ]
          }
        },
        "0a3cccb171f04e0c95c5d0e493d620f6": {
          "model_module": "@jupyter-widgets/base",
          "model_name": "LayoutModel",
          "model_module_version": "1.2.0",
          "state": {
            "_view_name": "LayoutView",
            "grid_template_rows": null,
            "right": null,
            "justify_content": null,
            "_view_module": "@jupyter-widgets/base",
            "overflow": null,
            "_model_module_version": "1.2.0",
            "_view_count": null,
            "flex_flow": null,
            "width": "100%",
            "min_width": null,
            "border": null,
            "align_items": null,
            "bottom": null,
            "_model_module": "@jupyter-widgets/base",
            "top": null,
            "grid_column": null,
            "overflow_y": null,
            "overflow_x": null,
            "grid_auto_flow": null,
            "grid_area": null,
            "grid_template_columns": null,
            "flex": null,
            "_model_name": "LayoutModel",
            "justify_items": null,
            "grid_row": null,
            "max_height": null,
            "align_content": "center",
            "visibility": null,
            "align_self": null,
            "height": null,
            "min_height": null,
            "padding": null,
            "grid_auto_rows": null,
            "grid_gap": null,
            "max_width": null,
            "order": null,
            "_view_module_version": "1.2.0",
            "grid_template_areas": null,
            "object_position": null,
            "object_fit": null,
            "grid_auto_columns": null,
            "margin": null,
            "display": null,
            "left": null
          }
        },
        "eea6211174354b079a39df68c9a50904": {
          "model_module": "@jupyter-widgets/controls",
          "model_name": "AccordionModel",
          "model_module_version": "1.5.0",
          "state": {
            "_view_name": "AccordionView",
            "_dom_classes": [],
            "_titles": {
              "0": "Save/Load"
            },
            "_model_name": "AccordionModel",
            "_view_module": "@jupyter-widgets/controls",
            "selected_index": null,
            "_model_module_version": "1.5.0",
            "_view_count": null,
            "_view_module_version": "1.5.0",
            "box_style": "",
            "layout": "IPY_MODEL_2b6a37fe7972421db837a6832410d326",
            "_model_module": "@jupyter-widgets/controls",
            "children": [
              "IPY_MODEL_fe1778e4b2e0472cb03bee56102a4d0f"
            ]
          }
        },
        "f914c5ae59364bca8971349857ffcdd8": {
          "model_module": "@jupyter-widgets/controls",
          "model_name": "ToggleButtonsModel",
          "model_module_version": "1.5.0",
          "state": {
            "_options_labels": [
              "DFA",
              "NFA",
              "PDA",
              "TM",
              "Translate"
            ],
            "_view_name": "ToggleButtonsView",
            "style": "IPY_MODEL_c4698958b68549d4a2c4be50b5e83c04",
            "_dom_classes": [],
            "description": "",
            "_model_name": "ToggleButtonsModel",
            "tooltips": [
              "Deterministic Finite Automata",
              "Non-deterministic Finite Automata",
              "Pushdown Automata",
              "Turing Machine",
              "Translation"
            ],
            "index": 0,
            "button_style": "info",
            "_view_module": "@jupyter-widgets/controls",
            "_model_module_version": "1.5.0",
            "_view_count": null,
            "disabled": false,
            "_view_module_version": "1.5.0",
            "icons": [],
            "description_tooltip": null,
            "_model_module": "@jupyter-widgets/controls",
            "layout": "IPY_MODEL_f8d45731ed9e43f191115dfdd36602ce"
          }
        },
        "1640ff859f744c2f8de7f91c85cfbcc1": {
          "model_module": "@jupyter-widgets/base",
          "model_name": "LayoutModel",
          "model_module_version": "1.2.0",
          "state": {
            "_view_name": "LayoutView",
            "grid_template_rows": null,
            "right": null,
            "justify_content": null,
            "_view_module": "@jupyter-widgets/base",
            "overflow": "hidden",
            "_model_module_version": "1.2.0",
            "_view_count": null,
            "flex_flow": null,
            "width": null,
            "min_width": null,
            "border": null,
            "align_items": null,
            "bottom": null,
            "_model_module": "@jupyter-widgets/base",
            "top": null,
            "grid_column": null,
            "overflow_y": null,
            "overflow_x": null,
            "grid_auto_flow": null,
            "grid_area": null,
            "grid_template_columns": null,
            "flex": null,
            "_model_name": "LayoutModel",
            "justify_items": null,
            "grid_row": null,
            "max_height": null,
            "align_content": null,
            "visibility": null,
            "align_self": null,
            "height": null,
            "min_height": null,
            "padding": null,
            "grid_auto_rows": null,
            "grid_gap": null,
            "max_width": null,
            "order": null,
            "_view_module_version": "1.2.0",
            "grid_template_areas": null,
            "object_position": null,
            "object_fit": null,
            "grid_auto_columns": null,
            "margin": null,
            "display": null,
            "left": null
          }
        },
        "2e1d268a9f044eee9d59a9efb4bf668b": {
          "model_module": "@jupyter-widgets/controls",
          "model_name": "GridBoxModel",
          "model_module_version": "1.5.0",
          "state": {
            "_view_name": "GridBoxView",
            "_dom_classes": [],
            "_model_name": "GridBoxModel",
            "_view_module": "@jupyter-widgets/controls",
            "_model_module_version": "1.5.0",
            "_view_count": null,
            "_view_module_version": "1.5.0",
            "box_style": "",
            "layout": "IPY_MODEL_d714cb26bf6c49e1aca99126b9ef8ee2",
            "_model_module": "@jupyter-widgets/controls",
            "children": [
              "IPY_MODEL_33c7ed4a774b4655bd46f9287d90a842",
              "IPY_MODEL_5caecf57a6894a2daabc49a1f7aecc3e",
              "IPY_MODEL_5b4cadfa3ed84d1eb268164b8c1342fc",
              "IPY_MODEL_5e9a9582fc544a96915f42c79d1ed7a9",
              "IPY_MODEL_cec1840d451c4479bd18eaa832a62d2f",
              "IPY_MODEL_79b25d867a48474b9a74897101bf779f",
              "IPY_MODEL_a3b60a19b7954904acc9b1af9989b608",
              "IPY_MODEL_6acbdb27af8b40249983d6b569a1282d",
              "IPY_MODEL_be65bf3c8edd42b8b91e059aef638d75",
              "IPY_MODEL_8e448fc56a3641d4bde9dbdd4e9220b6",
              "IPY_MODEL_f89156546ac845dbac596ec2c5a30faa",
              "IPY_MODEL_5636294d74464b749cdaa340935f15ca"
            ]
          }
        },
        "cf87d266e7624cba89f27a6dad2d6765": {
          "model_module": "@jupyter-widgets/controls",
          "model_name": "DescriptionStyleModel",
          "model_module_version": "1.5.0",
          "state": {
            "_view_name": "StyleView",
            "_model_name": "DescriptionStyleModel",
            "description_width": "",
            "_view_module": "@jupyter-widgets/base",
            "_model_module_version": "1.5.0",
            "_view_count": null,
            "_view_module_version": "1.2.0",
            "_model_module": "@jupyter-widgets/controls"
          }
        },
        "9b8f3ce8eb514f5f8cfbc1e4e7a6d3e9": {
          "model_module": "@jupyter-widgets/base",
          "model_name": "LayoutModel",
          "model_module_version": "1.2.0",
          "state": {
            "_view_name": "LayoutView",
            "grid_template_rows": null,
            "right": null,
            "justify_content": null,
            "_view_module": "@jupyter-widgets/base",
            "overflow": null,
            "_model_module_version": "1.2.0",
            "_view_count": null,
            "flex_flow": null,
            "width": null,
            "min_width": null,
            "border": null,
            "align_items": null,
            "bottom": null,
            "_model_module": "@jupyter-widgets/base",
            "top": null,
            "grid_column": null,
            "overflow_y": null,
            "overflow_x": null,
            "grid_auto_flow": null,
            "grid_area": null,
            "grid_template_columns": null,
            "flex": null,
            "_model_name": "LayoutModel",
            "justify_items": null,
            "grid_row": null,
            "max_height": null,
            "align_content": null,
            "visibility": null,
            "align_self": null,
            "height": null,
            "min_height": null,
            "padding": null,
            "grid_auto_rows": null,
            "grid_gap": null,
            "max_width": null,
            "order": null,
            "_view_module_version": "1.2.0",
            "grid_template_areas": null,
            "object_position": null,
            "object_fit": null,
            "grid_auto_columns": null,
            "margin": null,
            "display": null,
            "left": null
          }
        },
        "b518885614ee46058ab24056946c6fcb": {
          "model_module": "@jupyter-widgets/base",
          "model_name": "LayoutModel",
          "model_module_version": "1.2.0",
          "state": {
            "_view_name": "LayoutView",
            "grid_template_rows": null,
            "right": null,
            "justify_content": null,
            "_view_module": "@jupyter-widgets/base",
            "overflow": null,
            "_model_module_version": "1.2.0",
            "_view_count": null,
            "flex_flow": null,
            "width": null,
            "min_width": null,
            "border": null,
            "align_items": null,
            "bottom": null,
            "_model_module": "@jupyter-widgets/base",
            "top": null,
            "grid_column": null,
            "overflow_y": null,
            "overflow_x": null,
            "grid_auto_flow": null,
            "grid_area": null,
            "grid_template_columns": null,
            "flex": null,
            "_model_name": "LayoutModel",
            "justify_items": null,
            "grid_row": null,
            "max_height": null,
            "align_content": null,
            "visibility": null,
            "align_self": null,
            "height": null,
            "min_height": null,
            "padding": null,
            "grid_auto_rows": null,
            "grid_gap": null,
            "max_width": null,
            "order": null,
            "_view_module_version": "1.2.0",
            "grid_template_areas": null,
            "object_position": null,
            "object_fit": null,
            "grid_auto_columns": null,
            "margin": null,
            "display": null,
            "left": null
          }
        },
        "5d9d883206b1477ebcbccdfcea82ab87": {
          "model_module": "@jupyter-widgets/controls",
          "model_name": "HTMLModel",
          "model_module_version": "1.5.0",
          "state": {
            "_view_name": "HTMLView",
            "style": "IPY_MODEL_9c163c6f0ea1490096081a24a8085d20",
            "_dom_classes": [],
            "description": "",
            "_model_name": "HTMLModel",
            "placeholder": "​",
            "_view_module": "@jupyter-widgets/controls",
            "_model_module_version": "1.5.0",
            "value": "<H4>General</H4>\nThe markdown for specifying a machine using Jove is similar for all machine types. You just need to write a series of\nrules that define the transitions between the states in the machine. These rules all share the same base pattern: </br>\n<code>&lt;From State&gt; : &lt;Transition Condition&gt; &minus;&gt; &lt;To State&gt;</code> </br>\nWith the additional constraints: </br>\n<ul>\n  <li>Initial state names must start with an <code>I</code> </li>\n  <li>Final state names must start with a <code>F</code> </li>\n  <li>States that are both initial and final must have a name that starts with <code>IF</code> </li>\n  <li><code>!!</code> start a line comment, anything after the <code>!!</code> will be ignored by the parser </li>\n  <li><code>''</code> stands for 'epsilon', a zero-length string and can be used in NFA and PDA as noted below </li>\n</ul>\nAs an example, if we wanted to create a rule for a DFA that starts in initial state <code>I_start</code> and goes to \nfinal state <code>F_end</code> when a <code>0</code> is consumed the rule would be: </br>\n<code>I_start : 0 &minus;&gt; F_end</code> </br>\nIf there is more than one transition condition between the same From and To states you can combine rules using a \n<code>&vert;</code> separated list of transitions. For two transitions the pattern is: </br>\n<code>&lt;From State&gt; : &lt;Transition Condition 1&gt; &vert; &lt;Transition Condition 2&gt; &minus;&gt; &lt;To State&gt;</code> \n</br>\nSo, if we added a second rule that starts in initial state <code>I_start</code> and goes to final state \n<code>F_end</code> when a <code>1</code> is consumed &lpar;<code>I_start : 1 &minus;&gt; F_end</code>&rpar; then the \ncombined rule would be: </br>\n<code>I_start : 0 &vert; 1 &minus;&gt; F_end</code> </br>\n<b>Note:</b> Whitespace in a line &lpar;space and tab&rpar; is ignored by the parser, so format your rules in a way \nthat makes them easy to read and add plenty of comments </br>\n\n<H4>Deterministic Finite Automata (DFA)</H4>\n<code>&lt;from state&gt; : &lt;input symbol&gt; &minus;&gt; &lt;to state&gt;  !! comment </code></br>\nex: <code>I : 0 &minus;&gt; A</code> </br>\n\n<H4>Non-Deterministic Finite Automata (NFA)</H4>\nNFA can have <code>''</code> transitions in addition to transitions that consume input symbols. \n<code>&lt;from state&gt; : &lt;input symbol or ''&gt; &minus;&gt; &lt;to state&gt;  !! comment</code> </br>\nex: <code>I : 0 &minus;&gt; A</code> </br>\nNFA are the only machine type in Jove that can have multiple initial states, remember that each of the initial state \nnames must start with an <code>I</code>. </br>\n\n<H4>Pushdown Automata (PDA)</H4>\nPDA transitions have three parts:\n<ol>\n  <li>Input symbol to consume</li>\n  <li>Symbol popped from the stack</li>\n  <li>Symbol&lpar;s&rpar; to push onto the stack</li>  \n</ol>\nBy default, PDA have a <code>#</code> marker at the bottom of the stack so that it is easy to check if the stack is \nempty. You are not <i>required</i> to replace the <code>#</code> marker when it is popped off the stack but it is best \npractice to make sure it is always on the stack. </br>\nPDA can have <code>''</code> transitions that: do not consume an input symbol, do not pop from the stack, do not push \nto the stack, or any combination of the the three.\n<code>&lt;from state&gt; : &lt;consume input symbol or ''&gt; , &lt;pop stack symbol or ''&gt; ; &lt;push stack symbol&lpar;s&rpar; or ''&gt; &minus;&gt; &lt;to state&gt;  !! comment</code> </br>\nex: <code>I : 0 , # ; 0# &minus;&gt; A</code> </br>\n\n<H4>Turing Machines (TM)</H4>\nTuring Machine transitions have three parts:\n<ol>\n  <li>Symbol to read from the tape</li>\n  <li>Symbol to write on the tape</li>\n  <li>Head movement &lpar;L - move left, R - move right, S - stay put&rpar;</li>  \n</ol>\nJove Turing Machines use <code>.</code> to denote a blank position on the tape and all positions to the left and right \nof the initial input contain <code>.</code>. </br>\n<code>&lt;from state&gt; : &ltread from tape&gt; ; &lt;write to tape&gt; , &lt;head move &lpar;L,R,S&rpar;&gt; &minus;&gt; &lt;to state&gt;  !! comment</code> </br>\nex: <code>I : 0 ; B , R &minus;&gt; A</code> </br>",
            "_view_count": null,
            "_view_module_version": "1.5.0",
            "description_tooltip": null,
            "_model_module": "@jupyter-widgets/controls",
            "layout": "IPY_MODEL_bd56ceb33a3a42d7ab4aae332336a7b3"
          }
        },
        "3e092feb010f4cb1a15f6bf38a75bb8b": {
          "model_module": "@jupyter-widgets/controls",
          "model_name": "HTMLModel",
          "model_module_version": "1.5.0",
          "state": {
            "_view_name": "HTMLView",
            "style": "IPY_MODEL_0437ab7cf9804bb1bb1a46b58487d81b",
            "_dom_classes": [],
            "description": "",
            "_model_name": "HTMLModel",
            "placeholder": "​",
            "_view_module": "@jupyter-widgets/controls",
            "_model_module_version": "1.5.0",
            "value": "There are three color pickers to let you control the colors used in the animations: </br>\n<ul>\n    <li><b>Acceptance:</b> Indicates the machine stopped in an accepting state</li>\n    <li><b>Rejection:</b> Indicates the machine stopped in a rejecting state</li>\n    <li><b>Transition:</b> This color is used to highlight the edges and nodes that are visited while the input string is \n    consumed</li>\n</ul>\n</br>\n<b>Fuse Edges:</b> Controls whether edges between states are drawn individually. If selected, only one directed edge is \ndrawn between state pairs and the transition labels are stacked above. This often helps simplify machine visualization. \n</br>\n<b>Max Draw Size:</b> The maximum width of the animation widget in inches. The purpose of this control is to prevent \nlarge visualizations from extending outside the area that the animation widget can draw, which forces the area to become \nscrollable. \n</br>\n<b>Alternate Start (DFA and NFA):</b> If selected, an additionaly control is added at the top of the animation that \nallows you to select the state (DFA) or set of states (NFA) that the machine starts in. For DFA the control is a \ndropdown box. For NFA the control is a multiselct box, select multiple state names using <code>Ctrl + Click</code> \n(Windows) or <code>Shift + Click</code> (Mac).\n</br>\n<b>Show Rejected (TM):</b> If selected, the path dropdown box will also include rejected paths that were explored by \nthe TM.\n</br>\n<b>Max Stack Size (PDA):</b> Controls the maximum stack size that can be picked using the 'Stack Size' slider. The \nslider default value is always 6.",
            "_view_count": null,
            "_view_module_version": "1.5.0",
            "description_tooltip": null,
            "_model_module": "@jupyter-widgets/controls",
            "layout": "IPY_MODEL_306657ed9b0d4608a8ffa701591313c2"
          }
        },
        "cc9c9d065099477090d66ee691825e6e": {
          "model_module": "@jupyter-widgets/controls",
          "model_name": "HTMLModel",
          "model_module_version": "1.5.0",
          "state": {
            "_view_name": "HTMLView",
            "style": "IPY_MODEL_d9fa66ee8781440c8eaf414db66a766e",
            "_dom_classes": [],
            "description": "",
            "_model_name": "HTMLModel",
            "placeholder": "​",
            "_view_module": "@jupyter-widgets/controls",
            "_model_module_version": "1.5.0",
            "value": "<H4>General</H4>\nYou can enter a string for the machine to consume in the 'Input:' text box at the top of the widget. The string must be \ncomposed of symbols in the machine's alphabet which is displayed in input box by default. If the string contains \nunknown symbols the 'Animate' button will turn red with the message 'Invalid Input' until the string is updated.\n</br></br>\nClick the 'Animate' button when you are ready for the machine to animate using your input. This disables the input \ntextbox and enables the play controls at the bottom of the widget. When you are done exploring the current input click \nthe 'Change Input' button to disable the play controls and re-enable the input textbox.\n</br>\n\n<H4>Deterministic Finite Automata (DFA)</H4>\nIf the 'Alternate Start' option is selected, a dropdown box is added to the controls at the top of the widget that \nallows you to pick which state the DFA starts in when consuming the input.\n</br>\n<H4>Non-Deterministic Finite Automata (NFA)</H4>\nIf the 'Alternate Start' option is selected, a multiselect box is added to the controls at the top of the widget that \nallows you to pick which set of states the NFA starts in when consuming the input. Select multiple state names using \n<code>Ctrl + Click</code> (Windows) or <code>Shift + Click</code> (Mac).\n</br>\n<H4>Pushdown Automata (PDA)</H4>\nThis widget has two additional controls at the top. The 'Acceptance' dropdown lets you choose the acceptance \ncriteria used when animating the PDA. 'State' will accept paths where the machine is in a final state when the input \nhas been consumed. 'Stack' will accept paths where the stack is empty when the input has been consumed. Use the 'Stack \nSize' slider to changes the stack size used when looking for accepting paths.\n</br></br>\nThe 'Path' dropdown box at the bottom of the widget will be populated with one option for each accepting path found for \nthe provided input. If no accepting path is found the graph will highlight red and a message displays confirming the \ninput was rejected.\n</br>\n<H4>Turing Machines (TM)</H4>\nThe 'Fuel' spinner box at the top of this widget can be used to increase the number of steps the machine is allowed to \ntake while searching for an accepting path. This forces the machine to stop in a finite amount of time. \n</br></br>\nThe dropdown box at the bottom of the widget is populated with all accepting paths found for the provided input. If \nthe 'Show Rejected' option is selected the dropdown will also include animations for the rejected paths that the TM \nsearched.",
            "_view_count": null,
            "_view_module_version": "1.5.0",
            "description_tooltip": null,
            "_model_module": "@jupyter-widgets/controls",
            "layout": "IPY_MODEL_4edcd683d30a40a2813583c4c0b92010"
          }
        },
        "7d37eebe3ace46ce8650f7255469a4f6": {
          "model_module": "@jupyter-widgets/controls",
          "model_name": "HTMLModel",
          "model_module_version": "1.5.0",
          "state": {
            "_view_name": "HTMLView",
            "style": "IPY_MODEL_f6915d664fae41618c78c733df262bef",
            "_dom_classes": [],
            "description": "",
            "_model_name": "HTMLModel",
            "placeholder": "​",
            "_view_module": "@jupyter-widgets/controls",
            "_model_module_version": "1.5.0",
            "value": "You can enter a string for the machine to consume in the 'Input:' text box at the top of the widget. The string must be \ncomposed of symbols in the machine's alphabet which is displayed in input box by default. If the string contains unknown \nsymbols the 'Animate' button will turn red with the message 'Invalid Input' until the string is updated. \n</br></br>\nClick the 'Animate' button when you are ready for the machine to animate using your input. This disables the input \ntextbox and enables the play controls at the bottom of the widget. When you are done exploring the current input click \nthe 'Change Input' button to disable the play controls and re-enable the input textbox.\n</br></br>\nThe play controls at the bottom of the widget (from left to right) consist of: </br>\n<ul>\n    <li><b>Play :</b> play/resume the animation</li>\n    <li><b>Pause :</b> pause the animation</li>\n    <li><b>Stop :</b> stop the animation, play will start from the beginning</li>\n    <li><b>Loop :</b> loop when the end of the animation is reached and continue playing from the beginning</li>\n    <li><b>Step Backward :</b> take one 'step' backward in the animation</li>\n    <li><b>Step Forward :</b> take one 'step' forward in the animation</li>\n    <li><b>Speed :</b> this slider lets you increase the animation playback speed</li>\n</ul>",
            "_view_count": null,
            "_view_module_version": "1.5.0",
            "description_tooltip": null,
            "_model_module": "@jupyter-widgets/controls",
            "layout": "IPY_MODEL_fcef6c6b7eab40809e0ec24f69933377"
          }
        },
        "aa3f9c38ed2f45bbbd55178e2260dabf": {
          "model_module": "@jupyter-widgets/controls",
          "model_name": "HTMLModel",
          "model_module_version": "1.5.0",
          "state": {
            "_view_name": "HTMLView",
            "style": "IPY_MODEL_12d9113f33db4e2fa7c7853a04d1907b",
            "_dom_classes": [],
            "description": "",
            "_model_name": "HTMLModel",
            "placeholder": "​",
            "_view_module": "@jupyter-widgets/controls",
            "_model_module_version": "1.5.0",
            "value": "You can translate JFlap files to Jove machines using this Jove Editor.\n<ul>\n  <li><b>Load a JFlap file</b> - Open the 'Save/Load' menu and click 'Load'. Use the file dialog to select a JFlap \n  file with the '.jff' extension. When the file is loaded the text over the two textareas will indicate the machine type \n  of the translated machine. The translated machine will be displayed in the left textarea and the translated rules \n  will be displayed in the right textarea. The required prefixes for initial and final state names are automatically \n  added.</li>\n  <li><b>Edit</b> - If you want to make changes to the machine, make your edits to the rules and add comments in the \n  right textarea.</li>\n  <li><b>Animate</b> - Switch to the 'Animate' tab to see the animation for the translated machine. Any edits made in \n  the right textarea will also be part of the animation.</li>\n  <li><b>Save</b> - Save your translated machine using the 'Save/Load' menu. The changes and comments made in the \n  right textarea will be saved.</li>\n</ul>\n<p><b><em>Note:</em></b> Jove Editor does not force JFlap state names to conform to Jove Markdown, so initial and \nfinal states may break the Jove Markdown convention. Animations should still work on these machines.</p>",
            "_view_count": null,
            "_view_module_version": "1.5.0",
            "description_tooltip": null,
            "_model_module": "@jupyter-widgets/controls",
            "layout": "IPY_MODEL_4dab607e77df439caf34a5f3d9227d5c"
          }
        },
        "2b6a37fe7972421db837a6832410d326": {
          "model_module": "@jupyter-widgets/base",
          "model_name": "LayoutModel",
          "model_module_version": "1.2.0",
          "state": {
            "_view_name": "LayoutView",
            "grid_template_rows": null,
            "right": null,
            "justify_content": null,
            "_view_module": "@jupyter-widgets/base",
            "overflow": null,
            "_model_module_version": "1.2.0",
            "_view_count": null,
            "flex_flow": null,
            "width": null,
            "min_width": null,
            "border": null,
            "align_items": null,
            "bottom": null,
            "_model_module": "@jupyter-widgets/base",
            "top": null,
            "grid_column": null,
            "overflow_y": null,
            "overflow_x": null,
            "grid_auto_flow": null,
            "grid_area": null,
            "grid_template_columns": null,
            "flex": null,
            "_model_name": "LayoutModel",
            "justify_items": null,
            "grid_row": null,
            "max_height": null,
            "align_content": null,
            "visibility": null,
            "align_self": null,
            "height": null,
            "min_height": null,
            "padding": null,
            "grid_auto_rows": null,
            "grid_gap": null,
            "max_width": null,
            "order": null,
            "_view_module_version": "1.2.0",
            "grid_template_areas": null,
            "object_position": null,
            "object_fit": null,
            "grid_auto_columns": null,
            "margin": null,
            "display": null,
            "left": null
          }
        },
        "fe1778e4b2e0472cb03bee56102a4d0f": {
          "model_module": "@jupyter-widgets/controls",
          "model_name": "VBoxModel",
          "model_module_version": "1.5.0",
          "state": {
            "_view_name": "VBoxView",
            "_dom_classes": [],
            "_model_name": "VBoxModel",
            "_view_module": "@jupyter-widgets/controls",
            "_model_module_version": "1.5.0",
            "_view_count": null,
            "_view_module_version": "1.5.0",
            "box_style": "",
            "layout": "IPY_MODEL_90c773ea89304fa7999acaafedf8f30f",
            "_model_module": "@jupyter-widgets/controls",
            "children": [
              "IPY_MODEL_fa401e13635a4d69974fc8f9df8d4a44",
              "IPY_MODEL_87cf165b324b4c5cb06a8720de80f283",
              "IPY_MODEL_612a9616ae6f4e47ba4e3f892aaa5044",
              "IPY_MODEL_95ada192aa164fe5b0a75baf1bc4bf71"
            ]
          }
        },
        "c4698958b68549d4a2c4be50b5e83c04": {
          "model_module": "@jupyter-widgets/controls",
          "model_name": "ToggleButtonsStyleModel",
          "model_module_version": "1.5.0",
          "state": {
            "_view_name": "StyleView",
            "button_width": "120px",
            "_model_name": "ToggleButtonsStyleModel",
            "description_width": "",
            "_view_module": "@jupyter-widgets/base",
            "_model_module_version": "1.5.0",
            "_view_count": null,
            "font_weight": "",
            "_view_module_version": "1.2.0",
            "_model_module": "@jupyter-widgets/controls"
          }
        },
        "f8d45731ed9e43f191115dfdd36602ce": {
          "model_module": "@jupyter-widgets/base",
          "model_name": "LayoutModel",
          "model_module_version": "1.2.0",
          "state": {
            "_view_name": "LayoutView",
            "grid_template_rows": null,
            "right": null,
            "justify_content": null,
            "_view_module": "@jupyter-widgets/base",
            "overflow": null,
            "_model_module_version": "1.2.0",
            "_view_count": null,
            "flex_flow": null,
            "width": null,
            "min_width": null,
            "border": null,
            "align_items": null,
            "bottom": null,
            "_model_module": "@jupyter-widgets/base",
            "top": null,
            "grid_column": null,
            "overflow_y": null,
            "overflow_x": null,
            "grid_auto_flow": null,
            "grid_area": null,
            "grid_template_columns": null,
            "flex": null,
            "_model_name": "LayoutModel",
            "justify_items": null,
            "grid_row": null,
            "max_height": null,
            "align_content": null,
            "visibility": null,
            "align_self": null,
            "height": null,
            "min_height": null,
            "padding": null,
            "grid_auto_rows": null,
            "grid_gap": null,
            "max_width": null,
            "order": null,
            "_view_module_version": "1.2.0",
            "grid_template_areas": null,
            "object_position": null,
            "object_fit": null,
            "grid_auto_columns": null,
            "margin": null,
            "display": null,
            "left": null
          }
        },
        "d714cb26bf6c49e1aca99126b9ef8ee2": {
          "model_module": "@jupyter-widgets/base",
          "model_name": "LayoutModel",
          "model_module_version": "1.2.0",
          "state": {
            "_view_name": "LayoutView",
            "grid_template_rows": "repeat(4, 1fr)",
            "right": null,
            "justify_content": null,
            "_view_module": "@jupyter-widgets/base",
            "overflow": null,
            "_model_module_version": "1.2.0",
            "_view_count": null,
            "flex_flow": null,
            "width": null,
            "min_width": null,
            "border": null,
            "align_items": null,
            "bottom": null,
            "_model_module": "@jupyter-widgets/base",
            "top": null,
            "grid_column": null,
            "overflow_y": null,
            "overflow_x": null,
            "grid_auto_flow": null,
            "grid_area": null,
            "grid_template_columns": "repeat(3, 1fr)",
            "flex": null,
            "_model_name": "LayoutModel",
            "justify_items": null,
            "grid_row": null,
            "max_height": null,
            "align_content": null,
            "visibility": null,
            "align_self": null,
            "height": null,
            "min_height": null,
            "padding": null,
            "grid_auto_rows": null,
            "grid_gap": "5px",
            "max_width": null,
            "order": null,
            "_view_module_version": "1.2.0",
            "grid_template_areas": "\"widget001 widget005 widget009\"\n\"widget002 widget006 widget010\"\n\"widget003 widget007 widget011\"\n\"widget004 widget008 widget012\"",
            "object_position": null,
            "object_fit": null,
            "grid_auto_columns": null,
            "margin": null,
            "display": null,
            "left": null
          }
        },
        "33c7ed4a774b4655bd46f9287d90a842": {
          "model_module": "@jupyter-widgets/controls",
          "model_name": "LabelModel",
          "model_module_version": "1.5.0",
          "state": {
            "_view_name": "LabelView",
            "style": "IPY_MODEL_f1c612d8c8574cd1a82babe8f970833d",
            "_dom_classes": [],
            "description": "",
            "_model_name": "LabelModel",
            "placeholder": "​",
            "_view_module": "@jupyter-widgets/controls",
            "_model_module_version": "1.5.0",
            "value": "Animation Colors:",
            "_view_count": null,
            "_view_module_version": "1.5.0",
            "description_tooltip": null,
            "_model_module": "@jupyter-widgets/controls",
            "layout": "IPY_MODEL_8dce29df73b047f4b17b326a5dd0633f"
          }
        },
        "5caecf57a6894a2daabc49a1f7aecc3e": {
          "model_module": "@jupyter-widgets/controls",
          "model_name": "ColorPickerModel",
          "model_module_version": "1.5.0",
          "state": {
            "_view_name": "ColorPickerView",
            "style": "IPY_MODEL_c47a5d502f8749cb9492e8838a206536",
            "_dom_classes": [],
            "description": "Acceptance",
            "_model_name": "ColorPickerModel",
            "_view_module": "@jupyter-widgets/controls",
            "_model_module_version": "1.5.0",
            "value": "#66cd00",
            "_view_count": null,
            "disabled": false,
            "_view_module_version": "1.5.0",
            "description_tooltip": null,
            "_model_module": "@jupyter-widgets/controls",
            "concise": true,
            "layout": "IPY_MODEL_d05b9a8642a1458fb42fa0f40d0d3fa2"
          }
        },
        "5b4cadfa3ed84d1eb268164b8c1342fc": {
          "model_module": "@jupyter-widgets/controls",
          "model_name": "ColorPickerModel",
          "model_module_version": "1.5.0",
          "state": {
            "_view_name": "ColorPickerView",
            "style": "IPY_MODEL_c37a1ae480eb47c0b53f97573de3e19e",
            "_dom_classes": [],
            "description": "Rejection",
            "_model_name": "ColorPickerModel",
            "_view_module": "@jupyter-widgets/controls",
            "_model_module_version": "1.5.0",
            "value": "#ff0000",
            "_view_count": null,
            "disabled": false,
            "_view_module_version": "1.5.0",
            "description_tooltip": null,
            "_model_module": "@jupyter-widgets/controls",
            "concise": true,
            "layout": "IPY_MODEL_37f13f663bc34d27b3f2eaa23b6841a0"
          }
        },
        "5e9a9582fc544a96915f42c79d1ed7a9": {
          "model_module": "@jupyter-widgets/controls",
          "model_name": "ColorPickerModel",
          "model_module_version": "1.5.0",
          "state": {
            "_view_name": "ColorPickerView",
            "style": "IPY_MODEL_ab2198f70df9454cb0d5acee8e1f135f",
            "_dom_classes": [],
            "description": "Transition",
            "_model_name": "ColorPickerModel",
            "_view_module": "@jupyter-widgets/controls",
            "_model_module_version": "1.5.0",
            "value": "#1c86ee",
            "_view_count": null,
            "disabled": false,
            "_view_module_version": "1.5.0",
            "description_tooltip": null,
            "_model_module": "@jupyter-widgets/controls",
            "concise": true,
            "layout": "IPY_MODEL_7403fd14de4c4bb1a72f3d2cd035d01e"
          }
        },
        "cec1840d451c4479bd18eaa832a62d2f": {
          "model_module": "@jupyter-widgets/controls",
          "model_name": "ToggleButtonModel",
          "model_module_version": "1.5.0",
          "state": {
            "_view_name": "ToggleButtonView",
            "style": "IPY_MODEL_a19062ef461e46c8be02f2984ec8743a",
            "_dom_classes": [],
            "description": "Fuse Edges",
            "_model_name": "ToggleButtonModel",
            "button_style": "info",
            "_view_module": "@jupyter-widgets/controls",
            "_model_module_version": "1.5.0",
            "tooltip": "Fuse machine edges",
            "_view_count": null,
            "disabled": false,
            "_view_module_version": "1.5.0",
            "value": true,
            "description_tooltip": null,
            "_model_module": "@jupyter-widgets/controls",
            "layout": "IPY_MODEL_1236f3e54a1e4a9f84b0cb761b20d3a1",
            "icon": ""
          }
        },
        "79b25d867a48474b9a74897101bf779f": {
          "model_module": "@jupyter-widgets/controls",
          "model_name": "BoundedFloatTextModel",
          "model_module_version": "1.5.0",
          "state": {
            "_view_name": "FloatTextView",
            "style": "IPY_MODEL_96b8bd30e0024c6c94e533795c5d5dc7",
            "_dom_classes": [],
            "description": "Max Draw Size",
            "_model_name": "BoundedFloatTextModel",
            "max": 1000,
            "_view_module": "@jupyter-widgets/controls",
            "_model_module_version": "1.5.0",
            "value": 9.5,
            "_view_count": null,
            "disabled": false,
            "_view_module_version": "1.5.0",
            "min": 1,
            "continuous_update": false,
            "step": 0.1,
            "description_tooltip": null,
            "_model_module": "@jupyter-widgets/controls",
            "layout": "IPY_MODEL_a554ee9baf3144b5a0004538d7560187"
          }
        },
        "a3b60a19b7954904acc9b1af9989b608": {
          "model_module": "@jupyter-widgets/controls",
          "model_name": "LabelModel",
          "model_module_version": "1.5.0",
          "state": {
            "_view_name": "LabelView",
            "style": "IPY_MODEL_84a84f1da5194421b33d8b650c19dd34",
            "_dom_classes": [],
            "description": "",
            "_model_name": "LabelModel",
            "placeholder": "​",
            "_view_module": "@jupyter-widgets/controls",
            "_model_module_version": "1.5.0",
            "value": "Finite Automata:",
            "_view_count": null,
            "_view_module_version": "1.5.0",
            "description_tooltip": null,
            "_model_module": "@jupyter-widgets/controls",
            "layout": "IPY_MODEL_8522f2ad8af349c189c7e4cb58fb8d84"
          }
        },
        "6acbdb27af8b40249983d6b569a1282d": {
          "model_module": "@jupyter-widgets/controls",
          "model_name": "ToggleButtonModel",
          "model_module_version": "1.5.0",
          "state": {
            "_view_name": "ToggleButtonView",
            "style": "IPY_MODEL_d0ef3d3b0531491897ecf929a59fbadc",
            "_dom_classes": [],
            "description": "Alternate Start",
            "_model_name": "ToggleButtonModel",
            "button_style": "info",
            "_view_module": "@jupyter-widgets/controls",
            "_model_module_version": "1.5.0",
            "tooltip": "Pick the starting state (DFA and NFA only)",
            "_view_count": null,
            "disabled": false,
            "_view_module_version": "1.5.0",
            "value": false,
            "description_tooltip": null,
            "_model_module": "@jupyter-widgets/controls",
            "layout": "IPY_MODEL_8dfc9277a8904a83bc0aca3254cf7a06",
            "icon": ""
          }
        },
        "be65bf3c8edd42b8b91e059aef638d75": {
          "model_module": "@jupyter-widgets/controls",
          "model_name": "LabelModel",
          "model_module_version": "1.5.0",
          "state": {
            "_view_name": "LabelView",
            "style": "IPY_MODEL_a95d626501b94c31ba31dd089b29da62",
            "_dom_classes": [],
            "description": "",
            "_model_name": "LabelModel",
            "placeholder": "​",
            "_view_module": "@jupyter-widgets/controls",
            "_model_module_version": "1.5.0",
            "value": "Turing Machine:",
            "_view_count": null,
            "_view_module_version": "1.5.0",
            "description_tooltip": null,
            "_model_module": "@jupyter-widgets/controls",
            "layout": "IPY_MODEL_c630c90dcae644148cb0d2769705f432"
          }
        },
        "8e448fc56a3641d4bde9dbdd4e9220b6": {
          "model_module": "@jupyter-widgets/controls",
          "model_name": "ToggleButtonModel",
          "model_module_version": "1.5.0",
          "state": {
            "_view_name": "ToggleButtonView",
            "style": "IPY_MODEL_dd2c2d3f2c6e4fd498e3147f73689e91",
            "_dom_classes": [],
            "description": "Show Rejected",
            "_model_name": "ToggleButtonModel",
            "button_style": "info",
            "_view_module": "@jupyter-widgets/controls",
            "_model_module_version": "1.5.0",
            "tooltip": "Show rejected paths (TM only)",
            "_view_count": null,
            "disabled": false,
            "_view_module_version": "1.5.0",
            "value": false,
            "description_tooltip": null,
            "_model_module": "@jupyter-widgets/controls",
            "layout": "IPY_MODEL_993b47e171b34618a4ac6c7412a0a8cc",
            "icon": ""
          }
        },
        "f89156546ac845dbac596ec2c5a30faa": {
          "model_module": "@jupyter-widgets/controls",
          "model_name": "LabelModel",
          "model_module_version": "1.5.0",
          "state": {
            "_view_name": "LabelView",
            "style": "IPY_MODEL_95129177b5fc4dffb09ffa779a45f849",
            "_dom_classes": [],
            "description": "",
            "_model_name": "LabelModel",
            "placeholder": "​",
            "_view_module": "@jupyter-widgets/controls",
            "_model_module_version": "1.5.0",
            "value": "Pushdown Automata:",
            "_view_count": null,
            "_view_module_version": "1.5.0",
            "description_tooltip": null,
            "_model_module": "@jupyter-widgets/controls",
            "layout": "IPY_MODEL_4c64279d383240e0a437e0f867b6cc95"
          }
        },
        "5636294d74464b749cdaa340935f15ca": {
          "model_module": "@jupyter-widgets/controls",
          "model_name": "BoundedIntTextModel",
          "model_module_version": "1.5.0",
          "state": {
            "_view_name": "IntTextView",
            "style": "IPY_MODEL_71ffb2bf15af484888476eac229f835c",
            "_dom_classes": [],
            "description": "Max Stack Size",
            "_model_name": "BoundedIntTextModel",
            "max": 1000,
            "_view_module": "@jupyter-widgets/controls",
            "_model_module_version": "1.5.0",
            "value": 30,
            "_view_count": null,
            "disabled": false,
            "_view_module_version": "1.5.0",
            "min": 0,
            "continuous_update": false,
            "step": 1,
            "description_tooltip": null,
            "_model_module": "@jupyter-widgets/controls",
            "layout": "IPY_MODEL_5193249962874bb2a871d5a95aa753a5"
          }
        },
        "9c163c6f0ea1490096081a24a8085d20": {
          "model_module": "@jupyter-widgets/controls",
          "model_name": "DescriptionStyleModel",
          "model_module_version": "1.5.0",
          "state": {
            "_view_name": "StyleView",
            "_model_name": "DescriptionStyleModel",
            "description_width": "",
            "_view_module": "@jupyter-widgets/base",
            "_model_module_version": "1.5.0",
            "_view_count": null,
            "_view_module_version": "1.2.0",
            "_model_module": "@jupyter-widgets/controls"
          }
        },
        "bd56ceb33a3a42d7ab4aae332336a7b3": {
          "model_module": "@jupyter-widgets/base",
          "model_name": "LayoutModel",
          "model_module_version": "1.2.0",
          "state": {
            "_view_name": "LayoutView",
            "grid_template_rows": null,
            "right": null,
            "justify_content": null,
            "_view_module": "@jupyter-widgets/base",
            "overflow": null,
            "_model_module_version": "1.2.0",
            "_view_count": null,
            "flex_flow": null,
            "width": null,
            "min_width": null,
            "border": null,
            "align_items": null,
            "bottom": null,
            "_model_module": "@jupyter-widgets/base",
            "top": null,
            "grid_column": null,
            "overflow_y": null,
            "overflow_x": null,
            "grid_auto_flow": null,
            "grid_area": null,
            "grid_template_columns": null,
            "flex": null,
            "_model_name": "LayoutModel",
            "justify_items": null,
            "grid_row": null,
            "max_height": null,
            "align_content": null,
            "visibility": null,
            "align_self": null,
            "height": null,
            "min_height": null,
            "padding": null,
            "grid_auto_rows": null,
            "grid_gap": null,
            "max_width": null,
            "order": null,
            "_view_module_version": "1.2.0",
            "grid_template_areas": null,
            "object_position": null,
            "object_fit": null,
            "grid_auto_columns": null,
            "margin": null,
            "display": null,
            "left": null
          }
        },
        "0437ab7cf9804bb1bb1a46b58487d81b": {
          "model_module": "@jupyter-widgets/controls",
          "model_name": "DescriptionStyleModel",
          "model_module_version": "1.5.0",
          "state": {
            "_view_name": "StyleView",
            "_model_name": "DescriptionStyleModel",
            "description_width": "",
            "_view_module": "@jupyter-widgets/base",
            "_model_module_version": "1.5.0",
            "_view_count": null,
            "_view_module_version": "1.2.0",
            "_model_module": "@jupyter-widgets/controls"
          }
        },
        "306657ed9b0d4608a8ffa701591313c2": {
          "model_module": "@jupyter-widgets/base",
          "model_name": "LayoutModel",
          "model_module_version": "1.2.0",
          "state": {
            "_view_name": "LayoutView",
            "grid_template_rows": null,
            "right": null,
            "justify_content": null,
            "_view_module": "@jupyter-widgets/base",
            "overflow": null,
            "_model_module_version": "1.2.0",
            "_view_count": null,
            "flex_flow": null,
            "width": null,
            "min_width": null,
            "border": null,
            "align_items": null,
            "bottom": null,
            "_model_module": "@jupyter-widgets/base",
            "top": null,
            "grid_column": null,
            "overflow_y": null,
            "overflow_x": null,
            "grid_auto_flow": null,
            "grid_area": null,
            "grid_template_columns": null,
            "flex": null,
            "_model_name": "LayoutModel",
            "justify_items": null,
            "grid_row": null,
            "max_height": null,
            "align_content": null,
            "visibility": null,
            "align_self": null,
            "height": null,
            "min_height": null,
            "padding": null,
            "grid_auto_rows": null,
            "grid_gap": null,
            "max_width": null,
            "order": null,
            "_view_module_version": "1.2.0",
            "grid_template_areas": null,
            "object_position": null,
            "object_fit": null,
            "grid_auto_columns": null,
            "margin": null,
            "display": null,
            "left": null
          }
        },
        "d9fa66ee8781440c8eaf414db66a766e": {
          "model_module": "@jupyter-widgets/controls",
          "model_name": "DescriptionStyleModel",
          "model_module_version": "1.5.0",
          "state": {
            "_view_name": "StyleView",
            "_model_name": "DescriptionStyleModel",
            "description_width": "",
            "_view_module": "@jupyter-widgets/base",
            "_model_module_version": "1.5.0",
            "_view_count": null,
            "_view_module_version": "1.2.0",
            "_model_module": "@jupyter-widgets/controls"
          }
        },
        "4edcd683d30a40a2813583c4c0b92010": {
          "model_module": "@jupyter-widgets/base",
          "model_name": "LayoutModel",
          "model_module_version": "1.2.0",
          "state": {
            "_view_name": "LayoutView",
            "grid_template_rows": null,
            "right": null,
            "justify_content": null,
            "_view_module": "@jupyter-widgets/base",
            "overflow": null,
            "_model_module_version": "1.2.0",
            "_view_count": null,
            "flex_flow": null,
            "width": null,
            "min_width": null,
            "border": null,
            "align_items": null,
            "bottom": null,
            "_model_module": "@jupyter-widgets/base",
            "top": null,
            "grid_column": null,
            "overflow_y": null,
            "overflow_x": null,
            "grid_auto_flow": null,
            "grid_area": null,
            "grid_template_columns": null,
            "flex": null,
            "_model_name": "LayoutModel",
            "justify_items": null,
            "grid_row": null,
            "max_height": null,
            "align_content": null,
            "visibility": null,
            "align_self": null,
            "height": null,
            "min_height": null,
            "padding": null,
            "grid_auto_rows": null,
            "grid_gap": null,
            "max_width": null,
            "order": null,
            "_view_module_version": "1.2.0",
            "grid_template_areas": null,
            "object_position": null,
            "object_fit": null,
            "grid_auto_columns": null,
            "margin": null,
            "display": null,
            "left": null
          }
        },
        "f6915d664fae41618c78c733df262bef": {
          "model_module": "@jupyter-widgets/controls",
          "model_name": "DescriptionStyleModel",
          "model_module_version": "1.5.0",
          "state": {
            "_view_name": "StyleView",
            "_model_name": "DescriptionStyleModel",
            "description_width": "",
            "_view_module": "@jupyter-widgets/base",
            "_model_module_version": "1.5.0",
            "_view_count": null,
            "_view_module_version": "1.2.0",
            "_model_module": "@jupyter-widgets/controls"
          }
        },
        "fcef6c6b7eab40809e0ec24f69933377": {
          "model_module": "@jupyter-widgets/base",
          "model_name": "LayoutModel",
          "model_module_version": "1.2.0",
          "state": {
            "_view_name": "LayoutView",
            "grid_template_rows": null,
            "right": null,
            "justify_content": null,
            "_view_module": "@jupyter-widgets/base",
            "overflow": null,
            "_model_module_version": "1.2.0",
            "_view_count": null,
            "flex_flow": null,
            "width": null,
            "min_width": null,
            "border": null,
            "align_items": null,
            "bottom": null,
            "_model_module": "@jupyter-widgets/base",
            "top": null,
            "grid_column": null,
            "overflow_y": null,
            "overflow_x": null,
            "grid_auto_flow": null,
            "grid_area": null,
            "grid_template_columns": null,
            "flex": null,
            "_model_name": "LayoutModel",
            "justify_items": null,
            "grid_row": null,
            "max_height": null,
            "align_content": null,
            "visibility": null,
            "align_self": null,
            "height": null,
            "min_height": null,
            "padding": null,
            "grid_auto_rows": null,
            "grid_gap": null,
            "max_width": null,
            "order": null,
            "_view_module_version": "1.2.0",
            "grid_template_areas": null,
            "object_position": null,
            "object_fit": null,
            "grid_auto_columns": null,
            "margin": null,
            "display": null,
            "left": null
          }
        },
        "12d9113f33db4e2fa7c7853a04d1907b": {
          "model_module": "@jupyter-widgets/controls",
          "model_name": "DescriptionStyleModel",
          "model_module_version": "1.5.0",
          "state": {
            "_view_name": "StyleView",
            "_model_name": "DescriptionStyleModel",
            "description_width": "",
            "_view_module": "@jupyter-widgets/base",
            "_model_module_version": "1.5.0",
            "_view_count": null,
            "_view_module_version": "1.2.0",
            "_model_module": "@jupyter-widgets/controls"
          }
        },
        "4dab607e77df439caf34a5f3d9227d5c": {
          "model_module": "@jupyter-widgets/base",
          "model_name": "LayoutModel",
          "model_module_version": "1.2.0",
          "state": {
            "_view_name": "LayoutView",
            "grid_template_rows": null,
            "right": null,
            "justify_content": null,
            "_view_module": "@jupyter-widgets/base",
            "overflow": null,
            "_model_module_version": "1.2.0",
            "_view_count": null,
            "flex_flow": null,
            "width": null,
            "min_width": null,
            "border": null,
            "align_items": null,
            "bottom": null,
            "_model_module": "@jupyter-widgets/base",
            "top": null,
            "grid_column": null,
            "overflow_y": null,
            "overflow_x": null,
            "grid_auto_flow": null,
            "grid_area": null,
            "grid_template_columns": null,
            "flex": null,
            "_model_name": "LayoutModel",
            "justify_items": null,
            "grid_row": null,
            "max_height": null,
            "align_content": null,
            "visibility": null,
            "align_self": null,
            "height": null,
            "min_height": null,
            "padding": null,
            "grid_auto_rows": null,
            "grid_gap": null,
            "max_width": null,
            "order": null,
            "_view_module_version": "1.2.0",
            "grid_template_areas": null,
            "object_position": null,
            "object_fit": null,
            "grid_auto_columns": null,
            "margin": null,
            "display": null,
            "left": null
          }
        },
        "90c773ea89304fa7999acaafedf8f30f": {
          "model_module": "@jupyter-widgets/base",
          "model_name": "LayoutModel",
          "model_module_version": "1.2.0",
          "state": {
            "_view_name": "LayoutView",
            "grid_template_rows": null,
            "right": null,
            "justify_content": null,
            "_view_module": "@jupyter-widgets/base",
            "overflow": null,
            "_model_module_version": "1.2.0",
            "_view_count": null,
            "flex_flow": null,
            "width": null,
            "min_width": null,
            "border": null,
            "align_items": null,
            "bottom": null,
            "_model_module": "@jupyter-widgets/base",
            "top": null,
            "grid_column": null,
            "overflow_y": null,
            "overflow_x": null,
            "grid_auto_flow": null,
            "grid_area": null,
            "grid_template_columns": null,
            "flex": null,
            "_model_name": "LayoutModel",
            "justify_items": null,
            "grid_row": null,
            "max_height": null,
            "align_content": null,
            "visibility": null,
            "align_self": null,
            "height": null,
            "min_height": null,
            "padding": null,
            "grid_auto_rows": null,
            "grid_gap": null,
            "max_width": null,
            "order": null,
            "_view_module_version": "1.2.0",
            "grid_template_areas": null,
            "object_position": null,
            "object_fit": null,
            "grid_auto_columns": null,
            "margin": null,
            "display": null,
            "left": null
          }
        },
        "fa401e13635a4d69974fc8f9df8d4a44": {
          "model_module": "@jupyter-widgets/controls",
          "model_name": "HBoxModel",
          "model_module_version": "1.5.0",
          "state": {
            "_view_name": "HBoxView",
            "_dom_classes": [],
            "_model_name": "HBoxModel",
            "_view_module": "@jupyter-widgets/controls",
            "_model_module_version": "1.5.0",
            "_view_count": null,
            "_view_module_version": "1.5.0",
            "box_style": "",
            "layout": "IPY_MODEL_3cebd84553f142fbbb0b855194dffc35",
            "_model_module": "@jupyter-widgets/controls",
            "children": [
              "IPY_MODEL_7483a9e8a3f54411a156c0f8521e0d9c",
              "IPY_MODEL_38d46b39f0674f368f2b8193c17a0145"
            ]
          }
        },
        "87cf165b324b4c5cb06a8720de80f283": {
          "model_module": "@jupyter-widgets/controls",
          "model_name": "ButtonModel",
          "model_module_version": "1.5.0",
          "state": {
            "_view_name": "ButtonView",
            "style": "IPY_MODEL_e0fdd291558b4c7bb5f7a68b3fbe8eeb",
            "_dom_classes": [],
            "description": "Save",
            "_model_name": "ButtonModel",
            "button_style": "info",
            "_view_module": "@jupyter-widgets/controls",
            "_model_module_version": "1.5.0",
            "tooltip": "",
            "_view_count": null,
            "disabled": true,
            "_view_module_version": "1.5.0",
            "layout": "IPY_MODEL_66556c4ac6384c08a15f336de91f4f00",
            "_model_module": "@jupyter-widgets/controls",
            "icon": "download"
          }
        },
        "612a9616ae6f4e47ba4e3f892aaa5044": {
          "model_module": "@jupyter-widgets/controls",
          "model_name": "HTMLModel",
          "model_module_version": "1.5.0",
          "state": {
            "_view_name": "HTMLView",
            "style": "IPY_MODEL_1fb84441aab746688cf2cef5a49b6942",
            "_dom_classes": [],
            "description": "",
            "_model_name": "HTMLModel",
            "placeholder": "​",
            "_view_module": "@jupyter-widgets/controls",
            "_model_module_version": "1.5.0",
            "value": "<p style=\"font-size:small\"></br></br></p>",
            "_view_count": null,
            "_view_module_version": "1.5.0",
            "description_tooltip": null,
            "_model_module": "@jupyter-widgets/controls",
            "layout": "IPY_MODEL_19ff7cabaacb4b3593660f4090fa3079"
          }
        },
        "95ada192aa164fe5b0a75baf1bc4bf71": {
          "model_module": "@jupyter-widgets/controls",
          "model_name": "FileUploadModel",
          "model_module_version": "1.5.0",
          "state": {
            "_view_name": "FileUploadView",
            "_counter": 0,
            "style": "IPY_MODEL_faadcb0b7f9041419ff5da81caa1999d",
            "_dom_classes": [],
            "description": "Load",
            "multiple": false,
            "_model_name": "FileUploadModel",
            "data": [],
            "button_style": "info",
            "_view_module": "@jupyter-widgets/controls",
            "_model_module_version": "1.5.0",
            "accept": ".txt,.jff,.dfa,.nfa,.pda,.tm",
            "_view_count": null,
            "disabled": false,
            "_view_module_version": "1.5.0",
            "error": "",
            "description_tooltip": null,
            "metadata": [],
            "_model_module": "@jupyter-widgets/controls",
            "layout": "IPY_MODEL_66f0d04ad8834836bfdaad0ad801ea0b",
            "icon": "upload"
          }
        },
        "f1c612d8c8574cd1a82babe8f970833d": {
          "model_module": "@jupyter-widgets/controls",
          "model_name": "DescriptionStyleModel",
          "model_module_version": "1.5.0",
          "state": {
            "_view_name": "StyleView",
            "_model_name": "DescriptionStyleModel",
            "description_width": "",
            "_view_module": "@jupyter-widgets/base",
            "_model_module_version": "1.5.0",
            "_view_count": null,
            "_view_module_version": "1.2.0",
            "_model_module": "@jupyter-widgets/controls"
          }
        },
        "8dce29df73b047f4b17b326a5dd0633f": {
          "model_module": "@jupyter-widgets/base",
          "model_name": "LayoutModel",
          "model_module_version": "1.2.0",
          "state": {
            "_view_name": "LayoutView",
            "grid_template_rows": null,
            "right": null,
            "justify_content": null,
            "_view_module": "@jupyter-widgets/base",
            "overflow": null,
            "_model_module_version": "1.2.0",
            "_view_count": null,
            "flex_flow": null,
            "width": null,
            "min_width": null,
            "border": null,
            "align_items": null,
            "bottom": null,
            "_model_module": "@jupyter-widgets/base",
            "top": null,
            "grid_column": null,
            "overflow_y": null,
            "overflow_x": null,
            "grid_auto_flow": null,
            "grid_area": "widget001",
            "grid_template_columns": null,
            "flex": null,
            "_model_name": "LayoutModel",
            "justify_items": null,
            "grid_row": null,
            "max_height": null,
            "align_content": null,
            "visibility": null,
            "align_self": null,
            "height": null,
            "min_height": null,
            "padding": null,
            "grid_auto_rows": null,
            "grid_gap": null,
            "max_width": null,
            "order": null,
            "_view_module_version": "1.2.0",
            "grid_template_areas": null,
            "object_position": null,
            "object_fit": null,
            "grid_auto_columns": null,
            "margin": null,
            "display": null,
            "left": null
          }
        },
        "c47a5d502f8749cb9492e8838a206536": {
          "model_module": "@jupyter-widgets/controls",
          "model_name": "DescriptionStyleModel",
          "model_module_version": "1.5.0",
          "state": {
            "_view_name": "StyleView",
            "_model_name": "DescriptionStyleModel",
            "description_width": "initial",
            "_view_module": "@jupyter-widgets/base",
            "_model_module_version": "1.5.0",
            "_view_count": null,
            "_view_module_version": "1.2.0",
            "_model_module": "@jupyter-widgets/controls"
          }
        },
        "d05b9a8642a1458fb42fa0f40d0d3fa2": {
          "model_module": "@jupyter-widgets/base",
          "model_name": "LayoutModel",
          "model_module_version": "1.2.0",
          "state": {
            "_view_name": "LayoutView",
            "grid_template_rows": null,
            "right": null,
            "justify_content": null,
            "_view_module": "@jupyter-widgets/base",
            "overflow": null,
            "_model_module_version": "1.2.0",
            "_view_count": null,
            "flex_flow": null,
            "width": null,
            "min_width": null,
            "border": null,
            "align_items": null,
            "bottom": null,
            "_model_module": "@jupyter-widgets/base",
            "top": null,
            "grid_column": null,
            "overflow_y": null,
            "overflow_x": null,
            "grid_auto_flow": null,
            "grid_area": "widget002",
            "grid_template_columns": null,
            "flex": null,
            "_model_name": "LayoutModel",
            "justify_items": null,
            "grid_row": null,
            "max_height": null,
            "align_content": null,
            "visibility": null,
            "align_self": null,
            "height": null,
            "min_height": null,
            "padding": null,
            "grid_auto_rows": null,
            "grid_gap": null,
            "max_width": null,
            "order": null,
            "_view_module_version": "1.2.0",
            "grid_template_areas": null,
            "object_position": null,
            "object_fit": null,
            "grid_auto_columns": null,
            "margin": null,
            "display": null,
            "left": null
          }
        },
        "c37a1ae480eb47c0b53f97573de3e19e": {
          "model_module": "@jupyter-widgets/controls",
          "model_name": "DescriptionStyleModel",
          "model_module_version": "1.5.0",
          "state": {
            "_view_name": "StyleView",
            "_model_name": "DescriptionStyleModel",
            "description_width": "initial",
            "_view_module": "@jupyter-widgets/base",
            "_model_module_version": "1.5.0",
            "_view_count": null,
            "_view_module_version": "1.2.0",
            "_model_module": "@jupyter-widgets/controls"
          }
        },
        "37f13f663bc34d27b3f2eaa23b6841a0": {
          "model_module": "@jupyter-widgets/base",
          "model_name": "LayoutModel",
          "model_module_version": "1.2.0",
          "state": {
            "_view_name": "LayoutView",
            "grid_template_rows": null,
            "right": null,
            "justify_content": null,
            "_view_module": "@jupyter-widgets/base",
            "overflow": null,
            "_model_module_version": "1.2.0",
            "_view_count": null,
            "flex_flow": null,
            "width": null,
            "min_width": null,
            "border": null,
            "align_items": null,
            "bottom": null,
            "_model_module": "@jupyter-widgets/base",
            "top": null,
            "grid_column": null,
            "overflow_y": null,
            "overflow_x": null,
            "grid_auto_flow": null,
            "grid_area": "widget003",
            "grid_template_columns": null,
            "flex": null,
            "_model_name": "LayoutModel",
            "justify_items": null,
            "grid_row": null,
            "max_height": null,
            "align_content": null,
            "visibility": null,
            "align_self": null,
            "height": null,
            "min_height": null,
            "padding": null,
            "grid_auto_rows": null,
            "grid_gap": null,
            "max_width": null,
            "order": null,
            "_view_module_version": "1.2.0",
            "grid_template_areas": null,
            "object_position": null,
            "object_fit": null,
            "grid_auto_columns": null,
            "margin": null,
            "display": null,
            "left": null
          }
        },
        "ab2198f70df9454cb0d5acee8e1f135f": {
          "model_module": "@jupyter-widgets/controls",
          "model_name": "DescriptionStyleModel",
          "model_module_version": "1.5.0",
          "state": {
            "_view_name": "StyleView",
            "_model_name": "DescriptionStyleModel",
            "description_width": "initial",
            "_view_module": "@jupyter-widgets/base",
            "_model_module_version": "1.5.0",
            "_view_count": null,
            "_view_module_version": "1.2.0",
            "_model_module": "@jupyter-widgets/controls"
          }
        },
        "7403fd14de4c4bb1a72f3d2cd035d01e": {
          "model_module": "@jupyter-widgets/base",
          "model_name": "LayoutModel",
          "model_module_version": "1.2.0",
          "state": {
            "_view_name": "LayoutView",
            "grid_template_rows": null,
            "right": null,
            "justify_content": null,
            "_view_module": "@jupyter-widgets/base",
            "overflow": null,
            "_model_module_version": "1.2.0",
            "_view_count": null,
            "flex_flow": null,
            "width": null,
            "min_width": null,
            "border": null,
            "align_items": null,
            "bottom": null,
            "_model_module": "@jupyter-widgets/base",
            "top": null,
            "grid_column": null,
            "overflow_y": null,
            "overflow_x": null,
            "grid_auto_flow": null,
            "grid_area": "widget004",
            "grid_template_columns": null,
            "flex": null,
            "_model_name": "LayoutModel",
            "justify_items": null,
            "grid_row": null,
            "max_height": null,
            "align_content": null,
            "visibility": null,
            "align_self": null,
            "height": null,
            "min_height": null,
            "padding": null,
            "grid_auto_rows": null,
            "grid_gap": null,
            "max_width": null,
            "order": null,
            "_view_module_version": "1.2.0",
            "grid_template_areas": null,
            "object_position": null,
            "object_fit": null,
            "grid_auto_columns": null,
            "margin": null,
            "display": null,
            "left": null
          }
        },
        "a19062ef461e46c8be02f2984ec8743a": {
          "model_module": "@jupyter-widgets/controls",
          "model_name": "DescriptionStyleModel",
          "model_module_version": "1.5.0",
          "state": {
            "_view_name": "StyleView",
            "_model_name": "DescriptionStyleModel",
            "description_width": "",
            "_view_module": "@jupyter-widgets/base",
            "_model_module_version": "1.5.0",
            "_view_count": null,
            "_view_module_version": "1.2.0",
            "_model_module": "@jupyter-widgets/controls"
          }
        },
        "1236f3e54a1e4a9f84b0cb761b20d3a1": {
          "model_module": "@jupyter-widgets/base",
          "model_name": "LayoutModel",
          "model_module_version": "1.2.0",
          "state": {
            "_view_name": "LayoutView",
            "grid_template_rows": null,
            "right": null,
            "justify_content": null,
            "_view_module": "@jupyter-widgets/base",
            "overflow": null,
            "_model_module_version": "1.2.0",
            "_view_count": null,
            "flex_flow": null,
            "width": null,
            "min_width": null,
            "border": null,
            "align_items": null,
            "bottom": null,
            "_model_module": "@jupyter-widgets/base",
            "top": null,
            "grid_column": null,
            "overflow_y": null,
            "overflow_x": null,
            "grid_auto_flow": null,
            "grid_area": "widget005",
            "grid_template_columns": null,
            "flex": null,
            "_model_name": "LayoutModel",
            "justify_items": null,
            "grid_row": null,
            "max_height": null,
            "align_content": null,
            "visibility": null,
            "align_self": null,
            "height": null,
            "min_height": null,
            "padding": null,
            "grid_auto_rows": null,
            "grid_gap": null,
            "max_width": null,
            "order": null,
            "_view_module_version": "1.2.0",
            "grid_template_areas": null,
            "object_position": null,
            "object_fit": null,
            "grid_auto_columns": null,
            "margin": null,
            "display": null,
            "left": null
          }
        },
        "96b8bd30e0024c6c94e533795c5d5dc7": {
          "model_module": "@jupyter-widgets/controls",
          "model_name": "DescriptionStyleModel",
          "model_module_version": "1.5.0",
          "state": {
            "_view_name": "StyleView",
            "_model_name": "DescriptionStyleModel",
            "description_width": "initial",
            "_view_module": "@jupyter-widgets/base",
            "_model_module_version": "1.5.0",
            "_view_count": null,
            "_view_module_version": "1.2.0",
            "_model_module": "@jupyter-widgets/controls"
          }
        },
        "a554ee9baf3144b5a0004538d7560187": {
          "model_module": "@jupyter-widgets/base",
          "model_name": "LayoutModel",
          "model_module_version": "1.2.0",
          "state": {
            "_view_name": "LayoutView",
            "grid_template_rows": null,
            "right": null,
            "justify_content": null,
            "_view_module": "@jupyter-widgets/base",
            "overflow": null,
            "_model_module_version": "1.2.0",
            "_view_count": null,
            "flex_flow": null,
            "width": "200px",
            "min_width": null,
            "border": null,
            "align_items": null,
            "bottom": null,
            "_model_module": "@jupyter-widgets/base",
            "top": null,
            "grid_column": null,
            "overflow_y": null,
            "overflow_x": null,
            "grid_auto_flow": null,
            "grid_area": "widget006",
            "grid_template_columns": null,
            "flex": null,
            "_model_name": "LayoutModel",
            "justify_items": null,
            "grid_row": null,
            "max_height": null,
            "align_content": null,
            "visibility": null,
            "align_self": null,
            "height": null,
            "min_height": null,
            "padding": null,
            "grid_auto_rows": null,
            "grid_gap": null,
            "max_width": null,
            "order": null,
            "_view_module_version": "1.2.0",
            "grid_template_areas": null,
            "object_position": null,
            "object_fit": null,
            "grid_auto_columns": null,
            "margin": null,
            "display": null,
            "left": null
          }
        },
        "84a84f1da5194421b33d8b650c19dd34": {
          "model_module": "@jupyter-widgets/controls",
          "model_name": "DescriptionStyleModel",
          "model_module_version": "1.5.0",
          "state": {
            "_view_name": "StyleView",
            "_model_name": "DescriptionStyleModel",
            "description_width": "",
            "_view_module": "@jupyter-widgets/base",
            "_model_module_version": "1.5.0",
            "_view_count": null,
            "_view_module_version": "1.2.0",
            "_model_module": "@jupyter-widgets/controls"
          }
        },
        "8522f2ad8af349c189c7e4cb58fb8d84": {
          "model_module": "@jupyter-widgets/base",
          "model_name": "LayoutModel",
          "model_module_version": "1.2.0",
          "state": {
            "_view_name": "LayoutView",
            "grid_template_rows": null,
            "right": null,
            "justify_content": null,
            "_view_module": "@jupyter-widgets/base",
            "overflow": null,
            "_model_module_version": "1.2.0",
            "_view_count": null,
            "flex_flow": null,
            "width": null,
            "min_width": null,
            "border": null,
            "align_items": null,
            "bottom": null,
            "_model_module": "@jupyter-widgets/base",
            "top": null,
            "grid_column": null,
            "overflow_y": null,
            "overflow_x": null,
            "grid_auto_flow": null,
            "grid_area": "widget007",
            "grid_template_columns": null,
            "flex": null,
            "_model_name": "LayoutModel",
            "justify_items": null,
            "grid_row": null,
            "max_height": null,
            "align_content": null,
            "visibility": null,
            "align_self": null,
            "height": null,
            "min_height": null,
            "padding": null,
            "grid_auto_rows": null,
            "grid_gap": null,
            "max_width": null,
            "order": null,
            "_view_module_version": "1.2.0",
            "grid_template_areas": null,
            "object_position": null,
            "object_fit": null,
            "grid_auto_columns": null,
            "margin": null,
            "display": null,
            "left": null
          }
        },
        "d0ef3d3b0531491897ecf929a59fbadc": {
          "model_module": "@jupyter-widgets/controls",
          "model_name": "DescriptionStyleModel",
          "model_module_version": "1.5.0",
          "state": {
            "_view_name": "StyleView",
            "_model_name": "DescriptionStyleModel",
            "description_width": "",
            "_view_module": "@jupyter-widgets/base",
            "_model_module_version": "1.5.0",
            "_view_count": null,
            "_view_module_version": "1.2.0",
            "_model_module": "@jupyter-widgets/controls"
          }
        },
        "8dfc9277a8904a83bc0aca3254cf7a06": {
          "model_module": "@jupyter-widgets/base",
          "model_name": "LayoutModel",
          "model_module_version": "1.2.0",
          "state": {
            "_view_name": "LayoutView",
            "grid_template_rows": null,
            "right": null,
            "justify_content": null,
            "_view_module": "@jupyter-widgets/base",
            "overflow": null,
            "_model_module_version": "1.2.0",
            "_view_count": null,
            "flex_flow": null,
            "width": null,
            "min_width": null,
            "border": null,
            "align_items": null,
            "bottom": null,
            "_model_module": "@jupyter-widgets/base",
            "top": null,
            "grid_column": null,
            "overflow_y": null,
            "overflow_x": null,
            "grid_auto_flow": null,
            "grid_area": "widget008",
            "grid_template_columns": null,
            "flex": null,
            "_model_name": "LayoutModel",
            "justify_items": null,
            "grid_row": null,
            "max_height": null,
            "align_content": null,
            "visibility": null,
            "align_self": null,
            "height": null,
            "min_height": null,
            "padding": null,
            "grid_auto_rows": null,
            "grid_gap": null,
            "max_width": null,
            "order": null,
            "_view_module_version": "1.2.0",
            "grid_template_areas": null,
            "object_position": null,
            "object_fit": null,
            "grid_auto_columns": null,
            "margin": null,
            "display": null,
            "left": null
          }
        },
        "a95d626501b94c31ba31dd089b29da62": {
          "model_module": "@jupyter-widgets/controls",
          "model_name": "DescriptionStyleModel",
          "model_module_version": "1.5.0",
          "state": {
            "_view_name": "StyleView",
            "_model_name": "DescriptionStyleModel",
            "description_width": "",
            "_view_module": "@jupyter-widgets/base",
            "_model_module_version": "1.5.0",
            "_view_count": null,
            "_view_module_version": "1.2.0",
            "_model_module": "@jupyter-widgets/controls"
          }
        },
        "c630c90dcae644148cb0d2769705f432": {
          "model_module": "@jupyter-widgets/base",
          "model_name": "LayoutModel",
          "model_module_version": "1.2.0",
          "state": {
            "_view_name": "LayoutView",
            "grid_template_rows": null,
            "right": null,
            "justify_content": null,
            "_view_module": "@jupyter-widgets/base",
            "overflow": null,
            "_model_module_version": "1.2.0",
            "_view_count": null,
            "flex_flow": null,
            "width": null,
            "min_width": null,
            "border": null,
            "align_items": null,
            "bottom": null,
            "_model_module": "@jupyter-widgets/base",
            "top": null,
            "grid_column": null,
            "overflow_y": null,
            "overflow_x": null,
            "grid_auto_flow": null,
            "grid_area": "widget009",
            "grid_template_columns": null,
            "flex": null,
            "_model_name": "LayoutModel",
            "justify_items": null,
            "grid_row": null,
            "max_height": null,
            "align_content": null,
            "visibility": null,
            "align_self": null,
            "height": null,
            "min_height": null,
            "padding": null,
            "grid_auto_rows": null,
            "grid_gap": null,
            "max_width": null,
            "order": null,
            "_view_module_version": "1.2.0",
            "grid_template_areas": null,
            "object_position": null,
            "object_fit": null,
            "grid_auto_columns": null,
            "margin": null,
            "display": null,
            "left": null
          }
        },
        "dd2c2d3f2c6e4fd498e3147f73689e91": {
          "model_module": "@jupyter-widgets/controls",
          "model_name": "DescriptionStyleModel",
          "model_module_version": "1.5.0",
          "state": {
            "_view_name": "StyleView",
            "_model_name": "DescriptionStyleModel",
            "description_width": "",
            "_view_module": "@jupyter-widgets/base",
            "_model_module_version": "1.5.0",
            "_view_count": null,
            "_view_module_version": "1.2.0",
            "_model_module": "@jupyter-widgets/controls"
          }
        },
        "993b47e171b34618a4ac6c7412a0a8cc": {
          "model_module": "@jupyter-widgets/base",
          "model_name": "LayoutModel",
          "model_module_version": "1.2.0",
          "state": {
            "_view_name": "LayoutView",
            "grid_template_rows": null,
            "right": null,
            "justify_content": null,
            "_view_module": "@jupyter-widgets/base",
            "overflow": null,
            "_model_module_version": "1.2.0",
            "_view_count": null,
            "flex_flow": null,
            "width": null,
            "min_width": null,
            "border": null,
            "align_items": null,
            "bottom": null,
            "_model_module": "@jupyter-widgets/base",
            "top": null,
            "grid_column": null,
            "overflow_y": null,
            "overflow_x": null,
            "grid_auto_flow": null,
            "grid_area": "widget010",
            "grid_template_columns": null,
            "flex": null,
            "_model_name": "LayoutModel",
            "justify_items": null,
            "grid_row": null,
            "max_height": null,
            "align_content": null,
            "visibility": null,
            "align_self": null,
            "height": null,
            "min_height": null,
            "padding": null,
            "grid_auto_rows": null,
            "grid_gap": null,
            "max_width": null,
            "order": null,
            "_view_module_version": "1.2.0",
            "grid_template_areas": null,
            "object_position": null,
            "object_fit": null,
            "grid_auto_columns": null,
            "margin": null,
            "display": null,
            "left": null
          }
        },
        "95129177b5fc4dffb09ffa779a45f849": {
          "model_module": "@jupyter-widgets/controls",
          "model_name": "DescriptionStyleModel",
          "model_module_version": "1.5.0",
          "state": {
            "_view_name": "StyleView",
            "_model_name": "DescriptionStyleModel",
            "description_width": "",
            "_view_module": "@jupyter-widgets/base",
            "_model_module_version": "1.5.0",
            "_view_count": null,
            "_view_module_version": "1.2.0",
            "_model_module": "@jupyter-widgets/controls"
          }
        },
        "4c64279d383240e0a437e0f867b6cc95": {
          "model_module": "@jupyter-widgets/base",
          "model_name": "LayoutModel",
          "model_module_version": "1.2.0",
          "state": {
            "_view_name": "LayoutView",
            "grid_template_rows": null,
            "right": null,
            "justify_content": null,
            "_view_module": "@jupyter-widgets/base",
            "overflow": null,
            "_model_module_version": "1.2.0",
            "_view_count": null,
            "flex_flow": null,
            "width": null,
            "min_width": null,
            "border": null,
            "align_items": null,
            "bottom": null,
            "_model_module": "@jupyter-widgets/base",
            "top": null,
            "grid_column": null,
            "overflow_y": null,
            "overflow_x": null,
            "grid_auto_flow": null,
            "grid_area": "widget011",
            "grid_template_columns": null,
            "flex": null,
            "_model_name": "LayoutModel",
            "justify_items": null,
            "grid_row": null,
            "max_height": null,
            "align_content": null,
            "visibility": null,
            "align_self": null,
            "height": null,
            "min_height": null,
            "padding": null,
            "grid_auto_rows": null,
            "grid_gap": null,
            "max_width": null,
            "order": null,
            "_view_module_version": "1.2.0",
            "grid_template_areas": null,
            "object_position": null,
            "object_fit": null,
            "grid_auto_columns": null,
            "margin": null,
            "display": null,
            "left": null
          }
        },
        "71ffb2bf15af484888476eac229f835c": {
          "model_module": "@jupyter-widgets/controls",
          "model_name": "DescriptionStyleModel",
          "model_module_version": "1.5.0",
          "state": {
            "_view_name": "StyleView",
            "_model_name": "DescriptionStyleModel",
            "description_width": "initial",
            "_view_module": "@jupyter-widgets/base",
            "_model_module_version": "1.5.0",
            "_view_count": null,
            "_view_module_version": "1.2.0",
            "_model_module": "@jupyter-widgets/controls"
          }
        },
        "5193249962874bb2a871d5a95aa753a5": {
          "model_module": "@jupyter-widgets/base",
          "model_name": "LayoutModel",
          "model_module_version": "1.2.0",
          "state": {
            "_view_name": "LayoutView",
            "grid_template_rows": null,
            "right": null,
            "justify_content": null,
            "_view_module": "@jupyter-widgets/base",
            "overflow": null,
            "_model_module_version": "1.2.0",
            "_view_count": null,
            "flex_flow": null,
            "width": "200px",
            "min_width": null,
            "border": null,
            "align_items": null,
            "bottom": null,
            "_model_module": "@jupyter-widgets/base",
            "top": null,
            "grid_column": null,
            "overflow_y": null,
            "overflow_x": null,
            "grid_auto_flow": null,
            "grid_area": "widget012",
            "grid_template_columns": null,
            "flex": null,
            "_model_name": "LayoutModel",
            "justify_items": null,
            "grid_row": null,
            "max_height": null,
            "align_content": null,
            "visibility": null,
            "align_self": null,
            "height": null,
            "min_height": null,
            "padding": null,
            "grid_auto_rows": null,
            "grid_gap": null,
            "max_width": null,
            "order": null,
            "_view_module_version": "1.2.0",
            "grid_template_areas": null,
            "object_position": null,
            "object_fit": null,
            "grid_auto_columns": null,
            "margin": null,
            "display": null,
            "left": null
          }
        },
        "3cebd84553f142fbbb0b855194dffc35": {
          "model_module": "@jupyter-widgets/base",
          "model_name": "LayoutModel",
          "model_module_version": "1.2.0",
          "state": {
            "_view_name": "LayoutView",
            "grid_template_rows": null,
            "right": null,
            "justify_content": null,
            "_view_module": "@jupyter-widgets/base",
            "overflow": null,
            "_model_module_version": "1.2.0",
            "_view_count": null,
            "flex_flow": null,
            "width": null,
            "min_width": null,
            "border": null,
            "align_items": null,
            "bottom": null,
            "_model_module": "@jupyter-widgets/base",
            "top": null,
            "grid_column": null,
            "overflow_y": null,
            "overflow_x": null,
            "grid_auto_flow": null,
            "grid_area": null,
            "grid_template_columns": null,
            "flex": null,
            "_model_name": "LayoutModel",
            "justify_items": null,
            "grid_row": null,
            "max_height": null,
            "align_content": null,
            "visibility": null,
            "align_self": null,
            "height": null,
            "min_height": null,
            "padding": null,
            "grid_auto_rows": null,
            "grid_gap": null,
            "max_width": null,
            "order": null,
            "_view_module_version": "1.2.0",
            "grid_template_areas": null,
            "object_position": null,
            "object_fit": null,
            "grid_auto_columns": null,
            "margin": null,
            "display": null,
            "left": null
          }
        },
        "7483a9e8a3f54411a156c0f8521e0d9c": {
          "model_module": "@jupyter-widgets/controls",
          "model_name": "TextModel",
          "model_module_version": "1.5.0",
          "state": {
            "_view_name": "TextView",
            "style": "IPY_MODEL_9f52750bb1c24df98d74f49e3a992e4f",
            "_dom_classes": [],
            "description": "",
            "_model_name": "TextModel",
            "placeholder": "filename",
            "_view_module": "@jupyter-widgets/controls",
            "_model_module_version": "1.5.0",
            "value": "",
            "_view_count": null,
            "disabled": false,
            "_view_module_version": "1.5.0",
            "continuous_update": true,
            "description_tooltip": null,
            "_model_module": "@jupyter-widgets/controls",
            "layout": "IPY_MODEL_3bf34bd1da7c441aaaad17ec4a7653ba"
          }
        },
        "38d46b39f0674f368f2b8193c17a0145": {
          "model_module": "@jupyter-widgets/controls",
          "model_name": "HTMLModel",
          "model_module_version": "1.5.0",
          "state": {
            "_view_name": "HTMLView",
            "style": "IPY_MODEL_a266687d3a554aafa8dde0b15544d156",
            "_dom_classes": [],
            "description": "",
            "_model_name": "HTMLModel",
            "placeholder": "​",
            "_view_module": "@jupyter-widgets/controls",
            "_model_module_version": "1.5.0",
            "value": "<p style=\"font-family:monospace\">.dfa</p>",
            "_view_count": null,
            "_view_module_version": "1.5.0",
            "description_tooltip": null,
            "_model_module": "@jupyter-widgets/controls",
            "layout": "IPY_MODEL_e096a241bbcc4530a1a911fadf1426aa"
          }
        },
        "e0fdd291558b4c7bb5f7a68b3fbe8eeb": {
          "model_module": "@jupyter-widgets/controls",
          "model_name": "ButtonStyleModel",
          "model_module_version": "1.5.0",
          "state": {
            "_view_name": "StyleView",
            "_model_name": "ButtonStyleModel",
            "_view_module": "@jupyter-widgets/base",
            "_model_module_version": "1.5.0",
            "_view_count": null,
            "button_color": null,
            "font_weight": "",
            "_view_module_version": "1.2.0",
            "_model_module": "@jupyter-widgets/controls"
          }
        },
        "66556c4ac6384c08a15f336de91f4f00": {
          "model_module": "@jupyter-widgets/base",
          "model_name": "LayoutModel",
          "model_module_version": "1.2.0",
          "state": {
            "_view_name": "LayoutView",
            "grid_template_rows": null,
            "right": null,
            "justify_content": null,
            "_view_module": "@jupyter-widgets/base",
            "overflow": null,
            "_model_module_version": "1.2.0",
            "_view_count": null,
            "flex_flow": null,
            "width": null,
            "min_width": null,
            "border": null,
            "align_items": null,
            "bottom": null,
            "_model_module": "@jupyter-widgets/base",
            "top": null,
            "grid_column": null,
            "overflow_y": null,
            "overflow_x": null,
            "grid_auto_flow": null,
            "grid_area": null,
            "grid_template_columns": null,
            "flex": null,
            "_model_name": "LayoutModel",
            "justify_items": null,
            "grid_row": null,
            "max_height": null,
            "align_content": null,
            "visibility": null,
            "align_self": null,
            "height": null,
            "min_height": null,
            "padding": null,
            "grid_auto_rows": null,
            "grid_gap": null,
            "max_width": null,
            "order": null,
            "_view_module_version": "1.2.0",
            "grid_template_areas": null,
            "object_position": null,
            "object_fit": null,
            "grid_auto_columns": null,
            "margin": null,
            "display": null,
            "left": null
          }
        },
        "1fb84441aab746688cf2cef5a49b6942": {
          "model_module": "@jupyter-widgets/controls",
          "model_name": "DescriptionStyleModel",
          "model_module_version": "1.5.0",
          "state": {
            "_view_name": "StyleView",
            "_model_name": "DescriptionStyleModel",
            "description_width": "",
            "_view_module": "@jupyter-widgets/base",
            "_model_module_version": "1.5.0",
            "_view_count": null,
            "_view_module_version": "1.2.0",
            "_model_module": "@jupyter-widgets/controls"
          }
        },
        "19ff7cabaacb4b3593660f4090fa3079": {
          "model_module": "@jupyter-widgets/base",
          "model_name": "LayoutModel",
          "model_module_version": "1.2.0",
          "state": {
            "_view_name": "LayoutView",
            "grid_template_rows": null,
            "right": null,
            "justify_content": null,
            "_view_module": "@jupyter-widgets/base",
            "overflow": null,
            "_model_module_version": "1.2.0",
            "_view_count": null,
            "flex_flow": null,
            "width": null,
            "min_width": null,
            "border": null,
            "align_items": null,
            "bottom": null,
            "_model_module": "@jupyter-widgets/base",
            "top": null,
            "grid_column": null,
            "overflow_y": null,
            "overflow_x": null,
            "grid_auto_flow": null,
            "grid_area": null,
            "grid_template_columns": null,
            "flex": null,
            "_model_name": "LayoutModel",
            "justify_items": null,
            "grid_row": null,
            "max_height": null,
            "align_content": null,
            "visibility": null,
            "align_self": null,
            "height": null,
            "min_height": null,
            "padding": null,
            "grid_auto_rows": null,
            "grid_gap": null,
            "max_width": null,
            "order": null,
            "_view_module_version": "1.2.0",
            "grid_template_areas": null,
            "object_position": null,
            "object_fit": null,
            "grid_auto_columns": null,
            "margin": null,
            "display": null,
            "left": null
          }
        },
        "faadcb0b7f9041419ff5da81caa1999d": {
          "model_module": "@jupyter-widgets/controls",
          "model_name": "ButtonStyleModel",
          "model_module_version": "1.5.0",
          "state": {
            "_view_name": "StyleView",
            "_model_name": "ButtonStyleModel",
            "_view_module": "@jupyter-widgets/base",
            "_model_module_version": "1.5.0",
            "_view_count": null,
            "button_color": null,
            "font_weight": "",
            "_view_module_version": "1.2.0",
            "_model_module": "@jupyter-widgets/controls"
          }
        },
        "66f0d04ad8834836bfdaad0ad801ea0b": {
          "model_module": "@jupyter-widgets/base",
          "model_name": "LayoutModel",
          "model_module_version": "1.2.0",
          "state": {
            "_view_name": "LayoutView",
            "grid_template_rows": null,
            "right": null,
            "justify_content": null,
            "_view_module": "@jupyter-widgets/base",
            "overflow": null,
            "_model_module_version": "1.2.0",
            "_view_count": null,
            "flex_flow": null,
            "width": null,
            "min_width": null,
            "border": null,
            "align_items": null,
            "bottom": null,
            "_model_module": "@jupyter-widgets/base",
            "top": null,
            "grid_column": null,
            "overflow_y": null,
            "overflow_x": null,
            "grid_auto_flow": null,
            "grid_area": null,
            "grid_template_columns": null,
            "flex": null,
            "_model_name": "LayoutModel",
            "justify_items": null,
            "grid_row": null,
            "max_height": null,
            "align_content": null,
            "visibility": null,
            "align_self": null,
            "height": null,
            "min_height": null,
            "padding": null,
            "grid_auto_rows": null,
            "grid_gap": null,
            "max_width": null,
            "order": null,
            "_view_module_version": "1.2.0",
            "grid_template_areas": null,
            "object_position": null,
            "object_fit": null,
            "grid_auto_columns": null,
            "margin": null,
            "display": null,
            "left": null
          }
        },
        "9f52750bb1c24df98d74f49e3a992e4f": {
          "model_module": "@jupyter-widgets/controls",
          "model_name": "DescriptionStyleModel",
          "model_module_version": "1.5.0",
          "state": {
            "_view_name": "StyleView",
            "_model_name": "DescriptionStyleModel",
            "description_width": "",
            "_view_module": "@jupyter-widgets/base",
            "_model_module_version": "1.5.0",
            "_view_count": null,
            "_view_module_version": "1.2.0",
            "_model_module": "@jupyter-widgets/controls"
          }
        },
        "3bf34bd1da7c441aaaad17ec4a7653ba": {
          "model_module": "@jupyter-widgets/base",
          "model_name": "LayoutModel",
          "model_module_version": "1.2.0",
          "state": {
            "_view_name": "LayoutView",
            "grid_template_rows": null,
            "right": null,
            "justify_content": null,
            "_view_module": "@jupyter-widgets/base",
            "overflow": null,
            "_model_module_version": "1.2.0",
            "_view_count": null,
            "flex_flow": null,
            "width": null,
            "min_width": null,
            "border": null,
            "align_items": null,
            "bottom": null,
            "_model_module": "@jupyter-widgets/base",
            "top": null,
            "grid_column": null,
            "overflow_y": null,
            "overflow_x": null,
            "grid_auto_flow": null,
            "grid_area": null,
            "grid_template_columns": null,
            "flex": null,
            "_model_name": "LayoutModel",
            "justify_items": null,
            "grid_row": null,
            "max_height": null,
            "align_content": null,
            "visibility": null,
            "align_self": null,
            "height": null,
            "min_height": null,
            "padding": null,
            "grid_auto_rows": null,
            "grid_gap": null,
            "max_width": null,
            "order": null,
            "_view_module_version": "1.2.0",
            "grid_template_areas": null,
            "object_position": null,
            "object_fit": null,
            "grid_auto_columns": null,
            "margin": null,
            "display": null,
            "left": null
          }
        },
        "a266687d3a554aafa8dde0b15544d156": {
          "model_module": "@jupyter-widgets/controls",
          "model_name": "DescriptionStyleModel",
          "model_module_version": "1.5.0",
          "state": {
            "_view_name": "StyleView",
            "_model_name": "DescriptionStyleModel",
            "description_width": "",
            "_view_module": "@jupyter-widgets/base",
            "_model_module_version": "1.5.0",
            "_view_count": null,
            "_view_module_version": "1.2.0",
            "_model_module": "@jupyter-widgets/controls"
          }
        },
        "e096a241bbcc4530a1a911fadf1426aa": {
          "model_module": "@jupyter-widgets/base",
          "model_name": "LayoutModel",
          "model_module_version": "1.2.0",
          "state": {
            "_view_name": "LayoutView",
            "grid_template_rows": null,
            "right": null,
            "justify_content": null,
            "_view_module": "@jupyter-widgets/base",
            "overflow": null,
            "_model_module_version": "1.2.0",
            "_view_count": null,
            "flex_flow": null,
            "width": null,
            "min_width": null,
            "border": null,
            "align_items": null,
            "bottom": null,
            "_model_module": "@jupyter-widgets/base",
            "top": null,
            "grid_column": null,
            "overflow_y": null,
            "overflow_x": null,
            "grid_auto_flow": null,
            "grid_area": null,
            "grid_template_columns": null,
            "flex": null,
            "_model_name": "LayoutModel",
            "justify_items": null,
            "grid_row": null,
            "max_height": null,
            "align_content": null,
            "visibility": null,
            "align_self": null,
            "height": null,
            "min_height": null,
            "padding": null,
            "grid_auto_rows": null,
            "grid_gap": null,
            "max_width": null,
            "order": null,
            "_view_module_version": "1.2.0",
            "grid_template_areas": null,
            "object_position": null,
            "object_fit": null,
            "grid_auto_columns": null,
            "margin": null,
            "display": null,
            "left": null
          }
        },
        "5533d05f9d124bab940e20a49d692f0a": {
          "model_module": "@jupyter-widgets/controls",
          "model_name": "TextareaModel",
          "model_module_version": "1.5.0",
          "state": {
            "_view_name": "TextareaView",
            "style": "IPY_MODEL_4d2820050eb1458793e1a7ee41cf5f53",
            "rows": null,
            "_dom_classes": [],
            "description": "",
            "_model_name": "TextareaModel",
            "placeholder": "<from state> : <input symbol> -> <to state>  !! comment\nex: I : 0 -> A",
            "_view_module": "@jupyter-widgets/controls",
            "_model_module_version": "1.5.0",
            "value": "!!---------------------------------------------------------------------------\n!! This DFA looks for patterns of the form ..0101\n!! i.e., ends in 0101.\n!!---------------------------------------------------------------------------\n\nI       : 0  -> S0      !! Go to S0, in anticipation of seeing a 0101\nI       : 1  -> I       !! Seeing a 1 does not help, stay in I\n\nS0      : 0  -> S0      !! Punt on 0, hoping that a 1 will come\nS0      : 1  -> S01     !! Advance to state S01\n\nS01     : 0  -> S010    !! A 0 advances to S010\nS01     : 1  -> I       !! Seeing a 1 breaks the pattern, go back to I\n\nS010    : 0  -> S0      !! A 0 breaks the pattern but may be the start of 0101\nS010    : 1  -> F0101   !! Yay, we found 0101, and can accept the string if\n                        !! there are no more symbols\n\nF0101   : 0  -> S010    !! Another 0 makes ..01010, salvage the pattern from S010\nF0101   : 1  -> I       !! Seeing a 1 breaks the pattern, go back to I",
            "_view_count": null,
            "disabled": false,
            "_view_module_version": "1.5.0",
            "continuous_update": true,
            "description_tooltip": null,
            "_model_module": "@jupyter-widgets/controls",
            "layout": "IPY_MODEL_caea3a2f7b924b46a0fafca650004f8c"
          }
        },
        "2ec3df1efd47456cbb4f34dd70e6707b": {
          "model_module": "@jupyter-widgets/base",
          "model_name": "LayoutModel",
          "model_module_version": "1.2.0",
          "state": {
            "_view_name": "LayoutView",
            "grid_template_rows": null,
            "right": null,
            "justify_content": null,
            "_view_module": "@jupyter-widgets/base",
            "overflow": null,
            "_model_module_version": "1.2.0",
            "_view_count": null,
            "flex_flow": null,
            "width": null,
            "min_width": null,
            "border": null,
            "align_items": null,
            "bottom": null,
            "_model_module": "@jupyter-widgets/base",
            "top": null,
            "grid_column": null,
            "overflow_y": null,
            "overflow_x": null,
            "grid_auto_flow": null,
            "grid_area": null,
            "grid_template_columns": null,
            "flex": null,
            "_model_name": "LayoutModel",
            "justify_items": null,
            "grid_row": null,
            "max_height": null,
            "align_content": null,
            "visibility": null,
            "align_self": null,
            "height": null,
            "min_height": null,
            "padding": null,
            "grid_auto_rows": null,
            "grid_gap": null,
            "max_width": null,
            "order": null,
            "_view_module_version": "1.2.0",
            "grid_template_areas": null,
            "object_position": null,
            "object_fit": null,
            "grid_auto_columns": null,
            "margin": null,
            "display": null,
            "left": null
          }
        },
        "85bae8757d2046dcb6d690cc99fdaeb9": {
          "model_module": "@jupyter-widgets/base",
          "model_name": "LayoutModel",
          "model_module_version": "1.2.0",
          "state": {
            "_view_name": "LayoutView",
            "grid_template_rows": null,
            "right": null,
            "justify_content": null,
            "_view_module": "@jupyter-widgets/base",
            "overflow": null,
            "_model_module_version": "1.2.0",
            "_view_count": null,
            "flex_flow": null,
            "width": null,
            "min_width": null,
            "border": null,
            "align_items": null,
            "bottom": null,
            "_model_module": "@jupyter-widgets/base",
            "top": null,
            "grid_column": null,
            "overflow_y": null,
            "overflow_x": null,
            "grid_auto_flow": null,
            "grid_area": null,
            "grid_template_columns": null,
            "flex": null,
            "_model_name": "LayoutModel",
            "justify_items": null,
            "grid_row": null,
            "max_height": null,
            "align_content": null,
            "visibility": null,
            "align_self": null,
            "height": null,
            "min_height": null,
            "padding": null,
            "grid_auto_rows": null,
            "grid_gap": null,
            "max_width": null,
            "order": null,
            "_view_module_version": "1.2.0",
            "grid_template_areas": null,
            "object_position": null,
            "object_fit": null,
            "grid_auto_columns": null,
            "margin": null,
            "display": null,
            "left": null
          }
        },
        "5f40e7696db94dbd829f91a432e8af78": {
          "model_module": "@jupyter-widgets/base",
          "model_name": "LayoutModel",
          "model_module_version": "1.2.0",
          "state": {
            "_view_name": "LayoutView",
            "grid_template_rows": null,
            "right": null,
            "justify_content": null,
            "_view_module": "@jupyter-widgets/base",
            "overflow": null,
            "_model_module_version": "1.2.0",
            "_view_count": null,
            "flex_flow": null,
            "width": null,
            "min_width": null,
            "border": null,
            "align_items": null,
            "bottom": null,
            "_model_module": "@jupyter-widgets/base",
            "top": null,
            "grid_column": null,
            "overflow_y": null,
            "overflow_x": null,
            "grid_auto_flow": null,
            "grid_area": null,
            "grid_template_columns": null,
            "flex": null,
            "_model_name": "LayoutModel",
            "justify_items": null,
            "grid_row": null,
            "max_height": null,
            "align_content": null,
            "visibility": null,
            "align_self": null,
            "height": null,
            "min_height": null,
            "padding": null,
            "grid_auto_rows": null,
            "grid_gap": null,
            "max_width": null,
            "order": null,
            "_view_module_version": "1.2.0",
            "grid_template_areas": null,
            "object_position": null,
            "object_fit": null,
            "grid_auto_columns": null,
            "margin": null,
            "display": null,
            "left": null
          }
        },
        "be7b1859259c4ab482af9bfa47ef9a56": {
          "model_module": "@jupyter-widgets/base",
          "model_name": "LayoutModel",
          "model_module_version": "1.2.0",
          "state": {
            "_view_name": "LayoutView",
            "grid_template_rows": null,
            "right": null,
            "justify_content": null,
            "_view_module": "@jupyter-widgets/base",
            "overflow": null,
            "_model_module_version": "1.2.0",
            "_view_count": null,
            "flex_flow": null,
            "width": null,
            "min_width": null,
            "border": null,
            "align_items": null,
            "bottom": null,
            "_model_module": "@jupyter-widgets/base",
            "top": null,
            "grid_column": null,
            "overflow_y": null,
            "overflow_x": null,
            "grid_auto_flow": null,
            "grid_area": null,
            "grid_template_columns": null,
            "flex": null,
            "_model_name": "LayoutModel",
            "justify_items": null,
            "grid_row": null,
            "max_height": null,
            "align_content": null,
            "visibility": null,
            "align_self": null,
            "height": null,
            "min_height": null,
            "padding": null,
            "grid_auto_rows": null,
            "grid_gap": null,
            "max_width": null,
            "order": null,
            "_view_module_version": "1.2.0",
            "grid_template_areas": null,
            "object_position": null,
            "object_fit": null,
            "grid_auto_columns": null,
            "margin": null,
            "display": null,
            "left": null
          }
        },
        "4d2820050eb1458793e1a7ee41cf5f53": {
          "model_module": "@jupyter-widgets/controls",
          "model_name": "DescriptionStyleModel",
          "model_module_version": "1.5.0",
          "state": {
            "_view_name": "StyleView",
            "_model_name": "DescriptionStyleModel",
            "description_width": "",
            "_view_module": "@jupyter-widgets/base",
            "_model_module_version": "1.5.0",
            "_view_count": null,
            "_view_module_version": "1.2.0",
            "_model_module": "@jupyter-widgets/controls"
          }
        },
        "caea3a2f7b924b46a0fafca650004f8c": {
          "model_module": "@jupyter-widgets/base",
          "model_name": "LayoutModel",
          "model_module_version": "1.2.0",
          "state": {
            "_view_name": "LayoutView",
            "grid_template_rows": null,
            "right": null,
            "justify_content": null,
            "_view_module": "@jupyter-widgets/base",
            "overflow": null,
            "_model_module_version": "1.2.0",
            "_view_count": null,
            "flex_flow": null,
            "width": "100%",
            "min_width": null,
            "border": null,
            "align_items": null,
            "bottom": null,
            "_model_module": "@jupyter-widgets/base",
            "top": null,
            "grid_column": null,
            "overflow_y": null,
            "overflow_x": null,
            "grid_auto_flow": null,
            "grid_area": null,
            "grid_template_columns": null,
            "flex": null,
            "_model_name": "LayoutModel",
            "justify_items": null,
            "grid_row": null,
            "max_height": null,
            "align_content": null,
            "visibility": null,
            "align_self": null,
            "height": "500px",
            "min_height": null,
            "padding": null,
            "grid_auto_rows": null,
            "grid_gap": null,
            "max_width": null,
            "order": null,
            "_view_module_version": "1.2.0",
            "grid_template_areas": null,
            "object_position": null,
            "object_fit": null,
            "grid_auto_columns": null,
            "margin": null,
            "display": null,
            "left": null
          }
        }
      }
    }
  },
  "cells": [
    {
      "cell_type": "markdown",
      "metadata": {
        "run_control": {
          "frozen": false,
          "read_only": false
        },
        "id": "PuygmUfHbxWj"
      },
      "source": [
        "# DFA: Basics, and Designing Them (Ch 4)"
      ]
    },
    {
      "cell_type": "code",
      "metadata": {
        "run_control": {
          "frozen": false,
          "read_only": false
        },
        "colab": {
          "base_uri": "https://localhost:8080/"
        },
        "id": "vzLFDoUXbxW3",
        "outputId": "6c3005be-431d-47dc-e5ff-e3b28bd197a7"
      },
      "source": [
        "#~~~~~~~~~~~~~~~~~~~~~~~~~~~~~~~~~~~~~~~~~~~~~~~~~~~~~~~\n",
        "import sys\n",
        "\n",
        "# -- Detect if in Own Install or in Colab\n",
        "try:\n",
        "    import google.colab\n",
        "    OWN_INSTALL = False\n",
        "except:\n",
        "    OWN_INSTALL = True\n",
        "    \n",
        "if OWN_INSTALL:\n",
        "    \n",
        "  #---- Leave these definitions ON if running on laptop\n",
        "  #---- Else turn OFF by putting them between ''' ... '''\n",
        "\n",
        "  sys.path[0:0] = ['../../../../..',  '../../../../../3rdparty',  \n",
        "                   '../../../..',  '../../../../3rdparty',  \n",
        "                   '../../..',     '../../../3rdparty', \n",
        "                   '../..',        '../../3rdparty',\n",
        "                   '..',           '../3rdparty' ]\n",
        "\n",
        "else: # In colab\n",
        "  ! if [ ! -d Jove ]; then git clone https://github.com/ganeshutah/Jove Jove; fi\n",
        "  sys.path.append('./Jove')\n",
        "  sys.path.append('./Jove/jove')\n",
        "\n",
        "# -- common imports --\n",
        "from jove.DotBashers import *\n",
        "from jove.Def_md2mc  import *\n",
        "from jove.Def_DFA    import *\n",
        "from jove.LangDef    import *  # for testing DFA actions\n",
        "#~~~~~~~~~~~~~~~~~~~~~~~~~~~~~~~~~~~~~~~~~~~~~~~~~~~~~~~"
      ],
      "execution_count": 1,
      "outputs": [
        {
          "output_type": "stream",
          "name": "stdout",
          "text": [
            "Cloning into 'Jove'...\n",
            "remote: Enumerating objects: 4762, done.\u001b[K\n",
            "remote: Counting objects: 100% (128/128), done.\u001b[K\n",
            "remote: Compressing objects: 100% (83/83), done.\u001b[K\n",
            "remote: Total 4762 (delta 75), reused 88 (delta 40), pack-reused 4634\u001b[K\n",
            "Receiving objects: 100% (4762/4762), 7.52 MiB | 5.45 MiB/s, done.\n",
            "Resolving deltas: 100% (3080/3080), done.\n",
            "You may use any of these help commands:\n",
            "help(ResetStNum)\n",
            "help(NxtStateStr)\n",
            "\n",
            "You may use any of these help commands:\n",
            "help(md2mc)\n",
            ".. and if you want to dig more, then ..\n",
            "help(default_line_attr)\n",
            "help(length_ok_input_items)\n",
            "help(union_line_attr_list_fld)\n",
            "help(extend_rsltdict)\n",
            "help(form_delta)\n",
            "help(get_machine_components)\n",
            "\n",
            "You may use any of these help commands:\n",
            "help(mkp_dfa)\n",
            "help(mk_dfa)\n",
            "help(totalize_dfa)\n",
            "help(addtosigma_delta)\n",
            "help(step_dfa)\n",
            "help(run_dfa)\n",
            "help(accepts_dfa)\n",
            "help(comp_dfa)\n",
            "help(union_dfa)\n",
            "help(intersect_dfa)\n",
            "help(pruneUnreach)\n",
            "help(iso_dfa)\n",
            "help(langeq_dfa)\n",
            "help(same_status)\n",
            "help(h_langeq_dfa)\n",
            "help(fixptDist)\n",
            "help(min_dfa)\n",
            "help(pairFR)\n",
            "help(state_combos)\n",
            "help(sepFinNonFin)\n",
            "help(bash_eql_classes)\n",
            "help(listminus)\n",
            "help(bash_1)\n",
            "help(mk_rep_eqc)\n",
            "help(F_of)\n",
            "help(rep_of_s)\n",
            "help(q0_of)\n",
            "help(Delta_of)\n",
            "help(mk_state_eqc_name)\n",
            "\n",
            "You may use any of these help commands:\n",
            "help(lphi)\n",
            "help(lunit)\n",
            "help(lcat)\n",
            "help(lexp)\n",
            "help(lunion)\n",
            "help(lstar)\n",
            "help(srev)\n",
            "help(lrev)\n",
            "help(shomo)\n",
            "help(lhomo)\n",
            "help(powset)\n",
            "help(lint)\n",
            "help(lsymdiff)\n",
            "help(lminus)\n",
            "help(lissubset)\n",
            "help(lissuperset)\n",
            "help(lcomplem)\n",
            "help(product)\n",
            "help(nthnumeric)\n",
            "\n"
          ]
        }
      ]
    },
    {
      "cell_type": "markdown",
      "metadata": {
        "run_control": {
          "frozen": false,
          "read_only": false
        },
        "id": "MgPwrs0ibxXD"
      },
      "source": [
        "# What are DFA?\n",
        "\n",
        "DFA are mechanisms to specify a simple yet powerful family of languages called\n",
        "Regular Languages. Below, we define Regular Languages. Then we present how DFA\n",
        "help define regular languages in two ways: One via Graphs, and the other via\n",
        "Symbol and String Transition Functions."
      ]
    },
    {
      "cell_type": "code",
      "metadata": {
        "colab": {
          "base_uri": "https://localhost:8080/"
        },
        "id": "yoD-hywTbxXG",
        "outputId": "35e4378b-8498-4410-accf-f873fa6d57a1"
      },
      "source": [
        "i_jDivisibleByThree= md2mc('''DFA\n",
        "\n",
        "IF : a -> S_ad  !! d denotes no more accepting either a or b\n",
        "IF : b -> S_db  !! no more accepting a's (0 a % 3 = 0)\n",
        "\n",
        "Sab : a -> Saab  !! Saba functionally the same as Saab, keep lexicographic order\n",
        "Sab : b -> Sabb\n",
        "\n",
        "Saab : a -> S_db  !! d denotes no more accepting a's\n",
        "Saab : b -> Saabb\n",
        "\n",
        "Sabb : a -> Saabb  !! Sabba functionally the same as Saabb\n",
        "Sabb : b -> S_ad   !! d denotes no more accepting b's\n",
        "\n",
        "S_db : a -> Sab   !! a % 3 was 0, now it is 1, along with 1 b (Sab)\n",
        "S_db : b -> S_dbb\n",
        "\n",
        "S_ad : a -> S_aad\n",
        "S_ad : b -> Sab  !! b % 3 was 0, now it is 1, along with 1 a (Sab)\n",
        "\n",
        "Saabb : a -> S_dbb  !! pattern continues\n",
        "Saabb : b -> S_aad\n",
        "\n",
        "S_aad : a -> IF\n",
        "S_aad : b -> Saab\n",
        "\n",
        "S_dbb : a -> Sabb\n",
        "S_dbb : b -> IF\n",
        "\n",
        "''')"
      ],
      "execution_count": 2,
      "outputs": [
        {
          "output_type": "stream",
          "name": "stderr",
          "text": [
            "Generating LALR tables\n"
          ]
        }
      ]
    },
    {
      "cell_type": "code",
      "metadata": {
        "colab": {
          "base_uri": "https://localhost:8080/",
          "height": 530
        },
        "id": "vmo7h1o5bxXL",
        "outputId": "bdbb920a-8e51-4eca-956f-03dd6190edf1"
      },
      "source": [
        "dotObj_dfa(i_jDivisibleByThree)"
      ],
      "execution_count": 3,
      "outputs": [
        {
          "output_type": "execute_result",
          "data": {
            "text/plain": [
              "<graphviz.dot.Digraph at 0x7fb2cf0fcad0>"
            ],
            "image/svg+xml": "<?xml version=\"1.0\" encoding=\"UTF-8\" standalone=\"no\"?>\n<!DOCTYPE svg PUBLIC \"-//W3C//DTD SVG 1.1//EN\"\n \"http://www.w3.org/Graphics/SVG/1.1/DTD/svg11.dtd\">\n<!-- Generated by graphviz version 2.40.1 (20161225.0304)\n -->\n<!-- Title: %3 Pages: 1 -->\n<svg width=\"1019pt\" height=\"382pt\"\n viewBox=\"0.00 0.00 1018.65 382.00\" xmlns=\"http://www.w3.org/2000/svg\" xmlns:xlink=\"http://www.w3.org/1999/xlink\">\n<g id=\"graph0\" class=\"graph\" transform=\"scale(1 1) rotate(0) translate(4 378)\">\n<title>%3</title>\n<polygon fill=\"#ffffff\" stroke=\"transparent\" points=\"-4,4 -4,-378 1014.6528,-378 1014.6528,4 -4,4\"/>\n<!-- EMPTY -->\n<g id=\"node1\" class=\"node\">\n<title>EMPTY</title>\n</g>\n<!-- IF -->\n<g id=\"node10\" class=\"node\">\n<title>IF</title>\n<ellipse fill=\"none\" stroke=\"#000000\" cx=\"113.8483\" cy=\"-306\" rx=\"18.724\" ry=\"18.724\"/>\n<ellipse fill=\"none\" stroke=\"#000000\" cx=\"113.8483\" cy=\"-306\" rx=\"22.6977\" ry=\"22.6977\"/>\n<text text-anchor=\"middle\" x=\"113.8483\" y=\"-302.3\" font-family=\"Times,serif\" font-size=\"14.00\" fill=\"#000000\">IF</text>\n</g>\n<!-- EMPTY&#45;&gt;IF -->\n<g id=\"edge1\" class=\"edge\">\n<title>EMPTY&#45;&gt;IF</title>\n<path fill=\"none\" stroke=\"#000000\" d=\"M54.0033,-306C62.5212,-306 72.0276,-306 80.9112,-306\"/>\n<polygon fill=\"#000000\" stroke=\"#000000\" points=\"80.9572,-309.5001 90.9572,-306 80.9572,-302.5001 80.9572,-309.5001\"/>\n</g>\n<!-- S_ad -->\n<g id=\"node2\" class=\"node\">\n<title>S_ad</title>\n<ellipse fill=\"none\" stroke=\"#000000\" cx=\"212.594\" cy=\"-224\" rx=\"29.795\" ry=\"29.795\"/>\n<text text-anchor=\"middle\" x=\"212.594\" y=\"-220.3\" font-family=\"Times,serif\" font-size=\"14.00\" fill=\"#000000\">S_ad</text>\n</g>\n<!-- Sab -->\n<g id=\"node6\" class=\"node\">\n<title>Sab</title>\n<ellipse fill=\"none\" stroke=\"#000000\" cx=\"315.1892\" cy=\"-187\" rx=\"24.8972\" ry=\"24.8972\"/>\n<text text-anchor=\"middle\" x=\"315.1892\" y=\"-183.3\" font-family=\"Times,serif\" font-size=\"14.00\" fill=\"#000000\">Sab</text>\n</g>\n<!-- S_ad&#45;&gt;Sab -->\n<g id=\"edge13\" class=\"edge\">\n<title>S_ad&#45;&gt;Sab</title>\n<path fill=\"none\" stroke=\"#000000\" d=\"M240.9002,-213.7916C253.6614,-209.1894 268.8162,-203.724 282.0993,-198.9336\"/>\n<polygon fill=\"#000000\" stroke=\"#000000\" points=\"283.602,-202.1124 291.8215,-195.4273 281.2271,-195.5275 283.602,-202.1124\"/>\n<text text-anchor=\"middle\" x=\"266.4913\" y=\"-210.8\" font-family=\"Times,serif\" font-size=\"14.00\" fill=\"#000000\">b </text>\n</g>\n<!-- S_aad -->\n<g id=\"node7\" class=\"node\">\n<title>S_aad</title>\n<ellipse fill=\"none\" stroke=\"#000000\" cx=\"645.0727\" cy=\"-240\" rx=\"33.5952\" ry=\"33.5952\"/>\n<text text-anchor=\"middle\" x=\"645.0727\" y=\"-236.3\" font-family=\"Times,serif\" font-size=\"14.00\" fill=\"#000000\">S_aad</text>\n</g>\n<!-- S_ad&#45;&gt;S_aad -->\n<g id=\"edge12\" class=\"edge\">\n<title>S_ad&#45;&gt;S_aad</title>\n<path fill=\"none\" stroke=\"#000000\" d=\"M242.0359,-231.0644C262.4425,-235.3506 290.312,-240 315.1892,-240 315.1892,-240 315.1892,-240 529.4787,-240 553.1061,-240 579.45,-240 601.0145,-240\"/>\n<polygon fill=\"#000000\" stroke=\"#000000\" points=\"601.1839,-243.5001 611.1839,-240 601.1839,-236.5001 601.1839,-243.5001\"/>\n<text text-anchor=\"middle\" x=\"417.7843\" y=\"-243.8\" font-family=\"Times,serif\" font-size=\"14.00\" fill=\"#000000\">a </text>\n</g>\n<!-- Saabb -->\n<g id=\"node3\" class=\"node\">\n<title>Saabb</title>\n<ellipse fill=\"none\" stroke=\"#000000\" cx=\"529.4787\" cy=\"-121\" rx=\"33.5952\" ry=\"33.5952\"/>\n<text text-anchor=\"middle\" x=\"529.4787\" y=\"-117.3\" font-family=\"Times,serif\" font-size=\"14.00\" fill=\"#000000\">Saabb</text>\n</g>\n<!-- Saabb&#45;&gt;S_aad -->\n<g id=\"edge15\" class=\"edge\">\n<title>Saabb&#45;&gt;S_aad</title>\n<path fill=\"none\" stroke=\"#000000\" d=\"M553.1498,-145.3686C570.8377,-163.5777 595.1692,-188.6261 614.3561,-208.3784\"/>\n<polygon fill=\"#000000\" stroke=\"#000000\" points=\"611.955,-210.9297 621.4332,-215.664 616.9761,-206.0523 611.955,-210.9297\"/>\n<text text-anchor=\"middle\" x=\"587.2757\" y=\"-188.8\" font-family=\"Times,serif\" font-size=\"14.00\" fill=\"#000000\">b </text>\n</g>\n<!-- S_dbb -->\n<g id=\"node8\" class=\"node\">\n<title>S_dbb</title>\n<ellipse fill=\"none\" stroke=\"#000000\" cx=\"974.906\" cy=\"-66\" rx=\"35.9954\" ry=\"35.9954\"/>\n<text text-anchor=\"middle\" x=\"974.906\" y=\"-62.3\" font-family=\"Times,serif\" font-size=\"14.00\" fill=\"#000000\">S_dbb</text>\n</g>\n<!-- Saabb&#45;&gt;S_dbb -->\n<g id=\"edge14\" class=\"edge\">\n<title>Saabb&#45;&gt;S_dbb</title>\n<path fill=\"none\" stroke=\"#000000\" d=\"M560.7262,-107.4291C583.6273,-98.7075 615.712,-89 645.0727,-89 645.0727,-89 645.0727,-89 860.6119,-89 884.0071,-89 909.5759,-84.3112 930.5863,-79.1677\"/>\n<polygon fill=\"#000000\" stroke=\"#000000\" points=\"931.6874,-82.4987 940.5048,-76.6248 929.9488,-75.718 931.6874,-82.4987\"/>\n<text text-anchor=\"middle\" x=\"755.4671\" y=\"-92.8\" font-family=\"Times,serif\" font-size=\"14.00\" fill=\"#000000\">a </text>\n</g>\n<!-- S_db -->\n<g id=\"node4\" class=\"node\">\n<title>S_db</title>\n<ellipse fill=\"none\" stroke=\"#000000\" cx=\"860.6119\" cy=\"-275\" rx=\"30.5947\" ry=\"30.5947\"/>\n<text text-anchor=\"middle\" x=\"860.6119\" y=\"-271.3\" font-family=\"Times,serif\" font-size=\"14.00\" fill=\"#000000\">S_db</text>\n</g>\n<!-- S_db&#45;&gt;Sab -->\n<g id=\"edge10\" class=\"edge\">\n<title>S_db&#45;&gt;Sab</title>\n<path fill=\"none\" stroke=\"#000000\" d=\"M830.7583,-281.778C753.1473,-297.815 540.4759,-331.5456 387.887,-259 367.1217,-249.1275 348.7699,-230.8318 335.6996,-215.1546\"/>\n<polygon fill=\"#000000\" stroke=\"#000000\" points=\"338.3489,-212.8637 329.3613,-207.2536 332.8887,-217.244 338.3489,-212.8637\"/>\n<text text-anchor=\"middle\" x=\"587.2757\" y=\"-307.8\" font-family=\"Times,serif\" font-size=\"14.00\" fill=\"#000000\">a </text>\n</g>\n<!-- S_db&#45;&gt;S_dbb -->\n<g id=\"edge11\" class=\"edge\">\n<title>S_db&#45;&gt;S_dbb</title>\n<path fill=\"none\" stroke=\"#000000\" d=\"M875.3199,-248.1048C894.9792,-212.1554 929.9896,-148.1348 952.8242,-106.3791\"/>\n<polygon fill=\"#000000\" stroke=\"#000000\" points=\"955.9159,-108.0202 957.6432,-97.5671 949.7743,-104.6615 955.9159,-108.0202\"/>\n<text text-anchor=\"middle\" x=\"915.1592\" y=\"-187.8\" font-family=\"Times,serif\" font-size=\"14.00\" fill=\"#000000\">b </text>\n</g>\n<!-- Sabb -->\n<g id=\"node5\" class=\"node\">\n<title>Sabb</title>\n<ellipse fill=\"none\" stroke=\"#000000\" cx=\"417.7843\" cy=\"-124\" rx=\"29.795\" ry=\"29.795\"/>\n<text text-anchor=\"middle\" x=\"417.7843\" y=\"-120.3\" font-family=\"Times,serif\" font-size=\"14.00\" fill=\"#000000\">Sabb</text>\n</g>\n<!-- Sabb&#45;&gt;S_ad -->\n<g id=\"edge9\" class=\"edge\">\n<title>Sabb&#45;&gt;S_ad</title>\n<path fill=\"none\" stroke=\"#000000\" d=\"M387.7855,-121.4801C360.8543,-120.5246 320.9835,-122.4277 290.4913,-138 267.4656,-149.7592 247.9483,-171.3433 234.2091,-189.9453\"/>\n<polygon fill=\"#000000\" stroke=\"#000000\" points=\"231.2558,-188.0589 228.3112,-198.2364 236.9598,-192.1165 231.2558,-188.0589\"/>\n<text text-anchor=\"middle\" x=\"315.1892\" y=\"-141.8\" font-family=\"Times,serif\" font-size=\"14.00\" fill=\"#000000\">b </text>\n</g>\n<!-- Sabb&#45;&gt;Saabb -->\n<g id=\"edge8\" class=\"edge\">\n<title>Sabb&#45;&gt;Saabb</title>\n<path fill=\"none\" stroke=\"#000000\" d=\"M447.7163,-123.1961C459.2267,-122.8869 472.6242,-122.5271 485.2027,-122.1892\"/>\n<polygon fill=\"#000000\" stroke=\"#000000\" points=\"485.6141,-125.6795 495.5165,-121.9122 485.4261,-118.682 485.6141,-125.6795\"/>\n<text text-anchor=\"middle\" x=\"471.6817\" y=\"-126.8\" font-family=\"Times,serif\" font-size=\"14.00\" fill=\"#000000\">a </text>\n</g>\n<!-- Sab&#45;&gt;Sabb -->\n<g id=\"edge5\" class=\"edge\">\n<title>Sab&#45;&gt;Sabb</title>\n<path fill=\"none\" stroke=\"#000000\" d=\"M336.4469,-173.9464C349.9885,-165.631 367.8422,-154.6677 383.372,-145.1314\"/>\n<polygon fill=\"#000000\" stroke=\"#000000\" points=\"385.5069,-147.9277 392.197,-139.7122 381.8439,-141.9625 385.5069,-147.9277\"/>\n<text text-anchor=\"middle\" x=\"363.887\" y=\"-163.8\" font-family=\"Times,serif\" font-size=\"14.00\" fill=\"#000000\">b </text>\n</g>\n<!-- Saab -->\n<g id=\"node9\" class=\"node\">\n<title>Saab</title>\n<ellipse fill=\"none\" stroke=\"#000000\" cx=\"755.4671\" cy=\"-201\" rx=\"28.6953\" ry=\"28.6953\"/>\n<text text-anchor=\"middle\" x=\"755.4671\" y=\"-197.3\" font-family=\"Times,serif\" font-size=\"14.00\" fill=\"#000000\">Saab</text>\n</g>\n<!-- Sab&#45;&gt;Saab -->\n<g id=\"edge4\" class=\"edge\">\n<title>Sab&#45;&gt;Saab</title>\n<path fill=\"none\" stroke=\"#000000\" d=\"M339.8904,-187.4689C398.6512,-188.6304 551.3819,-191.9193 678.8697,-197 691.1161,-197.4881 704.4577,-198.1422 716.524,-198.7799\"/>\n<polygon fill=\"#000000\" stroke=\"#000000\" points=\"716.5656,-202.2872 726.7398,-199.3316 716.9431,-195.2974 716.5656,-202.2872\"/>\n<text text-anchor=\"middle\" x=\"529.4787\" y=\"-196.8\" font-family=\"Times,serif\" font-size=\"14.00\" fill=\"#000000\">a </text>\n</g>\n<!-- S_aad&#45;&gt;Saab -->\n<g id=\"edge17\" class=\"edge\">\n<title>S_aad&#45;&gt;Saab</title>\n<path fill=\"none\" stroke=\"#000000\" d=\"M677.0033,-228.7196C690.1212,-224.0853 705.3851,-218.6929 718.9445,-213.9027\"/>\n<polygon fill=\"#000000\" stroke=\"#000000\" points=\"720.1986,-217.1717 728.4616,-210.5405 717.8668,-210.5715 720.1986,-217.1717\"/>\n<text text-anchor=\"middle\" x=\"702.8697\" y=\"-225.8\" font-family=\"Times,serif\" font-size=\"14.00\" fill=\"#000000\">b </text>\n</g>\n<!-- S_aad&#45;&gt;IF -->\n<g id=\"edge16\" class=\"edge\">\n<title>S_aad&#45;&gt;IF</title>\n<path fill=\"none\" stroke=\"#000000\" d=\"M628.3207,-269.47C619.4876,-282.5049 607.5173,-296.9085 593.2757,-306 568.7244,-321.6729 558.6061,-321 529.4787,-321 212.594,-321 212.594,-321 212.594,-321 190.3554,-321 165.6159,-317.2353 146.4627,-313.478\"/>\n<polygon fill=\"#000000\" stroke=\"#000000\" points=\"146.9486,-310.0047 136.4481,-311.4153 145.5364,-316.8608 146.9486,-310.0047\"/>\n<text text-anchor=\"middle\" x=\"363.887\" y=\"-324.8\" font-family=\"Times,serif\" font-size=\"14.00\" fill=\"#000000\">a </text>\n</g>\n<!-- S_dbb&#45;&gt;Sabb -->\n<g id=\"edge18\" class=\"edge\">\n<title>S_dbb&#45;&gt;Sabb</title>\n<path fill=\"none\" stroke=\"#000000\" d=\"M940.5048,-55.3752C918.0021,-49.3488 887.8354,-43 860.6119,-43 529.4787,-43 529.4787,-43 529.4787,-43 494.5521,-43 463.1773,-69.2767 442.6387,-91.8976\"/>\n<polygon fill=\"#000000\" stroke=\"#000000\" points=\"439.7718,-89.8599 435.8378,-99.6973 445.0478,-94.4603 439.7718,-89.8599\"/>\n<text text-anchor=\"middle\" x=\"702.8697\" y=\"-46.8\" font-family=\"Times,serif\" font-size=\"14.00\" fill=\"#000000\">a </text>\n</g>\n<!-- S_dbb&#45;&gt;IF -->\n<g id=\"edge19\" class=\"edge\">\n<title>S_dbb&#45;&gt;IF</title>\n<path fill=\"none\" stroke=\"#000000\" d=\"M949.1506,-40.6714C927.4254,-22.0591 894.5238,0 860.6119,0 212.594,0 212.594,0 212.594,0 155.8136,0 126.9193,-193.2318 117.4469,-272.5902\"/>\n<polygon fill=\"#000000\" stroke=\"#000000\" points=\"113.915,-272.6633 116.2383,-283.0003 120.8683,-273.4706 113.915,-272.6633\"/>\n<text text-anchor=\"middle\" x=\"529.4787\" y=\"-3.8\" font-family=\"Times,serif\" font-size=\"14.00\" fill=\"#000000\">b </text>\n</g>\n<!-- Saab&#45;&gt;Saabb -->\n<g id=\"edge7\" class=\"edge\">\n<title>Saab&#45;&gt;Saabb</title>\n<path fill=\"none\" stroke=\"#000000\" d=\"M733.4138,-181.9525C725.8762,-175.8649 717.2326,-169.3294 708.8697,-164 667.7651,-137.8055 612.1319,-127.5588 573.7721,-123.5558\"/>\n<polygon fill=\"#000000\" stroke=\"#000000\" points=\"573.7209,-120.0357 563.4372,-122.5843 573.0657,-127.0049 573.7209,-120.0357\"/>\n<text text-anchor=\"middle\" x=\"645.0727\" y=\"-151.8\" font-family=\"Times,serif\" font-size=\"14.00\" fill=\"#000000\">b </text>\n</g>\n<!-- Saab&#45;&gt;S_db -->\n<g id=\"edge6\" class=\"edge\">\n<title>Saab&#45;&gt;S_db</title>\n<path fill=\"none\" stroke=\"#000000\" d=\"M779.0637,-217.607C793.2658,-227.6024 811.5706,-240.4852 827.2383,-251.5119\"/>\n<polygon fill=\"#000000\" stroke=\"#000000\" points=\"825.4363,-254.5236 835.6284,-257.4169 829.4651,-248.7992 825.4363,-254.5236\"/>\n<text text-anchor=\"middle\" x=\"807.0646\" y=\"-244.8\" font-family=\"Times,serif\" font-size=\"14.00\" fill=\"#000000\">a </text>\n</g>\n<!-- IF&#45;&gt;S_ad -->\n<g id=\"edge2\" class=\"edge\">\n<title>IF&#45;&gt;S_ad</title>\n<path fill=\"none\" stroke=\"#000000\" d=\"M131.5021,-291.34C145.4226,-279.7802 165.177,-263.3758 181.7029,-249.6525\"/>\n<polygon fill=\"#000000\" stroke=\"#000000\" points=\"184.0593,-252.2452 189.5165,-243.1639 179.5873,-246.8599 184.0593,-252.2452\"/>\n<text text-anchor=\"middle\" x=\"159.6967\" y=\"-273.8\" font-family=\"Times,serif\" font-size=\"14.00\" fill=\"#000000\">a </text>\n</g>\n<!-- IF&#45;&gt;S_db -->\n<g id=\"edge3\" class=\"edge\">\n<title>IF&#45;&gt;S_db</title>\n<path fill=\"none\" stroke=\"#000000\" d=\"M130.5781,-321.6151C149.1343,-337.2488 180.6852,-359 212.594,-359 212.594,-359 212.594,-359 755.4671,-359 789.3254,-359 818.5434,-332.0834 837.5253,-308.7236\"/>\n<polygon fill=\"#000000\" stroke=\"#000000\" points=\"840.4222,-310.7 843.8033,-300.6592 834.8986,-306.4 840.4222,-310.7\"/>\n<text text-anchor=\"middle\" x=\"471.6817\" y=\"-362.8\" font-family=\"Times,serif\" font-size=\"14.00\" fill=\"#000000\">b </text>\n</g>\n</g>\n</svg>\n"
          },
          "metadata": {},
          "execution_count": 3
        }
      ]
    },
    {
      "cell_type": "code",
      "metadata": {
        "id": "SYos0M9LbxXN"
      },
      "source": [
        ""
      ],
      "execution_count": 3,
      "outputs": []
    },
    {
      "cell_type": "markdown",
      "metadata": {
        "run_control": {
          "frozen": false,
          "read_only": false
        },
        "id": "k4cX30s8bxXQ"
      },
      "source": [
        "## From Languages to Regular Languages\n",
        "\n",
        "We will now study __regular languages__. \n",
        "\n",
        "L is a regular language if L has a DFA. \n",
        "\n",
        "L is a regular language if there is a DFA D such that D accepts *all* and *only* those strings in L."
      ]
    },
    {
      "cell_type": "markdown",
      "metadata": {
        "run_control": {
          "frozen": false,
          "read_only": false
        },
        "id": "A5rRSdTmbxXU"
      },
      "source": [
        "## DFA as Graphs: Define Regular Languages\n",
        "\n",
        "DFA drawings are graphs. A string w is in a DFA D's language if there is a path from the initial state to *a* final state of D labeled by w."
      ]
    },
    {
      "cell_type": "markdown",
      "metadata": {
        "run_control": {
          "frozen": false,
          "read_only": false
        },
        "id": "WbKRjYD0bxXW"
      },
      "source": [
        "## DFA as Symbol and String Transition Functions\n",
        "\n",
        "A DFA is a quintuple $(Q, \\Sigma, \\delta, q_0, F)$. Its Python encoding looks as below."
      ]
    },
    {
      "cell_type": "code",
      "metadata": {
        "run_control": {
          "frozen": false,
          "read_only": false
        },
        "id": "ZYFtTcZWbxXa"
      },
      "source": [
        "Fig34 = {\n",
        " 'Q': {'A', 'F', 'I'},\n",
        " 'Sigma': {'0', '1'},\n",
        " 'Delta': {('A', '0'): 'I',\n",
        "  ('A', '1'): 'I',\n",
        "  ('F', '0'): 'I',\n",
        "  ('F', '1'): 'I',\n",
        "  ('I', '0'): 'A',\n",
        "  ('I', '1'): 'F'},\n",
        " 'q0': 'I',\n",
        " 'F': {'F'}\n",
        "}"
      ],
      "execution_count": 4,
      "outputs": []
    },
    {
      "cell_type": "code",
      "metadata": {
        "run_control": {
          "frozen": false,
          "read_only": false
        },
        "colab": {
          "base_uri": "https://localhost:8080/",
          "height": 246
        },
        "id": "9z3PjdIwbxXc",
        "outputId": "0f23052d-1083-40b4-de7f-a61384d89b3d"
      },
      "source": [
        "dotObj_dfa(Fig34)"
      ],
      "execution_count": 5,
      "outputs": [
        {
          "output_type": "execute_result",
          "data": {
            "text/plain": [
              "<graphviz.dot.Digraph at 0x7fb2cf0fca10>"
            ],
            "image/svg+xml": "<?xml version=\"1.0\" encoding=\"UTF-8\" standalone=\"no\"?>\n<!DOCTYPE svg PUBLIC \"-//W3C//DTD SVG 1.1//EN\"\n \"http://www.w3.org/Graphics/SVG/1.1/DTD/svg11.dtd\">\n<!-- Generated by graphviz version 2.40.1 (20161225.0304)\n -->\n<!-- Title: %3 Pages: 1 -->\n<svg width=\"227pt\" height=\"169pt\"\n viewBox=\"0.00 0.00 227.00 169.25\" xmlns=\"http://www.w3.org/2000/svg\" xmlns:xlink=\"http://www.w3.org/1999/xlink\">\n<g id=\"graph0\" class=\"graph\" transform=\"scale(1 1) rotate(0) translate(4 165.249)\">\n<title>%3</title>\n<polygon fill=\"#ffffff\" stroke=\"transparent\" points=\"-4,4 -4,-165.249 223,-165.249 223,4 -4,4\"/>\n<!-- EMPTY -->\n<g id=\"node1\" class=\"node\">\n<title>EMPTY</title>\n</g>\n<!-- I -->\n<g id=\"node2\" class=\"node\">\n<title>I</title>\n<ellipse fill=\"none\" stroke=\"#000000\" cx=\"109\" cy=\"-83.249\" rx=\"18\" ry=\"18\"/>\n<text text-anchor=\"middle\" x=\"109\" y=\"-79.549\" font-family=\"Times,serif\" font-size=\"14.00\" fill=\"#000000\">I</text>\n</g>\n<!-- EMPTY&#45;&gt;I -->\n<g id=\"edge1\" class=\"edge\">\n<title>EMPTY&#45;&gt;I</title>\n<path fill=\"none\" stroke=\"#000000\" d=\"M54.3048,-83.249C62.6909,-83.249 71.9407,-83.249 80.4103,-83.249\"/>\n<polygon fill=\"#000000\" stroke=\"#000000\" points=\"80.5976,-86.7491 90.5976,-83.249 80.5976,-79.7491 80.5976,-86.7491\"/>\n</g>\n<!-- A -->\n<g id=\"node3\" class=\"node\">\n<title>A</title>\n<ellipse fill=\"none\" stroke=\"#000000\" cx=\"197\" cy=\"-140.249\" rx=\"18\" ry=\"18\"/>\n<text text-anchor=\"middle\" x=\"197\" y=\"-136.549\" font-family=\"Times,serif\" font-size=\"14.00\" fill=\"#000000\">A</text>\n</g>\n<!-- I&#45;&gt;A -->\n<g id=\"edge6\" class=\"edge\">\n<title>I&#45;&gt;A</title>\n<path fill=\"none\" stroke=\"#000000\" d=\"M114.1448,-100.6889C119.381,-114.9604 129.0377,-134.2114 145,-143.249 152.3034,-147.3842 161.1461,-148.1266 169.452,-147.3929\"/>\n<polygon fill=\"#000000\" stroke=\"#000000\" points=\"170.1897,-150.8201 179.5294,-145.8182 169.1089,-143.9041 170.1897,-150.8201\"/>\n<text text-anchor=\"middle\" x=\"151\" y=\"-150.049\" font-family=\"Times,serif\" font-size=\"14.00\" fill=\"#000000\">0 </text>\n</g>\n<!-- F -->\n<g id=\"node4\" class=\"node\">\n<title>F</title>\n<ellipse fill=\"none\" stroke=\"#000000\" cx=\"197\" cy=\"-26.249\" rx=\"18\" ry=\"18\"/>\n<ellipse fill=\"none\" stroke=\"#000000\" cx=\"197\" cy=\"-26.249\" rx=\"22\" ry=\"22\"/>\n<text text-anchor=\"middle\" x=\"197\" y=\"-22.549\" font-family=\"Times,serif\" font-size=\"14.00\" fill=\"#000000\">F</text>\n</g>\n<!-- I&#45;&gt;F -->\n<g id=\"edge7\" class=\"edge\">\n<title>I&#45;&gt;F</title>\n<path fill=\"none\" stroke=\"#000000\" d=\"M124.3284,-73.3204C136.9247,-65.1614 155.0738,-53.4058 170.0832,-43.6838\"/>\n<polygon fill=\"#000000\" stroke=\"#000000\" points=\"172.0016,-46.6113 178.492,-38.2372 168.196,-40.7361 172.0016,-46.6113\"/>\n<text text-anchor=\"middle\" x=\"151\" y=\"-63.049\" font-family=\"Times,serif\" font-size=\"14.00\" fill=\"#000000\">1 </text>\n</g>\n<!-- A&#45;&gt;I -->\n<g id=\"edge2\" class=\"edge\">\n<title>A&#45;&gt;I</title>\n<path fill=\"none\" stroke=\"#000000\" d=\"M179.8074,-134.7995C169.2703,-131.0281 155.7821,-125.4025 145,-118.249 139.0461,-114.2988 133.2141,-109.29 128.0365,-104.3055\"/>\n<polygon fill=\"#000000\" stroke=\"#000000\" points=\"130.4929,-101.8118 120.9807,-97.146 125.5072,-106.7253 130.4929,-101.8118\"/>\n<text text-anchor=\"middle\" x=\"151\" y=\"-128.049\" font-family=\"Times,serif\" font-size=\"14.00\" fill=\"#000000\">0 </text>\n</g>\n<!-- A&#45;&gt;I -->\n<g id=\"edge3\" class=\"edge\">\n<title>A&#45;&gt;I</title>\n<path fill=\"none\" stroke=\"#000000\" d=\"M185.7665,-125.6155C178.4106,-116.9018 168.1234,-106.2189 157,-99.249 150.7986,-95.3632 143.5498,-92.3121 136.5922,-89.9638\"/>\n<polygon fill=\"#000000\" stroke=\"#000000\" points=\"137.3469,-86.5361 126.7627,-87.011 135.3329,-93.2401 137.3469,-86.5361\"/>\n<text text-anchor=\"middle\" x=\"151\" y=\"-103.049\" font-family=\"Times,serif\" font-size=\"14.00\" fill=\"#000000\">1 </text>\n</g>\n<!-- F&#45;&gt;I -->\n<g id=\"edge4\" class=\"edge\">\n<title>F&#45;&gt;I</title>\n<path fill=\"none\" stroke=\"#000000\" d=\"M175.3033,-22.217C165.48,-21.4698 154.0658,-22.1858 145,-27.249 133.3326,-33.7653 124.8607,-45.8191 119.0778,-57.079\"/>\n<polygon fill=\"#000000\" stroke=\"#000000\" points=\"115.8745,-55.6672 114.8416,-66.2116 122.2246,-58.6128 115.8745,-55.6672\"/>\n<text text-anchor=\"middle\" x=\"151\" y=\"-31.049\" font-family=\"Times,serif\" font-size=\"14.00\" fill=\"#000000\">0 </text>\n</g>\n<!-- F&#45;&gt;I -->\n<g id=\"edge5\" class=\"edge\">\n<title>F&#45;&gt;I</title>\n<path fill=\"none\" stroke=\"#000000\" d=\"M180.8658,-11.0207C170.245,-2.9064 156.2738,4.0404 145,-3.249 127.2768,-14.7086 118.1925,-37.2029 113.5876,-55.4277\"/>\n<polygon fill=\"#000000\" stroke=\"#000000\" points=\"110.1502,-54.7629 111.4131,-65.2822 116.9858,-56.2713 110.1502,-54.7629\"/>\n<text text-anchor=\"middle\" x=\"151\" y=\"-7.049\" font-family=\"Times,serif\" font-size=\"14.00\" fill=\"#000000\">1 </text>\n</g>\n</g>\n</svg>\n"
          },
          "metadata": {},
          "execution_count": 5
        }
      ]
    },
    {
      "cell_type": "markdown",
      "metadata": {
        "id": "KYtEGeoKbxXe"
      },
      "source": [
        "## A prettier diagram is obtained by fusing edges"
      ]
    },
    {
      "cell_type": "code",
      "metadata": {
        "colab": {
          "base_uri": "https://localhost:8080/",
          "height": 221
        },
        "id": "aJPP8XIabxXg",
        "outputId": "b702e322-5db6-4081-939a-40b29db819c5"
      },
      "source": [
        "dotObj_dfa(Fig34, FuseEdges=True)"
      ],
      "execution_count": 6,
      "outputs": [
        {
          "output_type": "execute_result",
          "data": {
            "text/plain": [
              "<graphviz.dot.Digraph at 0x7fb2d1e626d0>"
            ],
            "image/svg+xml": "<?xml version=\"1.0\" encoding=\"UTF-8\" standalone=\"no\"?>\n<!DOCTYPE svg PUBLIC \"-//W3C//DTD SVG 1.1//EN\"\n \"http://www.w3.org/Graphics/SVG/1.1/DTD/svg11.dtd\">\n<!-- Generated by graphviz version 2.40.1 (20161225.0304)\n -->\n<!-- Title: %3 Pages: 1 -->\n<svg width=\"231pt\" height=\"150pt\"\n viewBox=\"0.00 0.00 231.00 150.06\" xmlns=\"http://www.w3.org/2000/svg\" xmlns:xlink=\"http://www.w3.org/1999/xlink\">\n<g id=\"graph0\" class=\"graph\" transform=\"scale(1 1) rotate(0) translate(4 146.0579)\">\n<title>%3</title>\n<polygon fill=\"#ffffff\" stroke=\"transparent\" points=\"-4,4 -4,-146.0579 227,-146.0579 227,4 -4,4\"/>\n<!-- EMPTY -->\n<g id=\"node1\" class=\"node\">\n<title>EMPTY</title>\n</g>\n<!-- I -->\n<g id=\"node2\" class=\"node\">\n<title>I</title>\n<ellipse fill=\"none\" stroke=\"#000000\" cx=\"109\" cy=\"-74.0579\" rx=\"18\" ry=\"18\"/>\n<text text-anchor=\"middle\" x=\"109\" y=\"-70.3579\" font-family=\"Times,serif\" font-size=\"14.00\" fill=\"#000000\">I</text>\n</g>\n<!-- EMPTY&#45;&gt;I -->\n<g id=\"edge1\" class=\"edge\">\n<title>EMPTY&#45;&gt;I</title>\n<path fill=\"none\" stroke=\"#000000\" d=\"M54.3048,-74.0579C62.6909,-74.0579 71.9407,-74.0579 80.4103,-74.0579\"/>\n<polygon fill=\"#000000\" stroke=\"#000000\" points=\"80.5976,-77.558 90.5976,-74.0579 80.5976,-70.558 80.5976,-77.558\"/>\n</g>\n<!-- A -->\n<g id=\"node3\" class=\"node\">\n<title>A</title>\n<ellipse fill=\"none\" stroke=\"#000000\" cx=\"201\" cy=\"-111.0579\" rx=\"18\" ry=\"18\"/>\n<text text-anchor=\"middle\" x=\"201\" y=\"-107.3579\" font-family=\"Times,serif\" font-size=\"14.00\" fill=\"#000000\">A</text>\n</g>\n<!-- I&#45;&gt;A -->\n<g id=\"edge4\" class=\"edge\">\n<title>I&#45;&gt;A</title>\n<path fill=\"none\" stroke=\"#000000\" d=\"M116.0163,-90.8531C121.8835,-102.5067 131.4814,-117.1332 145,-124.0579 154.4606,-128.9039 165.7415,-127.468 175.6909,-124.1382\"/>\n<polygon fill=\"#000000\" stroke=\"#000000\" points=\"177.1223,-127.3348 185.0797,-120.3397 174.4969,-120.8457 177.1223,-127.3348\"/>\n<text text-anchor=\"middle\" x=\"153\" y=\"-130.8579\" font-family=\"Times,serif\" font-size=\"14.00\" fill=\"#000000\">0 </text>\n</g>\n<!-- F -->\n<g id=\"node4\" class=\"node\">\n<title>F</title>\n<ellipse fill=\"none\" stroke=\"#000000\" cx=\"201\" cy=\"-37.0579\" rx=\"18\" ry=\"18\"/>\n<ellipse fill=\"none\" stroke=\"#000000\" cx=\"201\" cy=\"-37.0579\" rx=\"22\" ry=\"22\"/>\n<text text-anchor=\"middle\" x=\"201\" y=\"-33.3579\" font-family=\"Times,serif\" font-size=\"14.00\" fill=\"#000000\">F</text>\n</g>\n<!-- I&#45;&gt;F -->\n<g id=\"edge5\" class=\"edge\">\n<title>I&#45;&gt;F</title>\n<path fill=\"none\" stroke=\"#000000\" d=\"M125.8742,-67.2715C138.4699,-62.2059 156.0151,-55.1497 170.9823,-49.1302\"/>\n<polygon fill=\"#000000\" stroke=\"#000000\" points=\"172.3959,-52.3342 180.3677,-45.3557 169.784,-45.8398 172.3959,-52.3342\"/>\n<text text-anchor=\"middle\" x=\"153\" y=\"-61.8579\" font-family=\"Times,serif\" font-size=\"14.00\" fill=\"#000000\">1 </text>\n</g>\n<!-- A&#45;&gt;I -->\n<g id=\"edge2\" class=\"edge\">\n<title>A&#45;&gt;I</title>\n<path fill=\"none\" stroke=\"#000000\" d=\"M184.3167,-103.8148C177.1613,-100.748 168.6941,-97.1714 161,-94.0579 152.7133,-90.7046 143.6324,-87.1657 135.4109,-84.0124\"/>\n<polygon fill=\"#000000\" stroke=\"#000000\" points=\"136.5106,-80.686 125.9197,-80.3956 134.0179,-87.2272 136.5106,-80.686\"/>\n<text text-anchor=\"middle\" x=\"153\" y=\"-112.8579\" font-family=\"Times,serif\" font-size=\"14.00\" fill=\"#000000\">1 </text>\n<text text-anchor=\"middle\" x=\"153\" y=\"-97.8579\" font-family=\"Times,serif\" font-size=\"14.00\" fill=\"#000000\"> 0 </text>\n</g>\n<!-- F&#45;&gt;I -->\n<g id=\"edge3\" class=\"edge\">\n<title>F&#45;&gt;I</title>\n<path fill=\"none\" stroke=\"#000000\" d=\"M187.1679,-19.3061C175.8196,-6.9886 159.3441,5.7516 145,-3.0579 129.6397,-12.4915 120.5864,-30.7427 115.4006,-46.3777\"/>\n<polygon fill=\"#000000\" stroke=\"#000000\" points=\"111.9887,-45.5741 112.5238,-56.1554 118.7041,-47.5499 111.9887,-45.5741\"/>\n<text text-anchor=\"middle\" x=\"153\" y=\"-21.8579\" font-family=\"Times,serif\" font-size=\"14.00\" fill=\"#000000\">1 </text>\n<text text-anchor=\"middle\" x=\"153\" y=\"-6.8579\" font-family=\"Times,serif\" font-size=\"14.00\" fill=\"#000000\"> 0 </text>\n</g>\n</g>\n</svg>\n"
          },
          "metadata": {},
          "execution_count": 6
        }
      ]
    },
    {
      "cell_type": "markdown",
      "metadata": {
        "run_control": {
          "frozen": false,
          "read_only": false
        },
        "id": "cX1O7b56bxXi"
      },
      "source": [
        "# The same DFA in automd (Jove's markdown)\n",
        "\n",
        "Study Overview_Of_CS3100_Fall2020/ and its contents to fully learn how to define a DFA via a markdown.\n",
        "You can study the animation panel which also explains the markdown syntax fully.\n"
      ]
    },
    {
      "cell_type": "code",
      "metadata": {
        "colab": {
          "base_uri": "https://localhost:8080/",
          "height": 702,
          "referenced_widgets": [
            "c770537153e841fd865984985c37ec6e",
            "ac8da652473645658af53c0f6a9617fa",
            "ea43bf4957f54df98c0896478b93aa8d",
            "fd8623042c294bde92307db51d0e1c61",
            "7185db4db1084ddd889962a4e1874741",
            "2a3813a2c1b844d9aaee611c0f1e0201",
            "0145f44ff92045ac856352970439e202",
            "fe88121dbd82483884cabe41d4dfca67",
            "7ae63d2f49ff495cbf221a0a57d7ad78",
            "7cfad225a4184da39ea480a5750acc6c",
            "b4012a3b0e2544078339f71a868e19a8",
            "76ba052bd2b349be8d6ff36029265c52",
            "a255bbb080364a06b84bd580719eb12f",
            "8976ada117294861b022f6d38ca11ba3",
            "5decad0be6e24a8c8faf25e0191ed586",
            "badeb72209fd4e518083b1b90be8a86e",
            "0a3cccb171f04e0c95c5d0e493d620f6",
            "eea6211174354b079a39df68c9a50904",
            "f914c5ae59364bca8971349857ffcdd8",
            "1640ff859f744c2f8de7f91c85cfbcc1",
            "2e1d268a9f044eee9d59a9efb4bf668b",
            "cf87d266e7624cba89f27a6dad2d6765",
            "9b8f3ce8eb514f5f8cfbc1e4e7a6d3e9",
            "b518885614ee46058ab24056946c6fcb",
            "5d9d883206b1477ebcbccdfcea82ab87",
            "3e092feb010f4cb1a15f6bf38a75bb8b",
            "cc9c9d065099477090d66ee691825e6e",
            "7d37eebe3ace46ce8650f7255469a4f6",
            "aa3f9c38ed2f45bbbd55178e2260dabf",
            "2b6a37fe7972421db837a6832410d326",
            "fe1778e4b2e0472cb03bee56102a4d0f",
            "c4698958b68549d4a2c4be50b5e83c04",
            "f8d45731ed9e43f191115dfdd36602ce",
            "d714cb26bf6c49e1aca99126b9ef8ee2",
            "33c7ed4a774b4655bd46f9287d90a842",
            "5caecf57a6894a2daabc49a1f7aecc3e",
            "5b4cadfa3ed84d1eb268164b8c1342fc",
            "5e9a9582fc544a96915f42c79d1ed7a9",
            "cec1840d451c4479bd18eaa832a62d2f",
            "79b25d867a48474b9a74897101bf779f",
            "a3b60a19b7954904acc9b1af9989b608",
            "6acbdb27af8b40249983d6b569a1282d",
            "be65bf3c8edd42b8b91e059aef638d75",
            "8e448fc56a3641d4bde9dbdd4e9220b6",
            "f89156546ac845dbac596ec2c5a30faa",
            "5636294d74464b749cdaa340935f15ca",
            "9c163c6f0ea1490096081a24a8085d20",
            "bd56ceb33a3a42d7ab4aae332336a7b3",
            "0437ab7cf9804bb1bb1a46b58487d81b",
            "306657ed9b0d4608a8ffa701591313c2",
            "d9fa66ee8781440c8eaf414db66a766e",
            "4edcd683d30a40a2813583c4c0b92010",
            "f6915d664fae41618c78c733df262bef",
            "fcef6c6b7eab40809e0ec24f69933377",
            "12d9113f33db4e2fa7c7853a04d1907b",
            "4dab607e77df439caf34a5f3d9227d5c",
            "90c773ea89304fa7999acaafedf8f30f",
            "fa401e13635a4d69974fc8f9df8d4a44",
            "87cf165b324b4c5cb06a8720de80f283",
            "612a9616ae6f4e47ba4e3f892aaa5044",
            "95ada192aa164fe5b0a75baf1bc4bf71",
            "f1c612d8c8574cd1a82babe8f970833d",
            "8dce29df73b047f4b17b326a5dd0633f",
            "c47a5d502f8749cb9492e8838a206536",
            "d05b9a8642a1458fb42fa0f40d0d3fa2",
            "c37a1ae480eb47c0b53f97573de3e19e",
            "37f13f663bc34d27b3f2eaa23b6841a0",
            "ab2198f70df9454cb0d5acee8e1f135f",
            "7403fd14de4c4bb1a72f3d2cd035d01e",
            "a19062ef461e46c8be02f2984ec8743a",
            "1236f3e54a1e4a9f84b0cb761b20d3a1",
            "96b8bd30e0024c6c94e533795c5d5dc7",
            "a554ee9baf3144b5a0004538d7560187",
            "84a84f1da5194421b33d8b650c19dd34",
            "8522f2ad8af349c189c7e4cb58fb8d84",
            "d0ef3d3b0531491897ecf929a59fbadc",
            "8dfc9277a8904a83bc0aca3254cf7a06",
            "a95d626501b94c31ba31dd089b29da62",
            "c630c90dcae644148cb0d2769705f432",
            "dd2c2d3f2c6e4fd498e3147f73689e91",
            "993b47e171b34618a4ac6c7412a0a8cc",
            "95129177b5fc4dffb09ffa779a45f849",
            "4c64279d383240e0a437e0f867b6cc95",
            "71ffb2bf15af484888476eac229f835c",
            "5193249962874bb2a871d5a95aa753a5",
            "3cebd84553f142fbbb0b855194dffc35",
            "7483a9e8a3f54411a156c0f8521e0d9c",
            "38d46b39f0674f368f2b8193c17a0145",
            "e0fdd291558b4c7bb5f7a68b3fbe8eeb",
            "66556c4ac6384c08a15f336de91f4f00",
            "1fb84441aab746688cf2cef5a49b6942",
            "19ff7cabaacb4b3593660f4090fa3079",
            "faadcb0b7f9041419ff5da81caa1999d",
            "66f0d04ad8834836bfdaad0ad801ea0b",
            "9f52750bb1c24df98d74f49e3a992e4f",
            "3bf34bd1da7c441aaaad17ec4a7653ba",
            "a266687d3a554aafa8dde0b15544d156",
            "e096a241bbcc4530a1a911fadf1426aa",
            "5533d05f9d124bab940e20a49d692f0a",
            "2ec3df1efd47456cbb4f34dd70e6707b",
            "85bae8757d2046dcb6d690cc99fdaeb9",
            "5f40e7696db94dbd829f91a432e8af78",
            "be7b1859259c4ab482af9bfa47ef9a56",
            "4d2820050eb1458793e1a7ee41cf5f53",
            "caea3a2f7b924b46a0fafca650004f8c"
          ]
        },
        "id": "IlmLyyLybxXk",
        "outputId": "2424deb2-16e7-43e3-cc3e-92c09a611ed2"
      },
      "source": [
        "from jove.JoveEditor import *\n",
        "JoveEditor(examples=True)\n",
        "display(HTML('<link rel=\\\"stylesheet\\\" href=\\\"//stackpath.bootstrapcdn.com/font-awesome/4.7.0/css/font-awesome.min.css\\\"/>'))"
      ],
      "execution_count": 7,
      "outputs": [
        {
          "output_type": "stream",
          "name": "stdout",
          "text": [
            " \"help(JoveEditor)\" gives you info on the generic animation panel that animates all machines. \n"
          ]
        },
        {
          "output_type": "display_data",
          "data": {
            "text/html": [
              "<style>textarea, input { font-family: monospace; }</style>"
            ],
            "text/plain": [
              "<IPython.core.display.HTML object>"
            ]
          },
          "metadata": {}
        },
        {
          "output_type": "display_data",
          "data": {
            "application/vnd.jupyter.widget-view+json": {
              "model_id": "c770537153e841fd865984985c37ec6e",
              "version_minor": 0,
              "version_major": 2
            },
            "text/plain": [
              "Tab(children=(VBox(children=(HBox(children=(Accordion(children=(VBox(children=(HBox(children=(Text(value='', p…"
            ]
          },
          "metadata": {}
        },
        {
          "output_type": "display_data",
          "data": {
            "text/html": [
              "<link rel=\"stylesheet\" href=\"//stackpath.bootstrapcdn.com/font-awesome/4.7.0/css/font-awesome.min.css\"/>"
            ],
            "text/plain": [
              "<IPython.core.display.HTML object>"
            ]
          },
          "metadata": {}
        }
      ]
    },
    {
      "cell_type": "code",
      "metadata": {
        "run_control": {
          "frozen": false,
          "read_only": false
        },
        "id": "-avnnu9FbxXm"
      },
      "source": [
        "Fig34md = '''  !! Comments begin with !! and last till the end of line\n",
        "DFA            !! This keyword tells \"md2mc\" that it is parsing a DFA\n",
        "I : 0     -> A !! DFA transition: From initial state I, upon 0, go to state A\n",
        "A : 0 | 1 -> I !! Two DFA transitions: from A, upon 0 or a 1, go to state I\n",
        "I : 1     -> F !! A DFA transition from I to F. I is the initial state and F is final \n",
        "F : 0 | 1 -> I !! From F upon 0 or a 1, go to I.\n",
        "'''"
      ],
      "execution_count": 8,
      "outputs": []
    },
    {
      "cell_type": "code",
      "metadata": {
        "id": "67FElDQTbxXn"
      },
      "source": [
        "DFA1 = md2mc('''DFA\n",
        "\n",
        "I : 0   -> A\n",
        "A : 0|1 -> I\n",
        "I : 1   -> F\n",
        "F : 0|1 -> I\n",
        "\n",
        "''')"
      ],
      "execution_count": 9,
      "outputs": []
    },
    {
      "cell_type": "code",
      "metadata": {
        "colab": {
          "base_uri": "https://localhost:8080/",
          "height": 258
        },
        "id": "FDNZCTuubxXp",
        "outputId": "0114b8af-b74f-4487-a612-751843968c90"
      },
      "source": [
        "dotObj_dfa(DFA1)"
      ],
      "execution_count": 10,
      "outputs": [
        {
          "output_type": "execute_result",
          "data": {
            "text/plain": [
              "<graphviz.dot.Digraph at 0x7fb2cf5a3790>"
            ],
            "image/svg+xml": "<?xml version=\"1.0\" encoding=\"UTF-8\" standalone=\"no\"?>\n<!DOCTYPE svg PUBLIC \"-//W3C//DTD SVG 1.1//EN\"\n \"http://www.w3.org/Graphics/SVG/1.1/DTD/svg11.dtd\">\n<!-- Generated by graphviz version 2.40.1 (20161225.0304)\n -->\n<!-- Title: %3 Pages: 1 -->\n<svg width=\"227pt\" height=\"178pt\"\n viewBox=\"0.00 0.00 227.00 178.00\" xmlns=\"http://www.w3.org/2000/svg\" xmlns:xlink=\"http://www.w3.org/1999/xlink\">\n<g id=\"graph0\" class=\"graph\" transform=\"scale(1 1) rotate(0) translate(4 174)\">\n<title>%3</title>\n<polygon fill=\"#ffffff\" stroke=\"transparent\" points=\"-4,4 -4,-174 223,-174 223,4 -4,4\"/>\n<!-- EMPTY -->\n<g id=\"node1\" class=\"node\">\n<title>EMPTY</title>\n</g>\n<!-- I -->\n<g id=\"node2\" class=\"node\">\n<title>I</title>\n<ellipse fill=\"none\" stroke=\"#000000\" cx=\"109\" cy=\"-79\" rx=\"18\" ry=\"18\"/>\n<text text-anchor=\"middle\" x=\"109\" y=\"-75.3\" font-family=\"Times,serif\" font-size=\"14.00\" fill=\"#000000\">I</text>\n</g>\n<!-- EMPTY&#45;&gt;I -->\n<g id=\"edge1\" class=\"edge\">\n<title>EMPTY&#45;&gt;I</title>\n<path fill=\"none\" stroke=\"#000000\" d=\"M54.3048,-79C62.6909,-79 71.9407,-79 80.4103,-79\"/>\n<polygon fill=\"#000000\" stroke=\"#000000\" points=\"80.5976,-82.5001 90.5976,-79 80.5976,-75.5001 80.5976,-82.5001\"/>\n</g>\n<!-- A -->\n<g id=\"node3\" class=\"node\">\n<title>A</title>\n<ellipse fill=\"none\" stroke=\"#000000\" cx=\"197\" cy=\"-136\" rx=\"18\" ry=\"18\"/>\n<text text-anchor=\"middle\" x=\"197\" y=\"-132.3\" font-family=\"Times,serif\" font-size=\"14.00\" fill=\"#000000\">A</text>\n</g>\n<!-- I&#45;&gt;A -->\n<g id=\"edge2\" class=\"edge\">\n<title>I&#45;&gt;A</title>\n<path fill=\"none\" stroke=\"#000000\" d=\"M112.2116,-96.7342C116.4221,-114.2102 125.68,-139.9861 145,-152 153.4535,-157.2567 163.7598,-155.4735 172.9606,-151.5559\"/>\n<polygon fill=\"#000000\" stroke=\"#000000\" points=\"174.7245,-154.5848 182.0246,-146.9063 171.5295,-148.3564 174.7245,-154.5848\"/>\n<text text-anchor=\"middle\" x=\"151\" y=\"-158.8\" font-family=\"Times,serif\" font-size=\"14.00\" fill=\"#000000\">0 </text>\n</g>\n<!-- F -->\n<g id=\"node4\" class=\"node\">\n<title>F</title>\n<ellipse fill=\"none\" stroke=\"#000000\" cx=\"197\" cy=\"-22\" rx=\"18\" ry=\"18\"/>\n<ellipse fill=\"none\" stroke=\"#000000\" cx=\"197\" cy=\"-22\" rx=\"22\" ry=\"22\"/>\n<text text-anchor=\"middle\" x=\"197\" y=\"-18.3\" font-family=\"Times,serif\" font-size=\"14.00\" fill=\"#000000\">F</text>\n</g>\n<!-- I&#45;&gt;F -->\n<g id=\"edge5\" class=\"edge\">\n<title>I&#45;&gt;F</title>\n<path fill=\"none\" stroke=\"#000000\" d=\"M124.3284,-69.0714C136.9247,-60.9124 155.0738,-49.1568 170.0832,-39.4348\"/>\n<polygon fill=\"#000000\" stroke=\"#000000\" points=\"172.0016,-42.3623 178.492,-33.9882 168.196,-36.4871 172.0016,-42.3623\"/>\n<text text-anchor=\"middle\" x=\"151\" y=\"-58.8\" font-family=\"Times,serif\" font-size=\"14.00\" fill=\"#000000\">1 </text>\n</g>\n<!-- A&#45;&gt;I -->\n<g id=\"edge3\" class=\"edge\">\n<title>A&#45;&gt;I</title>\n<path fill=\"none\" stroke=\"#000000\" d=\"M179.8074,-130.5505C169.2703,-126.779 155.7821,-121.1535 145,-114 139.0461,-110.0498 133.2141,-105.041 128.0365,-100.0564\"/>\n<polygon fill=\"#000000\" stroke=\"#000000\" points=\"130.4929,-97.5627 120.9807,-92.897 125.5072,-102.4762 130.4929,-97.5627\"/>\n<text text-anchor=\"middle\" x=\"151\" y=\"-123.8\" font-family=\"Times,serif\" font-size=\"14.00\" fill=\"#000000\">0 </text>\n</g>\n<!-- A&#45;&gt;I -->\n<g id=\"edge4\" class=\"edge\">\n<title>A&#45;&gt;I</title>\n<path fill=\"none\" stroke=\"#000000\" d=\"M185.7665,-121.3664C178.4106,-112.6527 168.1234,-101.9699 157,-95 150.7986,-91.1142 143.5498,-88.063 136.5922,-85.7148\"/>\n<polygon fill=\"#000000\" stroke=\"#000000\" points=\"137.3469,-82.287 126.7627,-82.7619 135.3329,-88.9911 137.3469,-82.287\"/>\n<text text-anchor=\"middle\" x=\"151\" y=\"-98.8\" font-family=\"Times,serif\" font-size=\"14.00\" fill=\"#000000\">1 </text>\n</g>\n<!-- F&#45;&gt;I -->\n<g id=\"edge6\" class=\"edge\">\n<title>F&#45;&gt;I</title>\n<path fill=\"none\" stroke=\"#000000\" d=\"M174.9713,-21.1414C165.1911,-21.686 153.9053,-23.6584 145,-29 135.3685,-34.7772 127.5816,-44.2267 121.7465,-53.3642\"/>\n<polygon fill=\"#000000\" stroke=\"#000000\" points=\"118.579,-51.8482 116.5659,-62.2501 124.6263,-55.3739 118.579,-51.8482\"/>\n<text text-anchor=\"middle\" x=\"151\" y=\"-32.8\" font-family=\"Times,serif\" font-size=\"14.00\" fill=\"#000000\">0 </text>\n</g>\n<!-- F&#45;&gt;I -->\n<g id=\"edge7\" class=\"edge\">\n<title>F&#45;&gt;I</title>\n<path fill=\"none\" stroke=\"#000000\" d=\"M179.2168,-8.9402C168.7137,-2.9378 155.4679,1.5484 145,-5 128.8512,-15.1022 119.7585,-34.7539 114.7524,-51.2679\"/>\n<polygon fill=\"#000000\" stroke=\"#000000\" points=\"111.3439,-50.4662 112.137,-61.0313 118.1055,-52.2776 111.3439,-50.4662\"/>\n<text text-anchor=\"middle\" x=\"151\" y=\"-8.8\" font-family=\"Times,serif\" font-size=\"14.00\" fill=\"#000000\">1 </text>\n</g>\n</g>\n</svg>\n"
          },
          "metadata": {},
          "execution_count": 10
        }
      ]
    },
    {
      "cell_type": "code",
      "metadata": {
        "colab": {
          "base_uri": "https://localhost:8080/",
          "height": 35
        },
        "id": "4pdi775ibxXq",
        "outputId": "ae6d4ac1-f0af-4e61-ae61-c9d8cba2f023"
      },
      "source": [
        "step_dfa(DFA1, 'I', '0')"
      ],
      "execution_count": 11,
      "outputs": [
        {
          "output_type": "execute_result",
          "data": {
            "application/vnd.google.colaboratory.intrinsic+json": {
              "type": "string"
            },
            "text/plain": [
              "'A'"
            ]
          },
          "metadata": {},
          "execution_count": 11
        }
      ]
    },
    {
      "cell_type": "code",
      "metadata": {
        "colab": {
          "base_uri": "https://localhost:8080/",
          "height": 35
        },
        "id": "l_QYso2mbxXs",
        "outputId": "5df97e78-c9c2-455c-b3e3-2f27cb73a605"
      },
      "source": [
        "run_dfa(DFA1, '01100101')"
      ],
      "execution_count": 12,
      "outputs": [
        {
          "output_type": "execute_result",
          "data": {
            "application/vnd.google.colaboratory.intrinsic+json": {
              "type": "string"
            },
            "text/plain": [
              "'I'"
            ]
          },
          "metadata": {},
          "execution_count": 12
        }
      ]
    },
    {
      "cell_type": "code",
      "metadata": {
        "colab": {
          "base_uri": "https://localhost:8080/",
          "height": 35
        },
        "id": "Fgb2LjwrbxXt",
        "outputId": "cfe35427-70a3-43cf-8833-ad5f9251bc9a"
      },
      "source": [
        "run_dfa(DFA1, '011001011')"
      ],
      "execution_count": 13,
      "outputs": [
        {
          "output_type": "execute_result",
          "data": {
            "application/vnd.google.colaboratory.intrinsic+json": {
              "type": "string"
            },
            "text/plain": [
              "'F'"
            ]
          },
          "metadata": {},
          "execution_count": 13
        }
      ]
    },
    {
      "cell_type": "markdown",
      "metadata": {
        "run_control": {
          "frozen": false,
          "read_only": false
        },
        "id": "PGb8OLbIbxXv"
      },
      "source": [
        "# Function md2mc is your automd compiler"
      ]
    },
    {
      "cell_type": "code",
      "metadata": {
        "run_control": {
          "frozen": false,
          "read_only": false
        },
        "colab": {
          "base_uri": "https://localhost:8080/"
        },
        "id": "abVGZ-0TbxXx",
        "outputId": "c7459550-1fdb-4114-85b6-08762c507430"
      },
      "source": [
        "Fig34MC = md2mc(Fig34md)\n",
        "Fig34MC"
      ],
      "execution_count": 14,
      "outputs": [
        {
          "output_type": "execute_result",
          "data": {
            "text/plain": [
              "{'Delta': {('A', '0'): 'I',\n",
              "  ('A', '1'): 'I',\n",
              "  ('F', '0'): 'I',\n",
              "  ('F', '1'): 'I',\n",
              "  ('I', '0'): 'A',\n",
              "  ('I', '1'): 'F'},\n",
              " 'F': {'F'},\n",
              " 'Q': {'A', 'F', 'I'},\n",
              " 'Sigma': {'0', '1'},\n",
              " 'q0': 'I'}"
            ]
          },
          "metadata": {},
          "execution_count": 14
        }
      ]
    },
    {
      "cell_type": "code",
      "metadata": {
        "run_control": {
          "frozen": false,
          "read_only": false
        },
        "colab": {
          "base_uri": "https://localhost:8080/",
          "height": 0
        },
        "id": "BJs98urDbxXy",
        "outputId": "bfa8e657-8821-4c0f-d6e5-8f32d64c8b2d"
      },
      "source": [
        "# md2mc alone produces a dict similar to Fig34, above.\n",
        "# We pass it to dotObj_dfa which prints the DFA image,\n",
        "# as shown below.\n",
        "\n",
        "dotObj_dfa(md2mc(Fig34md))"
      ],
      "execution_count": 15,
      "outputs": [
        {
          "output_type": "execute_result",
          "data": {
            "text/plain": [
              "<graphviz.dot.Digraph at 0x7fb2cf5b6250>"
            ],
            "image/svg+xml": "<?xml version=\"1.0\" encoding=\"UTF-8\" standalone=\"no\"?>\n<!DOCTYPE svg PUBLIC \"-//W3C//DTD SVG 1.1//EN\"\n \"http://www.w3.org/Graphics/SVG/1.1/DTD/svg11.dtd\">\n<!-- Generated by graphviz version 2.40.1 (20161225.0304)\n -->\n<!-- Title: %3 Pages: 1 -->\n<svg width=\"227pt\" height=\"178pt\"\n viewBox=\"0.00 0.00 227.00 178.00\" xmlns=\"http://www.w3.org/2000/svg\" xmlns:xlink=\"http://www.w3.org/1999/xlink\">\n<g id=\"graph0\" class=\"graph\" transform=\"scale(1 1) rotate(0) translate(4 174)\">\n<title>%3</title>\n<polygon fill=\"#ffffff\" stroke=\"transparent\" points=\"-4,4 -4,-174 223,-174 223,4 -4,4\"/>\n<!-- EMPTY -->\n<g id=\"node1\" class=\"node\">\n<title>EMPTY</title>\n</g>\n<!-- I -->\n<g id=\"node2\" class=\"node\">\n<title>I</title>\n<ellipse fill=\"none\" stroke=\"#000000\" cx=\"109\" cy=\"-79\" rx=\"18\" ry=\"18\"/>\n<text text-anchor=\"middle\" x=\"109\" y=\"-75.3\" font-family=\"Times,serif\" font-size=\"14.00\" fill=\"#000000\">I</text>\n</g>\n<!-- EMPTY&#45;&gt;I -->\n<g id=\"edge1\" class=\"edge\">\n<title>EMPTY&#45;&gt;I</title>\n<path fill=\"none\" stroke=\"#000000\" d=\"M54.3048,-79C62.6909,-79 71.9407,-79 80.4103,-79\"/>\n<polygon fill=\"#000000\" stroke=\"#000000\" points=\"80.5976,-82.5001 90.5976,-79 80.5976,-75.5001 80.5976,-82.5001\"/>\n</g>\n<!-- A -->\n<g id=\"node3\" class=\"node\">\n<title>A</title>\n<ellipse fill=\"none\" stroke=\"#000000\" cx=\"197\" cy=\"-136\" rx=\"18\" ry=\"18\"/>\n<text text-anchor=\"middle\" x=\"197\" y=\"-132.3\" font-family=\"Times,serif\" font-size=\"14.00\" fill=\"#000000\">A</text>\n</g>\n<!-- I&#45;&gt;A -->\n<g id=\"edge2\" class=\"edge\">\n<title>I&#45;&gt;A</title>\n<path fill=\"none\" stroke=\"#000000\" d=\"M112.2116,-96.7342C116.4221,-114.2102 125.68,-139.9861 145,-152 153.4535,-157.2567 163.7598,-155.4735 172.9606,-151.5559\"/>\n<polygon fill=\"#000000\" stroke=\"#000000\" points=\"174.7245,-154.5848 182.0246,-146.9063 171.5295,-148.3564 174.7245,-154.5848\"/>\n<text text-anchor=\"middle\" x=\"151\" y=\"-158.8\" font-family=\"Times,serif\" font-size=\"14.00\" fill=\"#000000\">0 </text>\n</g>\n<!-- F -->\n<g id=\"node4\" class=\"node\">\n<title>F</title>\n<ellipse fill=\"none\" stroke=\"#000000\" cx=\"197\" cy=\"-22\" rx=\"18\" ry=\"18\"/>\n<ellipse fill=\"none\" stroke=\"#000000\" cx=\"197\" cy=\"-22\" rx=\"22\" ry=\"22\"/>\n<text text-anchor=\"middle\" x=\"197\" y=\"-18.3\" font-family=\"Times,serif\" font-size=\"14.00\" fill=\"#000000\">F</text>\n</g>\n<!-- I&#45;&gt;F -->\n<g id=\"edge5\" class=\"edge\">\n<title>I&#45;&gt;F</title>\n<path fill=\"none\" stroke=\"#000000\" d=\"M124.3284,-69.0714C136.9247,-60.9124 155.0738,-49.1568 170.0832,-39.4348\"/>\n<polygon fill=\"#000000\" stroke=\"#000000\" points=\"172.0016,-42.3623 178.492,-33.9882 168.196,-36.4871 172.0016,-42.3623\"/>\n<text text-anchor=\"middle\" x=\"151\" y=\"-58.8\" font-family=\"Times,serif\" font-size=\"14.00\" fill=\"#000000\">1 </text>\n</g>\n<!-- A&#45;&gt;I -->\n<g id=\"edge3\" class=\"edge\">\n<title>A&#45;&gt;I</title>\n<path fill=\"none\" stroke=\"#000000\" d=\"M179.8074,-130.5505C169.2703,-126.779 155.7821,-121.1535 145,-114 139.0461,-110.0498 133.2141,-105.041 128.0365,-100.0564\"/>\n<polygon fill=\"#000000\" stroke=\"#000000\" points=\"130.4929,-97.5627 120.9807,-92.897 125.5072,-102.4762 130.4929,-97.5627\"/>\n<text text-anchor=\"middle\" x=\"151\" y=\"-123.8\" font-family=\"Times,serif\" font-size=\"14.00\" fill=\"#000000\">0 </text>\n</g>\n<!-- A&#45;&gt;I -->\n<g id=\"edge4\" class=\"edge\">\n<title>A&#45;&gt;I</title>\n<path fill=\"none\" stroke=\"#000000\" d=\"M185.7665,-121.3664C178.4106,-112.6527 168.1234,-101.9699 157,-95 150.7986,-91.1142 143.5498,-88.063 136.5922,-85.7148\"/>\n<polygon fill=\"#000000\" stroke=\"#000000\" points=\"137.3469,-82.287 126.7627,-82.7619 135.3329,-88.9911 137.3469,-82.287\"/>\n<text text-anchor=\"middle\" x=\"151\" y=\"-98.8\" font-family=\"Times,serif\" font-size=\"14.00\" fill=\"#000000\">1 </text>\n</g>\n<!-- F&#45;&gt;I -->\n<g id=\"edge6\" class=\"edge\">\n<title>F&#45;&gt;I</title>\n<path fill=\"none\" stroke=\"#000000\" d=\"M174.9713,-21.1414C165.1911,-21.686 153.9053,-23.6584 145,-29 135.3685,-34.7772 127.5816,-44.2267 121.7465,-53.3642\"/>\n<polygon fill=\"#000000\" stroke=\"#000000\" points=\"118.579,-51.8482 116.5659,-62.2501 124.6263,-55.3739 118.579,-51.8482\"/>\n<text text-anchor=\"middle\" x=\"151\" y=\"-32.8\" font-family=\"Times,serif\" font-size=\"14.00\" fill=\"#000000\">0 </text>\n</g>\n<!-- F&#45;&gt;I -->\n<g id=\"edge7\" class=\"edge\">\n<title>F&#45;&gt;I</title>\n<path fill=\"none\" stroke=\"#000000\" d=\"M179.2168,-8.9402C168.7137,-2.9378 155.4679,1.5484 145,-5 128.8512,-15.1022 119.7585,-34.7539 114.7524,-51.2679\"/>\n<polygon fill=\"#000000\" stroke=\"#000000\" points=\"111.3439,-50.4662 112.137,-61.0313 118.1055,-52.2776 111.3439,-50.4662\"/>\n<text text-anchor=\"middle\" x=\"151\" y=\"-8.8\" font-family=\"Times,serif\" font-size=\"14.00\" fill=\"#000000\">1 </text>\n</g>\n</g>\n</svg>\n"
          },
          "metadata": {},
          "execution_count": 15
        }
      ]
    },
    {
      "cell_type": "code",
      "metadata": {
        "run_control": {
          "frozen": false,
          "read_only": false
        },
        "colab": {
          "base_uri": "https://localhost:8080/"
        },
        "id": "508XXIUubxX0",
        "outputId": "674c1e95-0c29-419f-cd61-fe7900204013"
      },
      "source": [
        "accepts_dfa(md2mc(Fig34md), \"10101\")"
      ],
      "execution_count": 16,
      "outputs": [
        {
          "output_type": "execute_result",
          "data": {
            "text/plain": [
              "True"
            ]
          },
          "metadata": {},
          "execution_count": 16
        }
      ]
    },
    {
      "cell_type": "markdown",
      "metadata": {
        "run_control": {
          "frozen": false,
          "read_only": false
        },
        "id": "zgIojb97bxX1"
      },
      "source": [
        "# Testing acceptance in one \"go\"\n",
        "\n",
        "Generating multiple strings according to the numeric order (increasing\n",
        "lengths, with each length category exhausted before going to the next \n",
        "length category) is a handy test-input generator.\n",
        "\n",
        "Plus, the \"numeric order\" is a powerful concept which we shall use \n",
        "when we later discuss the \"dovetail enumeration\" order (in Chapter 14\n",
        "and beyond).\n"
      ]
    },
    {
      "cell_type": "code",
      "metadata": {
        "run_control": {
          "frozen": false,
          "read_only": false
        },
        "id": "wxcrSgzLbxX3"
      },
      "source": [
        "from math import floor, log, pow\n",
        "def nthnumeric(N, S=['0','1']):\n",
        "    \"\"\"Assume S ('Sigma') is a 2-sized list of chars (default ['a','b']). \n",
        "       Produce the Nth string in numeric order, where N >= 0.\n",
        "       Idea : Given N, get b = floor(log_2(N+1)) - need that \n",
        "       many places; what to fill in the places is the binary \n",
        "       code for N - (2^b - 1) with 0 as S[0] and 1 as S[1].    \n",
        "    \"\"\"\n",
        "    assert(type(S)==list # This makes sure that the order does not flip\n",
        "          ),\"nthnumeric now expects to be given a two-element list!!\" \n",
        "    assert(len(S)==2\n",
        "          ),\"Expected to be given an S of length 2.\"\n",
        "    if(N==0):\n",
        "        return ''\n",
        "    else:\n",
        "        width = floor(log(N+1, 2))\n",
        "        tofill = int(N - pow(2, width) + 1)\n",
        "        relevant_binstr = bin(tofill)[2::] # strip the 0b \n",
        "                                           # in the leading string\n",
        "        len_to_makeup = width - len(relevant_binstr)\n",
        "        return (S[0]*len_to_makeup + \n",
        "                shomo(relevant_binstr,\n",
        "                      lambda x: S[1] if x=='1' else S[0]))"
      ],
      "execution_count": 17,
      "outputs": []
    },
    {
      "cell_type": "code",
      "metadata": {
        "run_control": {
          "frozen": false,
          "read_only": false
        },
        "colab": {
          "base_uri": "https://localhost:8080/"
        },
        "id": "99hedrk6bxX5",
        "outputId": "07bfa0eb-dd20-4480-e0bb-ce8650d3e2c3"
      },
      "source": [
        "[ nthnumeric(i) for i in range(20) ]"
      ],
      "execution_count": 18,
      "outputs": [
        {
          "output_type": "execute_result",
          "data": {
            "text/plain": [
              "['',\n",
              " '0',\n",
              " '1',\n",
              " '00',\n",
              " '01',\n",
              " '10',\n",
              " '11',\n",
              " '000',\n",
              " '001',\n",
              " '010',\n",
              " '011',\n",
              " '100',\n",
              " '101',\n",
              " '110',\n",
              " '111',\n",
              " '0000',\n",
              " '0001',\n",
              " '0010',\n",
              " '0011',\n",
              " '0100']"
            ]
          },
          "metadata": {},
          "execution_count": 18
        }
      ]
    },
    {
      "cell_type": "markdown",
      "metadata": {
        "run_control": {
          "frozen": false,
          "read_only": false
        },
        "id": "5qQkgIyibxX6"
      },
      "source": [
        "# Now one can write a test loop\n",
        "\n",
        "We plow thru the first 20 numeric-order listed strings,\n",
        "and test for acceptance.\n"
      ]
    },
    {
      "cell_type": "code",
      "metadata": {
        "run_control": {
          "frozen": false,
          "read_only": false
        },
        "colab": {
          "base_uri": "https://localhost:8080/"
        },
        "id": "tgP57Mo4bxX7",
        "outputId": "b3481a66-526e-4375-b33d-695d4273dfd1"
      },
      "source": [
        "for s in [ nthnumeric(i) for i in range(20) ]:\n",
        "    if accepts_dfa(md2mc(Fig34md), s):\n",
        "        print(\"Fig34md DFA accepts \", s)\n",
        "    else:\n",
        "        print(\"Fig34md DFA does not accept \", s)"
      ],
      "execution_count": 19,
      "outputs": [
        {
          "output_type": "stream",
          "name": "stdout",
          "text": [
            "Fig34md DFA does not accept  \n",
            "Fig34md DFA does not accept  0\n",
            "Fig34md DFA accepts  1\n",
            "Fig34md DFA does not accept  00\n",
            "Fig34md DFA does not accept  01\n",
            "Fig34md DFA does not accept  10\n",
            "Fig34md DFA does not accept  11\n",
            "Fig34md DFA does not accept  000\n",
            "Fig34md DFA accepts  001\n",
            "Fig34md DFA does not accept  010\n",
            "Fig34md DFA accepts  011\n",
            "Fig34md DFA does not accept  100\n",
            "Fig34md DFA accepts  101\n",
            "Fig34md DFA does not accept  110\n",
            "Fig34md DFA accepts  111\n",
            "Fig34md DFA does not accept  0000\n",
            "Fig34md DFA does not accept  0001\n",
            "Fig34md DFA does not accept  0010\n",
            "Fig34md DFA does not accept  0011\n",
            "Fig34md DFA does not accept  0100\n"
          ]
        }
      ]
    },
    {
      "cell_type": "markdown",
      "metadata": {
        "run_control": {
          "frozen": false,
          "read_only": false
        },
        "id": "d3-EvbGNbxX8"
      },
      "source": [
        "# Now, simply run the cells, use help\n",
        "\n",
        "Run the cell contents. At any time if you have a doubt about\n",
        "some function, say \"foo\", run the \"help(foo)\" command. Also\n",
        "refer to Appendix B of our book for a complete explanation of\n",
        "all the Jove functions.\n"
      ]
    },
    {
      "cell_type": "code",
      "metadata": {
        "run_control": {
          "frozen": false,
          "read_only": false
        },
        "colab": {
          "base_uri": "https://localhost:8080/"
        },
        "id": "glW-uAyrbxX9",
        "outputId": "03f640cf-83d3-4521-ed2f-ba791265010a"
      },
      "source": [
        "Fig34MC = md2mc(Fig34md)\n",
        "Fig34MC"
      ],
      "execution_count": 20,
      "outputs": [
        {
          "output_type": "execute_result",
          "data": {
            "text/plain": [
              "{'Delta': {('A', '0'): 'I',\n",
              "  ('A', '1'): 'I',\n",
              "  ('F', '0'): 'I',\n",
              "  ('F', '1'): 'I',\n",
              "  ('I', '0'): 'A',\n",
              "  ('I', '1'): 'F'},\n",
              " 'F': {'F'},\n",
              " 'Q': {'A', 'F', 'I'},\n",
              " 'Sigma': {'0', '1'},\n",
              " 'q0': 'I'}"
            ]
          },
          "metadata": {},
          "execution_count": 20
        }
      ]
    },
    {
      "cell_type": "code",
      "metadata": {
        "run_control": {
          "frozen": false,
          "read_only": false
        },
        "colab": {
          "base_uri": "https://localhost:8080/"
        },
        "id": "nByPiDs6bxX-",
        "outputId": "c0bbb405-f0e2-41e0-b955-5929931eb62a"
      },
      "source": [
        "is_partially_consistent_dfa(Fig34MC)"
      ],
      "execution_count": 21,
      "outputs": [
        {
          "output_type": "execute_result",
          "data": {
            "text/plain": [
              "True"
            ]
          },
          "metadata": {},
          "execution_count": 21
        }
      ]
    },
    {
      "cell_type": "code",
      "metadata": {
        "run_control": {
          "frozen": false,
          "read_only": false
        },
        "colab": {
          "base_uri": "https://localhost:8080/",
          "height": 0
        },
        "id": "yXJtA4C6bxX_",
        "outputId": "5ec55476-9141-4928-f353-2e0feb336662"
      },
      "source": [
        "dotObj_dfa_w_bh(comp_dfa(Fig34MC))"
      ],
      "execution_count": 22,
      "outputs": [
        {
          "output_type": "execute_result",
          "data": {
            "text/plain": [
              "<graphviz.dot.Digraph at 0x7fb2cf3f43d0>"
            ],
            "image/svg+xml": "<?xml version=\"1.0\" encoding=\"UTF-8\" standalone=\"no\"?>\n<!DOCTYPE svg PUBLIC \"-//W3C//DTD SVG 1.1//EN\"\n \"http://www.w3.org/Graphics/SVG/1.1/DTD/svg11.dtd\">\n<!-- Generated by graphviz version 2.40.1 (20161225.0304)\n -->\n<!-- Title: %3 Pages: 1 -->\n<svg width=\"235pt\" height=\"178pt\"\n viewBox=\"0.00 0.00 235.00 178.00\" xmlns=\"http://www.w3.org/2000/svg\" xmlns:xlink=\"http://www.w3.org/1999/xlink\">\n<g id=\"graph0\" class=\"graph\" transform=\"scale(1 1) rotate(0) translate(4 174)\">\n<title>%3</title>\n<polygon fill=\"#ffffff\" stroke=\"transparent\" points=\"-4,4 -4,-174 231,-174 231,4 -4,4\"/>\n<!-- EMPTY -->\n<g id=\"node1\" class=\"node\">\n<title>EMPTY</title>\n</g>\n<!-- I -->\n<g id=\"node3\" class=\"node\">\n<title>I</title>\n<ellipse fill=\"none\" stroke=\"#000000\" cx=\"113\" cy=\"-79\" rx=\"18\" ry=\"18\"/>\n<ellipse fill=\"none\" stroke=\"#000000\" cx=\"113\" cy=\"-79\" rx=\"22\" ry=\"22\"/>\n<text text-anchor=\"middle\" x=\"113\" y=\"-75.3\" font-family=\"Times,serif\" font-size=\"14.00\" fill=\"#000000\">I</text>\n</g>\n<!-- EMPTY&#45;&gt;I -->\n<g id=\"edge1\" class=\"edge\">\n<title>EMPTY&#45;&gt;I</title>\n<path fill=\"none\" stroke=\"#000000\" d=\"M54.2109,-79C62.6073,-79 71.9364,-79 80.6441,-79\"/>\n<polygon fill=\"#000000\" stroke=\"#000000\" points=\"80.8529,-82.5001 90.8529,-79 80.8528,-75.5001 80.8529,-82.5001\"/>\n</g>\n<!-- F -->\n<g id=\"node2\" class=\"node\">\n<title>F</title>\n<ellipse fill=\"none\" stroke=\"#000000\" cx=\"205\" cy=\"-136\" rx=\"18\" ry=\"18\"/>\n<text text-anchor=\"middle\" x=\"205\" y=\"-132.3\" font-family=\"Times,serif\" font-size=\"14.00\" fill=\"#000000\">F</text>\n</g>\n<!-- F&#45;&gt;I -->\n<g id=\"edge6\" class=\"edge\">\n<title>F&#45;&gt;I</title>\n<path fill=\"none\" stroke=\"#000000\" d=\"M187.4581,-130.1735C177.0406,-126.3315 163.7999,-120.764 153,-114 147.3547,-110.4643 141.7125,-106.1396 136.5207,-101.7521\"/>\n<polygon fill=\"#000000\" stroke=\"#000000\" points=\"138.6032,-98.921 128.797,-94.9099 133.9615,-104.1608 138.6032,-98.921\"/>\n<text text-anchor=\"middle\" x=\"159\" y=\"-123.8\" font-family=\"Times,serif\" font-size=\"14.00\" fill=\"#000000\">0 </text>\n</g>\n<!-- F&#45;&gt;I -->\n<g id=\"edge7\" class=\"edge\">\n<title>F&#45;&gt;I</title>\n<path fill=\"none\" stroke=\"#000000\" d=\"M193.823,-121.2751C186.4883,-112.527 176.2037,-101.8401 165,-95 158.8252,-91.2301 151.6904,-88.2839 144.7229,-86.0058\"/>\n<polygon fill=\"#000000\" stroke=\"#000000\" points=\"145.3442,-82.5422 134.7656,-83.1282 143.4007,-89.267 145.3442,-82.5422\"/>\n<text text-anchor=\"middle\" x=\"159\" y=\"-98.8\" font-family=\"Times,serif\" font-size=\"14.00\" fill=\"#000000\">1 </text>\n</g>\n<!-- I&#45;&gt;F -->\n<g id=\"edge5\" class=\"edge\">\n<title>I&#45;&gt;F</title>\n<path fill=\"none\" stroke=\"#000000\" d=\"M118.3016,-100.5003C123.8219,-117.7887 134.3492,-140.9524 153,-152 161.5648,-157.0733 171.8908,-155.2577 181.0762,-151.3654\"/>\n<polygon fill=\"#000000\" stroke=\"#000000\" points=\"182.7936,-154.4186 190.1139,-146.7593 179.615,-148.1818 182.7936,-154.4186\"/>\n<text text-anchor=\"middle\" x=\"159\" y=\"-158.8\" font-family=\"Times,serif\" font-size=\"14.00\" fill=\"#000000\">1 </text>\n</g>\n<!-- A -->\n<g id=\"node4\" class=\"node\">\n<title>A</title>\n<ellipse fill=\"none\" stroke=\"#000000\" cx=\"205\" cy=\"-22\" rx=\"18\" ry=\"18\"/>\n<ellipse fill=\"none\" stroke=\"#000000\" cx=\"205\" cy=\"-22\" rx=\"22\" ry=\"22\"/>\n<text text-anchor=\"middle\" x=\"205\" y=\"-18.3\" font-family=\"Times,serif\" font-size=\"14.00\" fill=\"#000000\">A</text>\n</g>\n<!-- I&#45;&gt;A -->\n<g id=\"edge2\" class=\"edge\">\n<title>I&#45;&gt;A</title>\n<path fill=\"none\" stroke=\"#000000\" d=\"M132.0625,-67.1896C145.2253,-59.0343 162.9317,-48.0641 177.6023,-38.9747\"/>\n<polygon fill=\"#000000\" stroke=\"#000000\" points=\"179.6194,-41.8423 186.2767,-33.6003 175.9327,-35.8918 179.6194,-41.8423\"/>\n<text text-anchor=\"middle\" x=\"159\" y=\"-56.8\" font-family=\"Times,serif\" font-size=\"14.00\" fill=\"#000000\">0 </text>\n</g>\n<!-- A&#45;&gt;I -->\n<g id=\"edge3\" class=\"edge\">\n<title>A&#45;&gt;I</title>\n<path fill=\"none\" stroke=\"#000000\" d=\"M182.8387,-20.8298C173.1426,-21.2275 161.9608,-22.9843 153,-28 143.4264,-33.3587 135.343,-42.0333 129.0034,-50.7207\"/>\n<polygon fill=\"#000000\" stroke=\"#000000\" points=\"125.9191,-49.0358 123.2545,-59.2901 131.7322,-52.9357 125.9191,-49.0358\"/>\n<text text-anchor=\"middle\" x=\"159\" y=\"-31.8\" font-family=\"Times,serif\" font-size=\"14.00\" fill=\"#000000\">0 </text>\n</g>\n<!-- A&#45;&gt;I -->\n<g id=\"edge4\" class=\"edge\">\n<title>A&#45;&gt;I</title>\n<path fill=\"none\" stroke=\"#000000\" d=\"M187.3488,-8.5672C176.8925,-2.3519 163.6495,2.3897 153,-4 137.1766,-13.494 127.2676,-31.6079 121.2705,-47.6554\"/>\n<polygon fill=\"#000000\" stroke=\"#000000\" points=\"117.9023,-46.6905 118.0241,-57.2846 124.5355,-48.9268 117.9023,-46.6905\"/>\n<text text-anchor=\"middle\" x=\"159\" y=\"-7.8\" font-family=\"Times,serif\" font-size=\"14.00\" fill=\"#000000\">1 </text>\n</g>\n</g>\n</svg>\n"
          },
          "metadata": {},
          "execution_count": 22
        }
      ]
    },
    {
      "cell_type": "code",
      "metadata": {
        "run_control": {
          "frozen": false,
          "read_only": false
        },
        "id": "lmsIlAFFbxYA"
      },
      "source": [
        "ev0 = md2mc('''\n",
        "DFA\n",
        "IF : 0 -> A\n",
        "A  : 0 -> IF\n",
        "''')"
      ],
      "execution_count": 23,
      "outputs": []
    },
    {
      "cell_type": "code",
      "metadata": {
        "run_control": {
          "frozen": false,
          "read_only": false
        },
        "colab": {
          "base_uri": "https://localhost:8080/"
        },
        "id": "hGvEtSwGbxYB",
        "outputId": "00b5c0f8-2cb0-4444-b899-d10d957b3f58"
      },
      "source": [
        "ev0"
      ],
      "execution_count": 24,
      "outputs": [
        {
          "output_type": "execute_result",
          "data": {
            "text/plain": [
              "{'Delta': {('A', '0'): 'IF', ('IF', '0'): 'A'},\n",
              " 'F': {'IF'},\n",
              " 'Q': {'A', 'IF'},\n",
              " 'Sigma': {'0'},\n",
              " 'q0': 'IF'}"
            ]
          },
          "metadata": {},
          "execution_count": 24
        }
      ]
    },
    {
      "cell_type": "code",
      "metadata": {
        "run_control": {
          "frozen": false,
          "read_only": false
        },
        "id": "VBstH2zObxYC"
      },
      "source": [
        "dev0 = dotObj_dfa(ev0)"
      ],
      "execution_count": 25,
      "outputs": []
    },
    {
      "cell_type": "code",
      "metadata": {
        "run_control": {
          "frozen": false,
          "read_only": false
        },
        "colab": {
          "base_uri": "https://localhost:8080/",
          "height": 0
        },
        "id": "3CTFgLnCbxYD",
        "outputId": "b9c553d6-5c5c-4b43-b159-63cf7e11e6af"
      },
      "source": [
        "dev0"
      ],
      "execution_count": 26,
      "outputs": [
        {
          "output_type": "execute_result",
          "data": {
            "text/plain": [
              "<graphviz.dot.Digraph at 0x7fb2cf3f4610>"
            ],
            "image/svg+xml": "<?xml version=\"1.0\" encoding=\"UTF-8\" standalone=\"no\"?>\n<!DOCTYPE svg PUBLIC \"-//W3C//DTD SVG 1.1//EN\"\n \"http://www.w3.org/Graphics/SVG/1.1/DTD/svg11.dtd\">\n<!-- Generated by graphviz version 2.40.1 (20161225.0304)\n -->\n<!-- Title: %3 Pages: 1 -->\n<svg width=\"229pt\" height=\"54pt\"\n viewBox=\"0.00 0.00 228.70 53.70\" xmlns=\"http://www.w3.org/2000/svg\" xmlns:xlink=\"http://www.w3.org/1999/xlink\">\n<g id=\"graph0\" class=\"graph\" transform=\"scale(1 1) rotate(0) translate(4 49.6967)\">\n<title>%3</title>\n<polygon fill=\"#ffffff\" stroke=\"transparent\" points=\"-4,4 -4,-49.6967 224.6967,-49.6967 224.6967,4 -4,4\"/>\n<!-- EMPTY -->\n<g id=\"node1\" class=\"node\">\n<title>EMPTY</title>\n</g>\n<!-- IF -->\n<g id=\"node3\" class=\"node\">\n<title>IF</title>\n<ellipse fill=\"none\" stroke=\"#000000\" cx=\"113.8483\" cy=\"-22.8483\" rx=\"18.724\" ry=\"18.724\"/>\n<ellipse fill=\"none\" stroke=\"#000000\" cx=\"113.8483\" cy=\"-22.8483\" rx=\"22.6977\" ry=\"22.6977\"/>\n<text text-anchor=\"middle\" x=\"113.8483\" y=\"-19.1483\" font-family=\"Times,serif\" font-size=\"14.00\" fill=\"#000000\">IF</text>\n</g>\n<!-- EMPTY&#45;&gt;IF -->\n<g id=\"edge1\" class=\"edge\">\n<title>EMPTY&#45;&gt;IF</title>\n<path fill=\"none\" stroke=\"#000000\" d=\"M54.0033,-22.8483C62.5212,-22.8483 72.0276,-22.8483 80.9112,-22.8483\"/>\n<polygon fill=\"#000000\" stroke=\"#000000\" points=\"80.9572,-26.3484 90.9572,-22.8483 80.9572,-19.3484 80.9572,-26.3484\"/>\n</g>\n<!-- A -->\n<g id=\"node2\" class=\"node\">\n<title>A</title>\n<ellipse fill=\"none\" stroke=\"#000000\" cx=\"202.6967\" cy=\"-22.8483\" rx=\"18\" ry=\"18\"/>\n<text text-anchor=\"middle\" x=\"202.6967\" y=\"-19.1483\" font-family=\"Times,serif\" font-size=\"14.00\" fill=\"#000000\">A</text>\n</g>\n<!-- A&#45;&gt;IF -->\n<g id=\"edge3\" class=\"edge\">\n<title>A&#45;&gt;IF</title>\n<path fill=\"none\" stroke=\"#000000\" d=\"M187.591,-12.7783C181.3899,-9.2165 173.968,-5.6494 166.6967,-3.8483 158.7114,-1.8704 150.249,-3.2602 142.4914,-6.0127\"/>\n<polygon fill=\"#000000\" stroke=\"#000000\" points=\"140.9096,-2.8838 133.131,-10.0771 143.6976,-9.3046 140.9096,-2.8838\"/>\n<text text-anchor=\"middle\" x=\"160.6967\" y=\"-7.6483\" font-family=\"Times,serif\" font-size=\"14.00\" fill=\"#000000\">0 </text>\n</g>\n<!-- IF&#45;&gt;A -->\n<g id=\"edge2\" class=\"edge\">\n<title>IF&#45;&gt;A</title>\n<path fill=\"none\" stroke=\"#000000\" d=\"M136.729,-22.8483C148.2615,-22.8483 162.3498,-22.8483 174.5414,-22.8483\"/>\n<polygon fill=\"#000000\" stroke=\"#000000\" points=\"174.655,-26.3484 184.655,-22.8483 174.6549,-19.3484 174.655,-26.3484\"/>\n<text text-anchor=\"middle\" x=\"160.6967\" y=\"-26.6483\" font-family=\"Times,serif\" font-size=\"14.00\" fill=\"#000000\">0 </text>\n</g>\n</g>\n</svg>\n"
          },
          "metadata": {},
          "execution_count": 26
        }
      ]
    },
    {
      "cell_type": "markdown",
      "metadata": {
        "run_control": {
          "frozen": false,
          "read_only": false
        },
        "id": "2ss93_OYbxYE"
      },
      "source": [
        "# You can generate PDF out of a DFA\n",
        "\n",
        "This is one way to \"print\" a DFA as PDF. There are \n",
        "a few more such commands tucked away within Jupyter.\n"
      ]
    },
    {
      "cell_type": "code",
      "metadata": {
        "run_control": {
          "frozen": false,
          "read_only": false
        },
        "colab": {
          "base_uri": "https://localhost:8080/",
          "height": 0
        },
        "id": "59GJwtsTbxYF",
        "outputId": "e7972a10-1238-42a6-baa2-8b283c569634"
      },
      "source": [
        "# Generate a PDF this way\n",
        "dev0.render('dev0')"
      ],
      "execution_count": 27,
      "outputs": [
        {
          "output_type": "execute_result",
          "data": {
            "application/vnd.google.colaboratory.intrinsic+json": {
              "type": "string"
            },
            "text/plain": [
              "'dev0.pdf'"
            ]
          },
          "metadata": {},
          "execution_count": 27
        }
      ]
    },
    {
      "cell_type": "markdown",
      "metadata": {
        "run_control": {
          "frozen": false,
          "read_only": false
        },
        "id": "8cJ7fdq3bxYF"
      },
      "source": [
        "# Poke a DFA, add to its Sigma\n",
        "\n",
        "You can expand the Sigma of a DFA later on. Then\n",
        "if you totalize the DFA, you will see black-hole\n",
        "states emerging. The newly added symbols lead to\n",
        "the Black hole states, as shown below.\n"
      ]
    },
    {
      "cell_type": "code",
      "metadata": {
        "run_control": {
          "frozen": false,
          "read_only": false
        },
        "id": "kaa82OjMbxYG"
      },
      "source": [
        "ev0_bh =  addtosigma_dfa(ev0, set({'1'}))"
      ],
      "execution_count": 28,
      "outputs": []
    },
    {
      "cell_type": "code",
      "metadata": {
        "run_control": {
          "frozen": false,
          "read_only": false
        },
        "colab": {
          "base_uri": "https://localhost:8080/"
        },
        "id": "iIowI4CvbxYH",
        "outputId": "3150d442-ab8d-47c1-bd52-c9c1de7a1204"
      },
      "source": [
        "ev0_bh"
      ],
      "execution_count": 29,
      "outputs": [
        {
          "output_type": "execute_result",
          "data": {
            "text/plain": [
              "{'Delta': {('A', '0'): 'IF', ('IF', '0'): 'A'},\n",
              " 'F': {'IF'},\n",
              " 'Q': {'A', 'IF'},\n",
              " 'Sigma': {'0', '1'},\n",
              " 'q0': 'IF'}"
            ]
          },
          "metadata": {},
          "execution_count": 29
        }
      ]
    },
    {
      "cell_type": "code",
      "metadata": {
        "run_control": {
          "frozen": false,
          "read_only": false
        },
        "id": "Sfsf2BS_bxYI"
      },
      "source": [
        "ev0_bh_totalize = totalize_dfa(ev0_bh)"
      ],
      "execution_count": 30,
      "outputs": []
    },
    {
      "cell_type": "code",
      "metadata": {
        "run_control": {
          "frozen": false,
          "read_only": false
        },
        "colab": {
          "base_uri": "https://localhost:8080/"
        },
        "id": "rKdRWn69bxYI",
        "outputId": "6a70e595-a6a1-4bfd-fb25-42b99179bde6"
      },
      "source": [
        "ev0_bh"
      ],
      "execution_count": 31,
      "outputs": [
        {
          "output_type": "execute_result",
          "data": {
            "text/plain": [
              "{'Delta': {('A', '0'): 'IF', ('IF', '0'): 'A'},\n",
              " 'F': {'IF'},\n",
              " 'Q': {'A', 'IF'},\n",
              " 'Sigma': {'0', '1'},\n",
              " 'q0': 'IF'}"
            ]
          },
          "metadata": {},
          "execution_count": 31
        }
      ]
    },
    {
      "cell_type": "code",
      "metadata": {
        "run_control": {
          "frozen": false,
          "read_only": false
        },
        "id": "4s5dQN9QbxYJ"
      },
      "source": [
        "do_ev0_tot = dotObj_dfa_w_bh(ev0_bh_totalize)"
      ],
      "execution_count": 32,
      "outputs": []
    },
    {
      "cell_type": "code",
      "metadata": {
        "run_control": {
          "frozen": false,
          "read_only": false
        },
        "colab": {
          "base_uri": "https://localhost:8080/",
          "height": 0
        },
        "id": "cX0fe3oZbxYK",
        "outputId": "c8015728-10e7-40cd-c569-5eb731479073"
      },
      "source": [
        "do_ev0_tot"
      ],
      "execution_count": 33,
      "outputs": [
        {
          "output_type": "execute_result",
          "data": {
            "text/plain": [
              "<graphviz.dot.Digraph at 0x7fb2cf49a350>"
            ],
            "image/svg+xml": "<?xml version=\"1.0\" encoding=\"UTF-8\" standalone=\"no\"?>\n<!DOCTYPE svg PUBLIC \"-//W3C//DTD SVG 1.1//EN\"\n \"http://www.w3.org/Graphics/SVG/1.1/DTD/svg11.dtd\">\n<!-- Generated by graphviz version 2.40.1 (20161225.0304)\n -->\n<!-- Title: %3 Pages: 1 -->\n<svg width=\"325pt\" height=\"122pt\"\n viewBox=\"0.00 0.00 324.79 122.10\" xmlns=\"http://www.w3.org/2000/svg\" xmlns:xlink=\"http://www.w3.org/1999/xlink\">\n<g id=\"graph0\" class=\"graph\" transform=\"scale(1 1) rotate(0) translate(4 118.0957)\">\n<title>%3</title>\n<polygon fill=\"#ffffff\" stroke=\"transparent\" points=\"-4,4 -4,-118.0957 320.7924,-118.0957 320.7924,4 -4,4\"/>\n<!-- EMPTY -->\n<g id=\"node1\" class=\"node\">\n<title>EMPTY</title>\n</g>\n<!-- IF -->\n<g id=\"node4\" class=\"node\">\n<title>IF</title>\n<ellipse fill=\"none\" stroke=\"#000000\" cx=\"113.8483\" cy=\"-41.0479\" rx=\"18.724\" ry=\"18.724\"/>\n<ellipse fill=\"none\" stroke=\"#000000\" cx=\"113.8483\" cy=\"-41.0479\" rx=\"22.6977\" ry=\"22.6977\"/>\n<text text-anchor=\"middle\" x=\"113.8483\" y=\"-37.3479\" font-family=\"Times,serif\" font-size=\"14.00\" fill=\"#000000\">IF</text>\n</g>\n<!-- EMPTY&#45;&gt;IF -->\n<g id=\"edge1\" class=\"edge\">\n<title>EMPTY&#45;&gt;IF</title>\n<path fill=\"none\" stroke=\"#000000\" d=\"M54.0033,-41.0479C62.5212,-41.0479 72.0276,-41.0479 80.9112,-41.0479\"/>\n<polygon fill=\"#000000\" stroke=\"#000000\" points=\"80.9572,-44.548 90.9572,-41.0479 80.9572,-37.548 80.9572,-44.548\"/>\n</g>\n<!-- BH -->\n<g id=\"node2\" class=\"node\">\n<title>BH</title>\n<ellipse fill=\"none\" stroke=\"#000000\" cx=\"292.7445\" cy=\"-24.0479\" rx=\"24.0958\" ry=\"24.0958\"/>\n<text text-anchor=\"middle\" x=\"292.7445\" y=\"-20.3479\" font-family=\"Times,serif\" font-size=\"14.00\" fill=\"#000000\">BH</text>\n</g>\n<!-- BH&#45;&gt;BH -->\n<g id=\"edge6\" class=\"edge\">\n<title>BH&#45;&gt;BH</title>\n<path fill=\"none\" stroke=\"#000000\" d=\"M288.2841,-47.8222C287.9765,-57.7122 289.4633,-66.0957 292.7445,-66.0957 294.7953,-66.0957 296.1451,-62.8209 296.794,-57.9502\"/>\n<polygon fill=\"#000000\" stroke=\"#000000\" points=\"300.2966,-57.9559 297.205,-47.8222 293.3023,-57.672 300.2966,-57.9559\"/>\n<text text-anchor=\"middle\" x=\"292.7445\" y=\"-69.8957\" font-family=\"Times,serif\" font-size=\"14.00\" fill=\"#000000\">1 </text>\n</g>\n<!-- BH&#45;&gt;BH -->\n<g id=\"edge7\" class=\"edge\">\n<title>BH&#45;&gt;BH</title>\n<path fill=\"none\" stroke=\"#000000\" d=\"M285.0101,-46.8444C281.9164,-65.1744 284.4945,-84.0957 292.7445,-84.0957 299.4476,-84.0957 302.4064,-71.6047 301.6209,-57.0887\"/>\n<polygon fill=\"#000000\" stroke=\"#000000\" points=\"305.0654,-56.395 300.4789,-46.8444 298.1085,-57.1706 305.0654,-56.395\"/>\n<text text-anchor=\"middle\" x=\"292.7445\" y=\"-87.8957\" font-family=\"Times,serif\" font-size=\"14.00\" fill=\"#000000\">0 </text>\n</g>\n<!-- A -->\n<g id=\"node3\" class=\"node\">\n<title>A</title>\n<ellipse fill=\"none\" stroke=\"#000000\" cx=\"202.6967\" cy=\"-59.0479\" rx=\"18\" ry=\"18\"/>\n<text text-anchor=\"middle\" x=\"202.6967\" y=\"-55.3479\" font-family=\"Times,serif\" font-size=\"14.00\" fill=\"#000000\">A</text>\n</g>\n<!-- A&#45;&gt;BH -->\n<g id=\"edge4\" class=\"edge\">\n<title>A&#45;&gt;BH</title>\n<path fill=\"none\" stroke=\"#000000\" d=\"M219.634,-52.4646C231.1129,-48.003 246.6472,-41.9651 260.4447,-36.6022\"/>\n<polygon fill=\"#000000\" stroke=\"#000000\" points=\"262.0489,-39.7339 270.1016,-32.8488 259.5129,-33.2094 262.0489,-39.7339\"/>\n<text text-anchor=\"middle\" x=\"244.6967\" y=\"-47.8479\" font-family=\"Times,serif\" font-size=\"14.00\" fill=\"#000000\">1 </text>\n</g>\n<!-- A&#45;&gt;IF -->\n<g id=\"edge3\" class=\"edge\">\n<title>A&#45;&gt;IF</title>\n<path fill=\"none\" stroke=\"#000000\" d=\"M188.0762,-48.1519C181.8263,-44.1435 174.2403,-40.0873 166.6967,-38.0479 160.2927,-36.3165 153.2981,-35.8002 146.5552,-35.9512\"/>\n<polygon fill=\"#000000\" stroke=\"#000000\" points=\"146.0231,-32.4795 136.2876,-36.6593 146.5047,-39.4629 146.0231,-32.4795\"/>\n<text text-anchor=\"middle\" x=\"160.6967\" y=\"-41.8479\" font-family=\"Times,serif\" font-size=\"14.00\" fill=\"#000000\">0 </text>\n</g>\n<!-- IF&#45;&gt;BH -->\n<g id=\"edge5\" class=\"edge\">\n<title>IF&#45;&gt;BH</title>\n<path fill=\"none\" stroke=\"#000000\" d=\"M135.0847,-31.8187C148.9195,-26.3202 167.5261,-19.8772 184.6967,-17.0479 209.4025,-12.9769 237.6509,-15.0375 259.0664,-17.9511\"/>\n<polygon fill=\"#000000\" stroke=\"#000000\" points=\"258.579,-21.417 268.9852,-19.4268 259.6091,-14.4932 258.579,-21.417\"/>\n<text text-anchor=\"middle\" x=\"202.6967\" y=\"-20.8479\" font-family=\"Times,serif\" font-size=\"14.00\" fill=\"#000000\">1 </text>\n</g>\n<!-- IF&#45;&gt;A -->\n<g id=\"edge2\" class=\"edge\">\n<title>IF&#45;&gt;A</title>\n<path fill=\"none\" stroke=\"#000000\" d=\"M134.6393,-50.7245C140.9489,-53.2391 147.989,-55.6358 154.6967,-57.0479 160.8664,-58.3467 167.5778,-59.0528 173.973,-59.4031\"/>\n<polygon fill=\"#000000\" stroke=\"#000000\" points=\"174.1896,-62.9106 184.2857,-59.6983 174.39,-55.9135 174.1896,-62.9106\"/>\n<text text-anchor=\"middle\" x=\"160.6967\" y=\"-61.8479\" font-family=\"Times,serif\" font-size=\"14.00\" fill=\"#000000\">0 </text>\n</g>\n</g>\n</svg>\n"
          },
          "metadata": {},
          "execution_count": 33
        }
      ]
    },
    {
      "cell_type": "code",
      "metadata": {
        "run_control": {
          "frozen": false,
          "read_only": false
        },
        "colab": {
          "base_uri": "https://localhost:8080/",
          "height": 0
        },
        "id": "CEnAuzjtbxYK",
        "outputId": "2133518a-b3ab-415c-fa40-ce0fe73f71cb"
      },
      "source": [
        "dotObj_dfa_w_bh(ev0_bh_totalize, FuseEdges=True)"
      ],
      "execution_count": 34,
      "outputs": [
        {
          "output_type": "execute_result",
          "data": {
            "text/plain": [
              "<graphviz.dot.Digraph at 0x7fb2cf4c2210>"
            ],
            "image/svg+xml": "<?xml version=\"1.0\" encoding=\"UTF-8\" standalone=\"no\"?>\n<!DOCTYPE svg PUBLIC \"-//W3C//DTD SVG 1.1//EN\"\n \"http://www.w3.org/Graphics/SVG/1.1/DTD/svg11.dtd\">\n<!-- Generated by graphviz version 2.40.1 (20161225.0304)\n -->\n<!-- Title: %3 Pages: 1 -->\n<svg width=\"325pt\" height=\"104pt\"\n viewBox=\"0.00 0.00 324.79 104.10\" xmlns=\"http://www.w3.org/2000/svg\" xmlns:xlink=\"http://www.w3.org/1999/xlink\">\n<g id=\"graph0\" class=\"graph\" transform=\"scale(1 1) rotate(0) translate(4 100.0957)\">\n<title>%3</title>\n<polygon fill=\"#ffffff\" stroke=\"transparent\" points=\"-4,4 -4,-100.0957 320.7924,-100.0957 320.7924,4 -4,4\"/>\n<!-- EMPTY -->\n<g id=\"node1\" class=\"node\">\n<title>EMPTY</title>\n</g>\n<!-- IF -->\n<g id=\"node4\" class=\"node\">\n<title>IF</title>\n<ellipse fill=\"none\" stroke=\"#000000\" cx=\"113.8483\" cy=\"-41.0479\" rx=\"18.724\" ry=\"18.724\"/>\n<ellipse fill=\"none\" stroke=\"#000000\" cx=\"113.8483\" cy=\"-41.0479\" rx=\"22.6977\" ry=\"22.6977\"/>\n<text text-anchor=\"middle\" x=\"113.8483\" y=\"-37.3479\" font-family=\"Times,serif\" font-size=\"14.00\" fill=\"#000000\">IF</text>\n</g>\n<!-- EMPTY&#45;&gt;IF -->\n<g id=\"edge1\" class=\"edge\">\n<title>EMPTY&#45;&gt;IF</title>\n<path fill=\"none\" stroke=\"#000000\" d=\"M54.0033,-41.0479C62.5212,-41.0479 72.0276,-41.0479 80.9112,-41.0479\"/>\n<polygon fill=\"#000000\" stroke=\"#000000\" points=\"80.9572,-44.548 90.9572,-41.0479 80.9572,-37.548 80.9572,-44.548\"/>\n</g>\n<!-- BH -->\n<g id=\"node2\" class=\"node\">\n<title>BH</title>\n<ellipse fill=\"none\" stroke=\"#000000\" cx=\"292.7445\" cy=\"-24.0479\" rx=\"24.0958\" ry=\"24.0958\"/>\n<text text-anchor=\"middle\" x=\"292.7445\" y=\"-20.3479\" font-family=\"Times,serif\" font-size=\"14.00\" fill=\"#000000\">BH</text>\n</g>\n<!-- BH&#45;&gt;BH -->\n<g id=\"edge6\" class=\"edge\">\n<title>BH&#45;&gt;BH</title>\n<path fill=\"none\" stroke=\"#000000\" d=\"M283.9225,-46.5428C282.9601,-56.9782 285.9008,-66.0957 292.7445,-66.0957 297.1288,-66.0957 299.9113,-62.3539 301.0919,-56.9208\"/>\n<polygon fill=\"#000000\" stroke=\"#000000\" points=\"304.6059,-56.6923 301.5665,-46.5428 297.6132,-56.3725 304.6059,-56.6923\"/>\n<text text-anchor=\"middle\" x=\"292.7445\" y=\"-84.8957\" font-family=\"Times,serif\" font-size=\"14.00\" fill=\"#000000\">1 </text>\n<text text-anchor=\"middle\" x=\"292.7445\" y=\"-69.8957\" font-family=\"Times,serif\" font-size=\"14.00\" fill=\"#000000\"> 0 </text>\n</g>\n<!-- A -->\n<g id=\"node3\" class=\"node\">\n<title>A</title>\n<ellipse fill=\"none\" stroke=\"#000000\" cx=\"202.6967\" cy=\"-59.0479\" rx=\"18\" ry=\"18\"/>\n<text text-anchor=\"middle\" x=\"202.6967\" y=\"-55.3479\" font-family=\"Times,serif\" font-size=\"14.00\" fill=\"#000000\">A</text>\n</g>\n<!-- A&#45;&gt;BH -->\n<g id=\"edge4\" class=\"edge\">\n<title>A&#45;&gt;BH</title>\n<path fill=\"none\" stroke=\"#000000\" d=\"M219.634,-52.4646C231.1129,-48.003 246.6472,-41.9651 260.4447,-36.6022\"/>\n<polygon fill=\"#000000\" stroke=\"#000000\" points=\"262.0489,-39.7339 270.1016,-32.8488 259.5129,-33.2094 262.0489,-39.7339\"/>\n<text text-anchor=\"middle\" x=\"244.6967\" y=\"-47.8479\" font-family=\"Times,serif\" font-size=\"14.00\" fill=\"#000000\">1 </text>\n</g>\n<!-- A&#45;&gt;IF -->\n<g id=\"edge3\" class=\"edge\">\n<title>A&#45;&gt;IF</title>\n<path fill=\"none\" stroke=\"#000000\" d=\"M188.0762,-48.1519C181.8263,-44.1435 174.2403,-40.0873 166.6967,-38.0479 160.2927,-36.3165 153.2981,-35.8002 146.5552,-35.9512\"/>\n<polygon fill=\"#000000\" stroke=\"#000000\" points=\"146.0231,-32.4795 136.2876,-36.6593 146.5047,-39.4629 146.0231,-32.4795\"/>\n<text text-anchor=\"middle\" x=\"160.6967\" y=\"-41.8479\" font-family=\"Times,serif\" font-size=\"14.00\" fill=\"#000000\">0 </text>\n</g>\n<!-- IF&#45;&gt;BH -->\n<g id=\"edge5\" class=\"edge\">\n<title>IF&#45;&gt;BH</title>\n<path fill=\"none\" stroke=\"#000000\" d=\"M135.0847,-31.8187C148.9195,-26.3202 167.5261,-19.8772 184.6967,-17.0479 209.4025,-12.9769 237.6509,-15.0375 259.0664,-17.9511\"/>\n<polygon fill=\"#000000\" stroke=\"#000000\" points=\"258.579,-21.417 268.9852,-19.4268 259.6091,-14.4932 258.579,-21.417\"/>\n<text text-anchor=\"middle\" x=\"202.6967\" y=\"-20.8479\" font-family=\"Times,serif\" font-size=\"14.00\" fill=\"#000000\">1 </text>\n</g>\n<!-- IF&#45;&gt;A -->\n<g id=\"edge2\" class=\"edge\">\n<title>IF&#45;&gt;A</title>\n<path fill=\"none\" stroke=\"#000000\" d=\"M134.6393,-50.7245C140.9489,-53.2391 147.989,-55.6358 154.6967,-57.0479 160.8664,-58.3467 167.5778,-59.0528 173.973,-59.4031\"/>\n<polygon fill=\"#000000\" stroke=\"#000000\" points=\"174.1896,-62.9106 184.2857,-59.6983 174.39,-55.9135 174.1896,-62.9106\"/>\n<text text-anchor=\"middle\" x=\"160.6967\" y=\"-61.8479\" font-family=\"Times,serif\" font-size=\"14.00\" fill=\"#000000\">0 </text>\n</g>\n</g>\n</svg>\n"
          },
          "metadata": {},
          "execution_count": 34
        }
      ]
    },
    {
      "cell_type": "markdown",
      "metadata": {
        "run_control": {
          "frozen": false,
          "read_only": false
        },
        "id": "XO1m2OGgbxYL"
      },
      "source": [
        "<span style=\"color:blue\"> **We can now write routines to print DFA using dot. The main routines are listed below.** </span>\n",
        "\n",
        "* dot_dfa_w_bh : lists all states of a DFA including black-hole states\n",
        "* dot_dfa      : lists all isNotBH states (see below for a defn), i.e. suppress black-holes\n",
        "     - Usually there are too many transitions to them and that clutters the view\n",
        "     "
      ]
    },
    {
      "cell_type": "code",
      "metadata": {
        "run_control": {
          "frozen": false,
          "read_only": false
        },
        "colab": {
          "base_uri": "https://localhost:8080/",
          "height": 0
        },
        "id": "TsihXBxWbxYM",
        "outputId": "c9e32096-cafc-4cd6-e361-fefe76e4fada"
      },
      "source": [
        "dfaBESame = md2mc('''\n",
        "DFA !! Begins and ends with same; epsilon allowed\n",
        "IF  : 0 -> F0\n",
        "IF  : 1 -> F1\n",
        "!!\n",
        "F0  : 0 -> F0\n",
        "F0  : 1 -> S01\n",
        "S01 : 1 -> S01\n",
        "S01 : 0 -> F0\n",
        "!!\n",
        "F1  : 1 -> F1\n",
        "F1  : 0 -> S10\n",
        "S10 : 0 -> S10\n",
        "S10 : 1 -> F1\n",
        "''')\n",
        "DOdfaBESame = dotObj_dfa(dfaBESame)\n",
        "DOdfaBESame"
      ],
      "execution_count": 35,
      "outputs": [
        {
          "output_type": "execute_result",
          "data": {
            "text/plain": [
              "<graphviz.dot.Digraph at 0x7fb2cf49ab50>"
            ],
            "image/svg+xml": "<?xml version=\"1.0\" encoding=\"UTF-8\" standalone=\"no\"?>\n<!DOCTYPE svg PUBLIC \"-//W3C//DTD SVG 1.1//EN\"\n \"http://www.w3.org/Graphics/SVG/1.1/DTD/svg11.dtd\">\n<!-- Generated by graphviz version 2.40.1 (20161225.0304)\n -->\n<!-- Title: %3 Pages: 1 -->\n<svg width=\"342pt\" height=\"207pt\"\n viewBox=\"0.00 0.00 342.29 206.80\" xmlns=\"http://www.w3.org/2000/svg\" xmlns:xlink=\"http://www.w3.org/1999/xlink\">\n<g id=\"graph0\" class=\"graph\" transform=\"scale(1 1) rotate(0) translate(4 202.7958)\">\n<title>%3</title>\n<polygon fill=\"#ffffff\" stroke=\"transparent\" points=\"-4,4 -4,-202.7958 338.2884,-202.7958 338.2884,4 -4,4\"/>\n<!-- EMPTY -->\n<g id=\"node1\" class=\"node\">\n<title>EMPTY</title>\n</g>\n<!-- IF -->\n<g id=\"node5\" class=\"node\">\n<title>IF</title>\n<ellipse fill=\"none\" stroke=\"#000000\" cx=\"113.8483\" cy=\"-74.7982\" rx=\"18.724\" ry=\"18.724\"/>\n<ellipse fill=\"none\" stroke=\"#000000\" cx=\"113.8483\" cy=\"-74.7982\" rx=\"22.6977\" ry=\"22.6977\"/>\n<text text-anchor=\"middle\" x=\"113.8483\" y=\"-71.0982\" font-family=\"Times,serif\" font-size=\"14.00\" fill=\"#000000\">IF</text>\n</g>\n<!-- EMPTY&#45;&gt;IF -->\n<g id=\"edge1\" class=\"edge\">\n<title>EMPTY&#45;&gt;IF</title>\n<path fill=\"none\" stroke=\"#000000\" d=\"M54.0033,-74.7982C62.5212,-74.7982 72.0276,-74.7982 80.9112,-74.7982\"/>\n<polygon fill=\"#000000\" stroke=\"#000000\" points=\"80.9572,-78.2983 90.9572,-74.7982 80.9572,-71.2983 80.9572,-78.2983\"/>\n</g>\n<!-- S01 -->\n<g id=\"node2\" class=\"node\">\n<title>S01</title>\n<ellipse fill=\"none\" stroke=\"#000000\" cx=\"308.2907\" cy=\"-139.7982\" rx=\"25.9954\" ry=\"25.9954\"/>\n<text text-anchor=\"middle\" x=\"308.2907\" y=\"-136.0982\" font-family=\"Times,serif\" font-size=\"14.00\" fill=\"#000000\">S01</text>\n</g>\n<!-- S01&#45;&gt;S01 -->\n<g id=\"edge6\" class=\"edge\">\n<title>S01&#45;&gt;S01</title>\n<path fill=\"none\" stroke=\"#000000\" d=\"M299.3983,-164.2305C298.6703,-174.7711 301.6344,-183.7958 308.2907,-183.7958 312.6588,-183.7958 315.4369,-179.9092 316.6249,-174.2581\"/>\n<polygon fill=\"#000000\" stroke=\"#000000\" points=\"320.1218,-174.4095 317.183,-164.2305 313.1326,-174.0205 320.1218,-174.4095\"/>\n<text text-anchor=\"middle\" x=\"308.2907\" y=\"-187.5958\" font-family=\"Times,serif\" font-size=\"14.00\" fill=\"#000000\">1 </text>\n</g>\n<!-- F0 -->\n<g id=\"node4\" class=\"node\">\n<title>F0</title>\n<ellipse fill=\"none\" stroke=\"#000000\" cx=\"209.4948\" cy=\"-125.7982\" rx=\"20.6302\" ry=\"20.6302\"/>\n<ellipse fill=\"none\" stroke=\"#000000\" cx=\"209.4948\" cy=\"-125.7982\" rx=\"24.5979\" ry=\"24.5979\"/>\n<text text-anchor=\"middle\" x=\"209.4948\" y=\"-122.0982\" font-family=\"Times,serif\" font-size=\"14.00\" fill=\"#000000\">F0</text>\n</g>\n<!-- S01&#45;&gt;F0 -->\n<g id=\"edge7\" class=\"edge\">\n<title>S01&#45;&gt;F0</title>\n<path fill=\"none\" stroke=\"#000000\" d=\"M287.4726,-123.796C280.4859,-119.3358 272.4003,-115.0874 264.293,-112.7982 257.0475,-110.7523 249.2031,-111.1132 241.7755,-112.6182\"/>\n<polygon fill=\"#000000\" stroke=\"#000000\" points=\"240.7407,-109.2723 232.0008,-115.261 242.5677,-116.0296 240.7407,-109.2723\"/>\n<text text-anchor=\"middle\" x=\"258.293\" y=\"-116.5982\" font-family=\"Times,serif\" font-size=\"14.00\" fill=\"#000000\">0 </text>\n</g>\n<!-- S10 -->\n<g id=\"node3\" class=\"node\">\n<title>S10</title>\n<ellipse fill=\"none\" stroke=\"#000000\" cx=\"308.2907\" cy=\"-30.7982\" rx=\"25.9954\" ry=\"25.9954\"/>\n<text text-anchor=\"middle\" x=\"308.2907\" y=\"-27.0982\" font-family=\"Times,serif\" font-size=\"14.00\" fill=\"#000000\">S10</text>\n</g>\n<!-- S10&#45;&gt;S10 -->\n<g id=\"edge10\" class=\"edge\">\n<title>S10&#45;&gt;S10</title>\n<path fill=\"none\" stroke=\"#000000\" d=\"M299.3983,-55.2305C298.6703,-65.7711 301.6344,-74.7958 308.2907,-74.7958 312.6588,-74.7958 315.4369,-70.9092 316.6249,-65.2581\"/>\n<polygon fill=\"#000000\" stroke=\"#000000\" points=\"320.1218,-65.4095 317.183,-55.2305 313.1326,-65.0205 320.1218,-65.4095\"/>\n<text text-anchor=\"middle\" x=\"308.2907\" y=\"-78.5958\" font-family=\"Times,serif\" font-size=\"14.00\" fill=\"#000000\">0 </text>\n</g>\n<!-- F1 -->\n<g id=\"node6\" class=\"node\">\n<title>F1</title>\n<ellipse fill=\"none\" stroke=\"#000000\" cx=\"209.4948\" cy=\"-24.7982\" rx=\"20.6302\" ry=\"20.6302\"/>\n<ellipse fill=\"none\" stroke=\"#000000\" cx=\"209.4948\" cy=\"-24.7982\" rx=\"24.5979\" ry=\"24.5979\"/>\n<text text-anchor=\"middle\" x=\"209.4948\" y=\"-21.0982\" font-family=\"Times,serif\" font-size=\"14.00\" fill=\"#000000\">F1</text>\n</g>\n<!-- S10&#45;&gt;F1 -->\n<g id=\"edge11\" class=\"edge\">\n<title>S10&#45;&gt;F1</title>\n<path fill=\"none\" stroke=\"#000000\" d=\"M283.9915,-20.9292C277.6818,-18.8084 270.8214,-16.8804 264.293,-15.7982 257.4553,-14.6646 250.1365,-14.8775 243.1461,-15.7699\"/>\n<polygon fill=\"#000000\" stroke=\"#000000\" points=\"242.4898,-12.3314 233.2334,-17.4861 243.684,-19.2288 242.4898,-12.3314\"/>\n<text text-anchor=\"middle\" x=\"258.293\" y=\"-19.5982\" font-family=\"Times,serif\" font-size=\"14.00\" fill=\"#000000\">1 </text>\n</g>\n<!-- F0&#45;&gt;S01 -->\n<g id=\"edge5\" class=\"edge\">\n<title>F0&#45;&gt;S01</title>\n<path fill=\"none\" stroke=\"#000000\" d=\"M234.1703,-129.2948C245.601,-130.9146 259.4114,-132.8716 271.9981,-134.6553\"/>\n<polygon fill=\"#000000\" stroke=\"#000000\" points=\"271.8118,-138.1638 282.204,-136.1015 272.794,-131.233 271.8118,-138.1638\"/>\n<text text-anchor=\"middle\" x=\"258.293\" y=\"-136.5982\" font-family=\"Times,serif\" font-size=\"14.00\" fill=\"#000000\">1 </text>\n</g>\n<!-- F0&#45;&gt;F0 -->\n<g id=\"edge4\" class=\"edge\">\n<title>F0&#45;&gt;F0</title>\n<path fill=\"none\" stroke=\"#000000\" d=\"M200.6354,-149.1303C199.7917,-159.5686 202.7448,-168.5963 209.4948,-168.5963 213.819,-168.5963 216.585,-164.8913 217.7927,-159.484\"/>\n<polygon fill=\"#000000\" stroke=\"#000000\" points=\"221.3075,-159.3051 218.3542,-149.1303 214.3178,-158.926 221.3075,-159.3051\"/>\n<text text-anchor=\"middle\" x=\"209.4948\" y=\"-172.3963\" font-family=\"Times,serif\" font-size=\"14.00\" fill=\"#000000\">0 </text>\n</g>\n<!-- IF&#45;&gt;F0 -->\n<g id=\"edge2\" class=\"edge\">\n<title>IF&#45;&gt;F0</title>\n<path fill=\"none\" stroke=\"#000000\" d=\"M134.1325,-85.6139C146.9976,-92.4738 163.8961,-101.4843 178.4305,-109.2342\"/>\n<polygon fill=\"#000000\" stroke=\"#000000\" points=\"177.1033,-112.493 187.5741,-114.1097 180.3969,-106.3162 177.1033,-112.493\"/>\n<text text-anchor=\"middle\" x=\"160.6967\" y=\"-105.5982\" font-family=\"Times,serif\" font-size=\"14.00\" fill=\"#000000\">0 </text>\n</g>\n<!-- IF&#45;&gt;F1 -->\n<g id=\"edge3\" class=\"edge\">\n<title>IF&#45;&gt;F1</title>\n<path fill=\"none\" stroke=\"#000000\" d=\"M134.1325,-64.1944C146.9076,-57.5161 163.66,-48.7587 178.1252,-41.1969\"/>\n<polygon fill=\"#000000\" stroke=\"#000000\" points=\"179.9952,-44.1688 187.2359,-36.4342 176.7522,-37.9653 179.9952,-44.1688\"/>\n<text text-anchor=\"middle\" x=\"160.6967\" y=\"-56.5982\" font-family=\"Times,serif\" font-size=\"14.00\" fill=\"#000000\">1 </text>\n</g>\n<!-- F1&#45;&gt;S10 -->\n<g id=\"edge9\" class=\"edge\">\n<title>F1&#45;&gt;S10</title>\n<path fill=\"none\" stroke=\"#000000\" d=\"M233.7679,-31.4876C239.7753,-32.8604 246.2288,-34.0991 252.293,-34.7982 258.7106,-35.538 265.5589,-35.6265 272.1846,-35.3515\"/>\n<polygon fill=\"#000000\" stroke=\"#000000\" points=\"272.5802,-38.8328 282.3192,-34.6614 272.1045,-31.8489 272.5802,-38.8328\"/>\n<text text-anchor=\"middle\" x=\"258.293\" y=\"-39.5982\" font-family=\"Times,serif\" font-size=\"14.00\" fill=\"#000000\">0 </text>\n</g>\n<!-- F1&#45;&gt;F1 -->\n<g id=\"edge8\" class=\"edge\">\n<title>F1&#45;&gt;F1</title>\n<path fill=\"none\" stroke=\"#000000\" d=\"M200.6354,-48.1303C199.7917,-58.5686 202.7448,-67.5963 209.4948,-67.5963 213.819,-67.5963 216.585,-63.8913 217.7927,-58.484\"/>\n<polygon fill=\"#000000\" stroke=\"#000000\" points=\"221.3075,-58.3051 218.3542,-48.1303 214.3178,-57.926 221.3075,-58.3051\"/>\n<text text-anchor=\"middle\" x=\"209.4948\" y=\"-71.3963\" font-family=\"Times,serif\" font-size=\"14.00\" fill=\"#000000\">1 </text>\n</g>\n</g>\n</svg>\n"
          },
          "metadata": {},
          "execution_count": 35
        }
      ]
    },
    {
      "cell_type": "markdown",
      "metadata": {
        "run_control": {
          "frozen": false,
          "read_only": false
        },
        "id": "sB59_sRSbxYN"
      },
      "source": [
        "## Let us now administer some tests to print dot-strings generated.\n",
        "\n",
        "We will demonstrate two ways to print automata: \n",
        "\n",
        "1. First generate a dot string via dot_dfa or dot_dfa_w_bh\n",
        "   (calling the result \"dot_string\") \n",
        "   1. Then use the srcObj = Source(dot_string) call\n",
        "   2. Thereafter we can display the srcObj object directly into the browser\n",
        "   3. Or, one can also later convert the dot_string to svg or PDF\n",
        "2. OR, one can directly generate a dot object via the dotObj_dfa or dotObj_dfa_w_bh call\n",
        "   (calling the result \"dot_object\")\n",
        "   1. Then directly display the dot_object\n",
        "   2. There are conversions available for dot_object to other formats too"
      ]
    },
    {
      "cell_type": "markdown",
      "metadata": {
        "run_control": {
          "frozen": false,
          "read_only": false
        },
        "id": "wFxyekRqbxYO"
      },
      "source": [
        "# One can read DFAs from files"
      ]
    },
    {
      "cell_type": "code",
      "metadata": {
        "run_control": {
          "frozen": false,
          "read_only": false
        },
        "colab": {
          "base_uri": "https://localhost:8080/",
          "height": 296
        },
        "id": "UOmQMYmzbxYP",
        "outputId": "076e5fe8-a6ae-4c32-9a85-9c53a57d5f90"
      },
      "source": [
        "dped1 = md2mc(src=\"File\", fname=\"./Jove/For_CS3100_Fall2020/02_Basic_DFA/pedagogical1.dfa\")\n",
        "#machines/dfafiles/pedagogical1.dfa"
      ],
      "execution_count": 36,
      "outputs": [
        {
          "output_type": "error",
          "ename": "FileNotFoundError",
          "evalue": "ignored",
          "traceback": [
            "\u001b[0;31m---------------------------------------------------------------------------\u001b[0m",
            "\u001b[0;31mFileNotFoundError\u001b[0m                         Traceback (most recent call last)",
            "\u001b[0;32m<ipython-input-36-9784e00a38ea>\u001b[0m in \u001b[0;36m<module>\u001b[0;34m()\u001b[0m\n\u001b[0;32m----> 1\u001b[0;31m \u001b[0mdped1\u001b[0m \u001b[0;34m=\u001b[0m \u001b[0mmd2mc\u001b[0m\u001b[0;34m(\u001b[0m\u001b[0msrc\u001b[0m\u001b[0;34m=\u001b[0m\u001b[0;34m\"File\"\u001b[0m\u001b[0;34m,\u001b[0m \u001b[0mfname\u001b[0m\u001b[0;34m=\u001b[0m\u001b[0;34m\"./Jove/For_CS3100_Fall2020/02_Basic_DFA/pedagogical1.dfa\"\u001b[0m\u001b[0;34m)\u001b[0m\u001b[0;34m\u001b[0m\u001b[0;34m\u001b[0m\u001b[0m\n\u001b[0m\u001b[1;32m      2\u001b[0m \u001b[0;31m#machines/dfafiles/pedagogical1.dfa\u001b[0m\u001b[0;34m\u001b[0m\u001b[0;34m\u001b[0m\u001b[0;34m\u001b[0m\u001b[0m\n",
            "\u001b[0;32m/content/Jove/jove/Def_md2mc.py\u001b[0m in \u001b[0;36mmd2mc\u001b[0;34m(src, fname)\u001b[0m\n\u001b[1;32m    691\u001b[0m         \u001b[0mmdstr\u001b[0m \u001b[0;34m=\u001b[0m \u001b[0mopen\u001b[0m\u001b[0;34m(\u001b[0m\u001b[0minput\u001b[0m\u001b[0;34m(\u001b[0m\u001b[0;34m'File name ='\u001b[0m\u001b[0;34m)\u001b[0m\u001b[0;34m,\u001b[0m \u001b[0;34m'r'\u001b[0m\u001b[0;34m)\u001b[0m\u001b[0;34m.\u001b[0m\u001b[0mread\u001b[0m\u001b[0;34m(\u001b[0m\u001b[0;34m)\u001b[0m\u001b[0;34m\u001b[0m\u001b[0;34m\u001b[0m\u001b[0m\n\u001b[1;32m    692\u001b[0m     \u001b[0;32melif\u001b[0m \u001b[0;34m(\u001b[0m\u001b[0msrc\u001b[0m\u001b[0;34m==\u001b[0m\u001b[0;34m\"File\"\u001b[0m\u001b[0;34m)\u001b[0m\u001b[0;34m:\u001b[0m\u001b[0;34m\u001b[0m\u001b[0;34m\u001b[0m\u001b[0m\n\u001b[0;32m--> 693\u001b[0;31m         \u001b[0mmdstr\u001b[0m \u001b[0;34m=\u001b[0m \u001b[0mopen\u001b[0m\u001b[0;34m(\u001b[0m\u001b[0mfname\u001b[0m\u001b[0;34m)\u001b[0m\u001b[0;34m.\u001b[0m\u001b[0mread\u001b[0m\u001b[0;34m(\u001b[0m\u001b[0;34m)\u001b[0m\u001b[0;34m\u001b[0m\u001b[0;34m\u001b[0m\u001b[0m\n\u001b[0m\u001b[1;32m    694\u001b[0m     \u001b[0;32melse\u001b[0m\u001b[0;34m:\u001b[0m\u001b[0;34m\u001b[0m\u001b[0;34m\u001b[0m\u001b[0m\n\u001b[1;32m    695\u001b[0m         \u001b[0mmdstr\u001b[0m \u001b[0;34m=\u001b[0m \u001b[0msrc\u001b[0m\u001b[0;34m\u001b[0m\u001b[0;34m\u001b[0m\u001b[0m\n",
            "\u001b[0;31mFileNotFoundError\u001b[0m: [Errno 2] No such file or directory: './Jove/For_CS3100_Fall2020/02_Basic_DFA/pedagogical1.dfa'"
          ]
        }
      ]
    },
    {
      "cell_type": "code",
      "metadata": {
        "run_control": {
          "frozen": false,
          "read_only": false
        },
        "id": "ia8WgAL1bxYP"
      },
      "source": [
        "dped1"
      ],
      "execution_count": null,
      "outputs": []
    },
    {
      "cell_type": "code",
      "metadata": {
        "run_control": {
          "frozen": false,
          "read_only": false
        },
        "id": "c00Z5qCDbxYQ"
      },
      "source": [
        "dotObj_dfa(dped1)"
      ],
      "execution_count": null,
      "outputs": []
    },
    {
      "cell_type": "code",
      "metadata": {
        "run_control": {
          "frozen": false,
          "read_only": false
        },
        "id": "fvw4AIHvbxYQ"
      },
      "source": [
        "dotObj_dfa(dped1, FuseEdges=True)"
      ],
      "execution_count": null,
      "outputs": []
    },
    {
      "cell_type": "code",
      "metadata": {
        "run_control": {
          "frozen": false,
          "read_only": false
        },
        "id": "2BSQMnoMbxYR"
      },
      "source": [
        "ends0101 = md2mc(src=\"File\", fname=\"./Jove/For_CS3100_Fall2020/02_Basic_DFA/endsin0101.dfa\")"
      ],
      "execution_count": null,
      "outputs": []
    },
    {
      "cell_type": "code",
      "metadata": {
        "run_control": {
          "frozen": false,
          "read_only": false
        },
        "id": "BQziyQzkbxYR"
      },
      "source": [
        "dotObj_dfa(ends0101)"
      ],
      "execution_count": null,
      "outputs": []
    },
    {
      "cell_type": "code",
      "metadata": {
        "run_control": {
          "frozen": false,
          "read_only": false
        },
        "id": "8hiHqEo-bxYS"
      },
      "source": [
        "thirdlastis1=md2mc(src=\"File\", fname=\"./Jove/For_CS3100_Fall2020/02_Basic_DFA/thirdlastis1.dfa\")\n",
        "#machines/dfafiles/thirdlastis1.dfa"
      ],
      "execution_count": null,
      "outputs": []
    },
    {
      "cell_type": "code",
      "metadata": {
        "run_control": {
          "frozen": false,
          "read_only": false
        },
        "id": "t6JNqbQ-bxYS"
      },
      "source": [
        "thirdlastis1"
      ],
      "execution_count": null,
      "outputs": []
    },
    {
      "cell_type": "code",
      "metadata": {
        "run_control": {
          "frozen": false,
          "read_only": false
        },
        "id": "wq4mA0F9bxYS"
      },
      "source": [
        "dotObj_dfa(thirdlastis1)"
      ],
      "execution_count": null,
      "outputs": []
    },
    {
      "cell_type": "code",
      "metadata": {
        "run_control": {
          "frozen": false,
          "read_only": false
        },
        "id": "c1uWXWMFbxYT"
      },
      "source": [
        "dped1=md2mc(src=\"File\", fname=\"./Jove/For_CS3100_Fall2020/02_Basic_DFA/pedagogical2.dfa\")\n",
        "#machines/dfafiles/pedagogical2.dfa"
      ],
      "execution_count": null,
      "outputs": []
    },
    {
      "cell_type": "code",
      "metadata": {
        "run_control": {
          "frozen": false,
          "read_only": false
        },
        "id": "71us3-1MbxYU"
      },
      "source": [
        "dotObj_dfa(dped1)"
      ],
      "execution_count": null,
      "outputs": []
    },
    {
      "cell_type": "code",
      "metadata": {
        "run_control": {
          "frozen": false,
          "read_only": false
        },
        "id": "pv-u_AeTbxYU"
      },
      "source": [
        "secondLastIs1 = md2mc('''\n",
        "!!------------------------------------------------------------\n",
        "!! This DFA looks for patterns of the form ....1.\n",
        "!! i.e., the second-last (counting from the end-point) is a 1\n",
        "!!\n",
        "!! DFAs find such patterns \"very stressful to handle\",\n",
        "!! as they are kept guessing of the form  'are we there yet?'\n",
        "!! 'are we seeing the second-last' ?\n",
        "!! They must keep all the failure options at hand. Even after\n",
        "!! a 'fleeting glimpse' of the second-last, more inputs can\n",
        "!! come barreling-in to make that \"lucky 1\" a non-second-last.\n",
        "!!\n",
        "!! We take 7 states in the DFA solution.\n",
        "!!------------------------------------------------------------\n",
        "\n",
        "DFA\n",
        "!!------------------------------------------------------------\n",
        "!! State : in ->  tostate !! comment\n",
        "!!------------------------------------------------------------\n",
        "\n",
        "I   :  0 ->  S0  !! Enter at init state I\n",
        "I   :  1 ->  S1  !! Record bit seen in state letter\n",
        "                     !! i.e., S0 means \"state after seeing a 0\"\n",
        "\t\t\t \n",
        "S0  :  0 ->  S00 !! continue recording input seen\n",
        "S0  :  1 ->  S01 !! in state-letter. This is a problem-specific\n",
        "                 !! way of compressing the input seen so far.\n",
        "\n",
        "S1  :  0 ->  F10 !! We now have a \"second last\" available!\n",
        "S1  :  1 ->  F11 !! Both F10 and F10 are \"F\" (final)\n",
        "\n",
        "S00 :  0 ->  S00 !! History of things seen is still 00\n",
        "S00 :  1 ->  S01 !! Remember 01 in the state\n",
        "\n",
        "S01 :  0 ->  F10 !! We again have a second-last of 1\n",
        "S01 :  1 ->  F11 !! We are in F11 because of 11 being last seen\n",
        "\n",
        "F10 :  0 ->  S00 !! The second-last 1 gets pushed-out\n",
        "F10 :  1 ->  S01 !! The second-last 1 gets pushed-out here too\n",
        "\n",
        "F11 :  0 ->  F10 !! Still we have a second-last 1\n",
        "F11 :  1 ->  F11 !! Stay in F11, as last two seen are 11\n",
        "\n",
        "!!------------------------------------------------------------\n",
        "''')"
      ],
      "execution_count": null,
      "outputs": []
    },
    {
      "cell_type": "code",
      "metadata": {
        "run_control": {
          "frozen": false,
          "read_only": false
        },
        "id": "mv4gRWgFbxYV"
      },
      "source": [
        ""
      ],
      "execution_count": null,
      "outputs": []
    },
    {
      "cell_type": "code",
      "metadata": {
        "run_control": {
          "frozen": false,
          "read_only": false
        },
        "id": "PA2u5cVAbxYW"
      },
      "source": [
        "nthnumeric(20,['0','1'])"
      ],
      "execution_count": null,
      "outputs": []
    },
    {
      "cell_type": "code",
      "metadata": {
        "run_control": {
          "frozen": false,
          "read_only": false
        },
        "id": "eZfroUOSbxYW"
      },
      "source": [
        "run_dfa(secondLastIs1, '0101')"
      ],
      "execution_count": null,
      "outputs": []
    },
    {
      "cell_type": "code",
      "metadata": {
        "run_control": {
          "frozen": false,
          "read_only": false
        },
        "id": "2FUmYgIPbxYW"
      },
      "source": [
        "accepts_dfa(secondLastIs1, '0101')"
      ],
      "execution_count": null,
      "outputs": []
    },
    {
      "cell_type": "code",
      "metadata": {
        "run_control": {
          "frozen": false,
          "read_only": false
        },
        "id": "-I5JAq-EbxYX"
      },
      "source": [
        "tests = [ nthnumeric(i, ['0','1']) for i in range(12) ]\n",
        "for t in tests:\n",
        "    if accepts_dfa(secondLastIs1, t):\n",
        "        print(\"This DFA accepts \", t)\n",
        "    else:\n",
        "        print(\"This DFA rejects \", t)"
      ],
      "execution_count": null,
      "outputs": []
    },
    {
      "cell_type": "code",
      "metadata": {
        "run_control": {
          "frozen": false,
          "read_only": false
        },
        "id": "TVZ-IFLRbxYX"
      },
      "source": [
        "help(run_dfa)"
      ],
      "execution_count": null,
      "outputs": []
    },
    {
      "cell_type": "code",
      "metadata": {
        "run_control": {
          "frozen": false,
          "read_only": false
        },
        "id": "CTRafUKubxYY"
      },
      "source": [
        "dfaOdd1s = md2mc('''\n",
        "DFA\n",
        "I : 0 -> I\n",
        "I : 1 -> F\n",
        "F : 0 -> F \n",
        "F : 1 -> I\n",
        "''')"
      ],
      "execution_count": null,
      "outputs": []
    },
    {
      "cell_type": "code",
      "metadata": {
        "run_control": {
          "frozen": false,
          "read_only": false
        },
        "id": "LOSes9sjbxYZ"
      },
      "source": [
        "dotObj_dfa(dfaOdd1s)"
      ],
      "execution_count": null,
      "outputs": []
    },
    {
      "cell_type": "markdown",
      "metadata": {
        "run_control": {
          "frozen": false,
          "read_only": false
        },
        "id": "F_cd4Ny7bxYZ"
      },
      "source": [
        "## Define a DFA for \"ends in 01\""
      ]
    },
    {
      "cell_type": "code",
      "metadata": {
        "run_control": {
          "frozen": false,
          "read_only": false
        },
        "id": "IuyETIH2bxYZ"
      },
      "source": [
        "ends01 = md2mc('''\n",
        "DFA \n",
        "I     : 1 -> I   !! idle at I\n",
        "I     : 0 -> S0  !! record 0 seen\n",
        " \n",
        "S0    : 0 -> S0  !! stay at S0, hopeful of a 1\n",
        "S0    : 1 -> F   !! Found 01\n",
        "\n",
        "F     : 0 -> S0  !! Broke ending, but S0 is the fall back\n",
        "F     : 1 -> I   !! Must resume finding another 0\n",
        "''')"
      ],
      "execution_count": null,
      "outputs": []
    },
    {
      "cell_type": "code",
      "metadata": {
        "run_control": {
          "frozen": false,
          "read_only": false
        },
        "id": "zGhGnrOzbxYa"
      },
      "source": [
        "dotObj_dfa(ends01)"
      ],
      "execution_count": null,
      "outputs": []
    },
    {
      "cell_type": "markdown",
      "metadata": {
        "run_control": {
          "frozen": false,
          "read_only": false
        },
        "id": "r2FfypIdbxYa"
      },
      "source": [
        "## Now produce a DFA for the union\n",
        "\n",
        "Union of \"odd 1s\" and \"ends in 01\"\n"
      ]
    },
    {
      "cell_type": "code",
      "metadata": {
        "run_control": {
          "frozen": false,
          "read_only": false
        },
        "id": "slALO4QKbxYa"
      },
      "source": [
        "odd1sORends01 = union_dfa(dfaOdd1s,ends01)"
      ],
      "execution_count": null,
      "outputs": []
    },
    {
      "cell_type": "code",
      "metadata": {
        "run_control": {
          "frozen": false,
          "read_only": false
        },
        "id": "QRATH4PtbxYb"
      },
      "source": [
        "dotObj_dfa(odd1sORends01)"
      ],
      "execution_count": null,
      "outputs": []
    },
    {
      "cell_type": "markdown",
      "metadata": {
        "run_control": {
          "frozen": false,
          "read_only": false
        },
        "id": "8JMptLdYbxYb"
      },
      "source": [
        "## Apply DFA minimization"
      ]
    },
    {
      "cell_type": "code",
      "metadata": {
        "run_control": {
          "frozen": false,
          "read_only": false
        },
        "id": "xPilF2ngbxYb"
      },
      "source": [
        "Minodd1sORends01 = min_dfa(odd1sORends01)"
      ],
      "execution_count": null,
      "outputs": []
    },
    {
      "cell_type": "code",
      "metadata": {
        "run_control": {
          "frozen": false,
          "read_only": false
        },
        "id": "6hZ90l30bxYc"
      },
      "source": [
        "dotObj_dfa(Minodd1sORends01)"
      ],
      "execution_count": null,
      "outputs": []
    },
    {
      "cell_type": "markdown",
      "metadata": {
        "run_control": {
          "frozen": false,
          "read_only": false
        },
        "id": "NEDLLyTDbxYc"
      },
      "source": [
        "## Minimization vs. Isomorphism vs. Lang. Eql.\n",
        "\n",
        "After minimization, we may not have isomorphic DFA, but we \n",
        "will have language-equivalent DFA"
      ]
    },
    {
      "cell_type": "code",
      "metadata": {
        "run_control": {
          "frozen": false,
          "read_only": false
        },
        "id": "E_5SAHLgbxYc"
      },
      "source": [
        "iso_dfa(odd1sORends01, Minodd1sORends01)"
      ],
      "execution_count": null,
      "outputs": []
    },
    {
      "cell_type": "code",
      "metadata": {
        "run_control": {
          "frozen": false,
          "read_only": false
        },
        "id": "sJIoRnsnbxYd"
      },
      "source": [
        "langeq_dfa(odd1sORends01, Minodd1sORends01)"
      ],
      "execution_count": null,
      "outputs": []
    },
    {
      "cell_type": "markdown",
      "metadata": {
        "id": "24Ghr4q1bxYd"
      },
      "source": [
        "# We can now find out which states were eliminated upon minimization"
      ]
    },
    {
      "cell_type": "code",
      "metadata": {
        "id": "NOec4GUIbxYd"
      },
      "source": [
        "odd1sORends01[\"Q\"] - Minodd1sORends01[\"Q\"]"
      ],
      "execution_count": null,
      "outputs": []
    },
    {
      "cell_type": "markdown",
      "metadata": {
        "id": "vlxEqvPCbxYe"
      },
      "source": [
        "## The reason why these states got eliminated is as follows (taking F_F as an example)\n",
        "\n",
        "* F_F and F_I are indistinguishable by any string! We can study any string from these states and we see that their end states are the same\n",
        "\n",
        "* Now study the minimization algorithm from the book and know how to write solutions to assignments based on that understanding"
      ]
    },
    {
      "cell_type": "markdown",
      "metadata": {
        "run_control": {
          "frozen": false,
          "read_only": false
        },
        "id": "-NH-8SiSbxYe"
      },
      "source": [
        "## Now define \"odd 1s\" AND \"ends in 01\"\n",
        "\n",
        "Define the and of these machines and minimize it"
      ]
    },
    {
      "cell_type": "code",
      "metadata": {
        "run_control": {
          "frozen": false,
          "read_only": false
        },
        "id": "OSAcrrO6bxYe"
      },
      "source": [
        "odd1sANDends01 = intersect_dfa(dfaOdd1s,ends01)"
      ],
      "execution_count": null,
      "outputs": []
    },
    {
      "cell_type": "code",
      "metadata": {
        "run_control": {
          "frozen": false,
          "read_only": false
        },
        "id": "b01CrydhbxYf"
      },
      "source": [
        "dotObj_dfa(odd1sANDends01)"
      ],
      "execution_count": null,
      "outputs": []
    },
    {
      "cell_type": "code",
      "metadata": {
        "run_control": {
          "frozen": false,
          "read_only": false
        },
        "id": "v7ORn1ecbxYf"
      },
      "source": [
        "Minodd1sANDends01 = min_dfa(odd1sANDends01)"
      ],
      "execution_count": null,
      "outputs": []
    },
    {
      "cell_type": "code",
      "metadata": {
        "run_control": {
          "frozen": false,
          "read_only": false
        },
        "id": "uzkdxk2IbxYf"
      },
      "source": [
        "dotObj_dfa(Minodd1sANDends01)"
      ],
      "execution_count": null,
      "outputs": []
    },
    {
      "cell_type": "markdown",
      "metadata": {
        "run_control": {
          "frozen": false,
          "read_only": false
        },
        "id": "5FCYR9LVbxYg"
      },
      "source": [
        "## Now, complement the individual machines"
      ]
    },
    {
      "cell_type": "code",
      "metadata": {
        "run_control": {
          "frozen": false,
          "read_only": false
        },
        "id": "tBujaQa2bxYg"
      },
      "source": [
        "CdfaOdd1s = comp_dfa(dfaOdd1s)"
      ],
      "execution_count": null,
      "outputs": []
    },
    {
      "cell_type": "code",
      "metadata": {
        "run_control": {
          "frozen": false,
          "read_only": false
        },
        "id": "YvcBbvhbbxYg"
      },
      "source": [
        "Cends01 = comp_dfa(ends01)"
      ],
      "execution_count": null,
      "outputs": []
    },
    {
      "cell_type": "markdown",
      "metadata": {
        "run_control": {
          "frozen": false,
          "read_only": false
        },
        "id": "7scjVWCFbxYh"
      },
      "source": [
        "## Complement of the union of the complements\n",
        "\n",
        "The complement of the union of the complements of M1 and M2 is of course the intersection of M1 and M2! Let us check that!\n"
      ]
    },
    {
      "cell_type": "code",
      "metadata": {
        "run_control": {
          "frozen": false,
          "read_only": false
        },
        "id": "xIve79gxbxYh"
      },
      "source": [
        "C_CdfaOdd1sORCends01 = comp_dfa(union_dfa(CdfaOdd1s, Cends01))"
      ],
      "execution_count": null,
      "outputs": []
    },
    {
      "cell_type": "code",
      "metadata": {
        "run_control": {
          "frozen": false,
          "read_only": false
        },
        "id": "v9C-1CiBbxYh"
      },
      "source": [
        "dotObj_dfa(C_CdfaOdd1sORCends01)"
      ],
      "execution_count": null,
      "outputs": []
    },
    {
      "cell_type": "code",
      "metadata": {
        "run_control": {
          "frozen": false,
          "read_only": false
        },
        "id": "Wfqw_cdJbxYi"
      },
      "source": [
        "MinC_CdfaOdd1sORCends01 = min_dfa(C_CdfaOdd1sORCends01)"
      ],
      "execution_count": null,
      "outputs": []
    },
    {
      "cell_type": "markdown",
      "metadata": {
        "run_control": {
          "frozen": false,
          "read_only": false
        },
        "id": "sLPVULqUbxYi"
      },
      "source": [
        "## Minimized Comp(CdfaOdd1s OR Cends01)\n",
        "\n",
        "This will now pass the isomorphism check, below\n"
      ]
    },
    {
      "cell_type": "code",
      "metadata": {
        "run_control": {
          "frozen": false,
          "read_only": false
        },
        "id": "AKzUBC9TbxYi"
      },
      "source": [
        "dotObj_dfa(MinC_CdfaOdd1sORCends01)"
      ],
      "execution_count": null,
      "outputs": []
    },
    {
      "cell_type": "markdown",
      "metadata": {
        "run_control": {
          "frozen": false,
          "read_only": false
        },
        "id": "guRPzWKObxYj"
      },
      "source": [
        "## DeMorgan's Law works for DFA !!\n",
        "\n",
        "The same machine, when obtained through two routes, turn out to be isomorphic when minimized\n"
      ]
    },
    {
      "cell_type": "code",
      "metadata": {
        "run_control": {
          "frozen": false,
          "read_only": false
        },
        "id": "67zgDNcbbxYj"
      },
      "source": [
        "iso_dfa(MinC_CdfaOdd1sORCends01, Minodd1sANDends01)"
      ],
      "execution_count": null,
      "outputs": []
    },
    {
      "cell_type": "markdown",
      "metadata": {
        "run_control": {
          "frozen": false,
          "read_only": false
        },
        "id": "ZG4UriJ6bxYj"
      },
      "source": [
        "# These are some examples from the book"
      ]
    },
    {
      "cell_type": "code",
      "metadata": {
        "run_control": {
          "frozen": false,
          "read_only": false
        },
        "id": "ZuFYZHh7bxYj"
      },
      "source": [
        "blimp = md2mc('''\n",
        "DFA \n",
        "I1 : a -> F2\n",
        "I1 : b -> F3\n",
        "F2 : a -> S8\n",
        "F2 : b -> S5\n",
        "F3 : a -> S7\n",
        "F3 : b -> S4\n",
        "S4 : a | b -> F6\n",
        "S5 : a | b -> F6\n",
        "F6 : a | b -> F6\n",
        "S7 : a | b -> F6\n",
        "S8 : a -> F6\n",
        "S8 : b -> F9\n",
        "F9 : a -> F9\n",
        "F9 : b -> F6\n",
        "''')"
      ],
      "execution_count": null,
      "outputs": []
    },
    {
      "cell_type": "code",
      "metadata": {
        "run_control": {
          "frozen": false,
          "read_only": false
        },
        "id": "3q4gxN1SbxYk"
      },
      "source": [
        "dblimp = dotObj_dfa(blimp)"
      ],
      "execution_count": null,
      "outputs": []
    },
    {
      "cell_type": "code",
      "metadata": {
        "run_control": {
          "frozen": false,
          "read_only": false
        },
        "id": "iacU4TbBbxYk"
      },
      "source": [
        "dblimp"
      ],
      "execution_count": null,
      "outputs": []
    },
    {
      "cell_type": "code",
      "metadata": {
        "run_control": {
          "frozen": false,
          "read_only": false
        },
        "id": "qFRqcCunbxYk"
      },
      "source": [
        "dblimp = dotObj_dfa(blimp, FuseEdges=True)"
      ],
      "execution_count": null,
      "outputs": []
    },
    {
      "cell_type": "code",
      "metadata": {
        "run_control": {
          "frozen": false,
          "read_only": false
        },
        "id": "ekxH9JWRbxYk"
      },
      "source": [
        "dblimp"
      ],
      "execution_count": null,
      "outputs": []
    },
    {
      "cell_type": "code",
      "metadata": {
        "run_control": {
          "frozen": false,
          "read_only": false
        },
        "id": "6gMIxbcTbxYl"
      },
      "source": [
        "mblimp = min_dfa(blimp)"
      ],
      "execution_count": null,
      "outputs": []
    },
    {
      "cell_type": "code",
      "metadata": {
        "run_control": {
          "frozen": false,
          "read_only": false
        },
        "id": "hK-PgpezbxYl"
      },
      "source": [
        "dmblimp = dotObj_dfa(mblimp)"
      ],
      "execution_count": null,
      "outputs": []
    },
    {
      "cell_type": "code",
      "metadata": {
        "run_control": {
          "frozen": false,
          "read_only": false
        },
        "id": "BqBLFd50bxYl"
      },
      "source": [
        "dmblimp"
      ],
      "execution_count": null,
      "outputs": []
    },
    {
      "cell_type": "markdown",
      "metadata": {
        "run_control": {
          "frozen": false,
          "read_only": false
        },
        "id": "hftlUFu-bxYY"
      },
      "source": [
        "\n",
        "## ASSIGNMENT 3\n",
        "\n",
        "FA1 = aa as a substring\n",
        "FA2 = Even number of a and b\n",
        "FA3 = Union of FA1 and FA2\n",
        "\n"
      ]
    },
    {
      "cell_type": "markdown",
      "metadata": {
        "id": "z-BgykuT0_i9"
      },
      "source": [
        "# FA1 and FA2 ![WhatsApp Image 2021-09-04 at 22.52.27.jpeg](data:image/jpeg;base64,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)"
      ]
    },
    {
      "cell_type": "code",
      "metadata": {
        "colab": {
          "base_uri": "https://localhost:8080/",
          "height": 205
        },
        "id": "MOclwOL5yQfb",
        "outputId": "4b952435-7aae-4c0e-b197-9bae0fa1d8e5"
      },
      "source": [
        "FA1 = md2mc('''DFA\n",
        "\n",
        "IX1 : a -> X2\n",
        "IX1 : b -> IX1\n",
        "\n",
        "X2 : b -> IX1\n",
        "X2 : a -> FX3\n",
        "\n",
        "FX3 : a -> FX3\n",
        "FX3 : b -> FX3\n",
        "\n",
        "''')\n",
        "\n",
        "dotObj_dfa(FA1)\n",
        "\n",
        "\n"
      ],
      "execution_count": 41,
      "outputs": [
        {
          "output_type": "execute_result",
          "data": {
            "text/plain": [
              "<graphviz.dot.Digraph at 0x7fb2cf362c10>"
            ],
            "image/svg+xml": "<?xml version=\"1.0\" encoding=\"UTF-8\" standalone=\"no\"?>\n<!DOCTYPE svg PUBLIC \"-//W3C//DTD SVG 1.1//EN\"\n \"http://www.w3.org/Graphics/SVG/1.1/DTD/svg11.dtd\">\n<!-- Generated by graphviz version 2.40.1 (20161225.0304)\n -->\n<!-- Title: %3 Pages: 1 -->\n<svg width=\"353pt\" height=\"138pt\"\n viewBox=\"0.00 0.00 353.09 137.90\" xmlns=\"http://www.w3.org/2000/svg\" xmlns:xlink=\"http://www.w3.org/1999/xlink\">\n<g id=\"graph0\" class=\"graph\" transform=\"scale(1 1) rotate(0) translate(4 133.895)\">\n<title>%3</title>\n<polygon fill=\"#ffffff\" stroke=\"transparent\" points=\"-4,4 -4,-133.895 349.0865,-133.895 349.0865,4 -4,4\"/>\n<!-- EMPTY -->\n<g id=\"node1\" class=\"node\">\n<title>EMPTY</title>\n</g>\n<!-- IX1 -->\n<g id=\"node3\" class=\"node\">\n<title>IX1</title>\n<ellipse fill=\"none\" stroke=\"#000000\" cx=\"116.3478\" cy=\"-31.9475\" rx=\"25.1964\" ry=\"25.1964\"/>\n<text text-anchor=\"middle\" x=\"116.3478\" y=\"-28.2475\" font-family=\"Times,serif\" font-size=\"14.00\" fill=\"#000000\">IX1</text>\n</g>\n<!-- EMPTY&#45;&gt;IX1 -->\n<g id=\"edge1\" class=\"edge\">\n<title>EMPTY&#45;&gt;IX1</title>\n<path fill=\"none\" stroke=\"#000000\" d=\"M54.2928,-31.9475C62.629,-31.9475 71.9218,-31.9475 80.7251,-31.9475\"/>\n<polygon fill=\"#000000\" stroke=\"#000000\" points=\"80.748,-35.4476 90.748,-31.9475 80.748,-28.4476 80.748,-35.4476\"/>\n</g>\n<!-- X2 -->\n<g id=\"node2\" class=\"node\">\n<title>X2</title>\n<ellipse fill=\"none\" stroke=\"#000000\" cx=\"212.4435\" cy=\"-31.9475\" rx=\"22.9987\" ry=\"22.9987\"/>\n<text text-anchor=\"middle\" x=\"212.4435\" y=\"-28.2475\" font-family=\"Times,serif\" font-size=\"14.00\" fill=\"#000000\">X2</text>\n</g>\n<!-- X2&#45;&gt;IX1 -->\n<g id=\"edge4\" class=\"edge\">\n<title>X2&#45;&gt;IX1</title>\n<path fill=\"none\" stroke=\"#000000\" d=\"M192.3327,-20.4589C185.9408,-17.3927 178.7064,-14.5017 171.6955,-12.9475 163.7451,-11.1851 155.3472,-12.389 147.5615,-14.8745\"/>\n<polygon fill=\"#000000\" stroke=\"#000000\" points=\"146.1392,-11.6727 138.1068,-18.5814 148.6944,-18.1897 146.1392,-11.6727\"/>\n<text text-anchor=\"middle\" x=\"165.6955\" y=\"-16.7475\" font-family=\"Times,serif\" font-size=\"14.00\" fill=\"#000000\">b </text>\n</g>\n<!-- FX3 -->\n<g id=\"node4\" class=\"node\">\n<title>FX3</title>\n<ellipse fill=\"none\" stroke=\"#000000\" cx=\"313.139\" cy=\"-31.9475\" rx=\"27.9017\" ry=\"27.9017\"/>\n<ellipse fill=\"none\" stroke=\"#000000\" cx=\"313.139\" cy=\"-31.9475\" rx=\"31.8951\" ry=\"31.8951\"/>\n<text text-anchor=\"middle\" x=\"313.139\" y=\"-28.2475\" font-family=\"Times,serif\" font-size=\"14.00\" fill=\"#000000\">FX3</text>\n</g>\n<!-- X2&#45;&gt;FX3 -->\n<g id=\"edge5\" class=\"edge\">\n<title>X2&#45;&gt;FX3</title>\n<path fill=\"none\" stroke=\"#000000\" d=\"M235.2929,-31.9475C245.8101,-31.9475 258.6366,-31.9475 270.8194,-31.9475\"/>\n<polygon fill=\"#000000\" stroke=\"#000000\" points=\"270.8368,-35.4476 280.8368,-31.9475 270.8368,-28.4476 270.8368,-35.4476\"/>\n<text text-anchor=\"middle\" x=\"258.1915\" y=\"-35.7475\" font-family=\"Times,serif\" font-size=\"14.00\" fill=\"#000000\">a </text>\n</g>\n<!-- IX1&#45;&gt;X2 -->\n<g id=\"edge2\" class=\"edge\">\n<title>IX1&#45;&gt;X2</title>\n<path fill=\"none\" stroke=\"#000000\" d=\"M141.8474,-31.9475C153.2868,-31.9475 166.9317,-31.9475 179.1625,-31.9475\"/>\n<polygon fill=\"#000000\" stroke=\"#000000\" points=\"179.4558,-35.4476 189.4557,-31.9475 179.4557,-28.4476 179.4558,-35.4476\"/>\n<text text-anchor=\"middle\" x=\"165.6955\" y=\"-35.7475\" font-family=\"Times,serif\" font-size=\"14.00\" fill=\"#000000\">a </text>\n</g>\n<!-- IX1&#45;&gt;IX1 -->\n<g id=\"edge3\" class=\"edge\">\n<title>IX1&#45;&gt;IX1</title>\n<path fill=\"none\" stroke=\"#000000\" d=\"M108.542,-56.4568C108.0036,-66.6525 110.6056,-75.2953 116.3478,-75.2953 120.0263,-75.2953 122.4162,-71.7483 123.5172,-66.5183\"/>\n<polygon fill=\"#000000\" stroke=\"#000000\" points=\"127.0153,-66.6578 124.1535,-56.4568 120.0293,-66.2159 127.0153,-66.6578\"/>\n<text text-anchor=\"middle\" x=\"116.3478\" y=\"-79.0953\" font-family=\"Times,serif\" font-size=\"14.00\" fill=\"#000000\">b </text>\n</g>\n<!-- FX3&#45;&gt;FX3 -->\n<g id=\"edge6\" class=\"edge\">\n<title>FX3&#45;&gt;FX3</title>\n<path fill=\"none\" stroke=\"#000000\" d=\"M308.0777,-63.6509C308.1296,-73.8286 309.8167,-81.895 313.139,-81.895 315.2154,-81.895 316.6531,-78.7441 317.452,-73.8961\"/>\n<polygon fill=\"#000000\" stroke=\"#000000\" points=\"320.9625,-73.8793 318.2002,-63.6509 313.9811,-73.3694 320.9625,-73.8793\"/>\n<text text-anchor=\"middle\" x=\"313.139\" y=\"-85.695\" font-family=\"Times,serif\" font-size=\"14.00\" fill=\"#000000\">a </text>\n</g>\n<!-- FX3&#45;&gt;FX3 -->\n<g id=\"edge7\" class=\"edge\">\n<title>FX3&#45;&gt;FX3</title>\n<path fill=\"none\" stroke=\"#000000\" d=\"M303.7284,-62.6943C301.4591,-81.7552 304.596,-99.895 313.139,-99.895 320.1469,-99.895 323.517,-87.6885 323.2492,-72.7802\"/>\n<polygon fill=\"#000000\" stroke=\"#000000\" points=\"326.7333,-72.4281 322.5496,-62.6943 319.7501,-72.9125 326.7333,-72.4281\"/>\n<text text-anchor=\"middle\" x=\"313.139\" y=\"-103.695\" font-family=\"Times,serif\" font-size=\"14.00\" fill=\"#000000\">b </text>\n</g>\n</g>\n</svg>\n"
          },
          "metadata": {},
          "execution_count": 41
        }
      ]
    },
    {
      "cell_type": "code",
      "metadata": {
        "colab": {
          "base_uri": "https://localhost:8080/",
          "height": 168
        },
        "id": "eYf1BgiPzj1L",
        "outputId": "92433c6b-90bf-4813-be16-67b7606bc367"
      },
      "source": [
        "FA2 = md2mc('''DFA\n",
        "\n",
        "IFY1 : a -> Y2\n",
        "Y2 : a -> IFY1\n",
        "\n",
        "Y2 : b -> Y4\n",
        "Y4 : b -> Y2\n",
        "\n",
        "Y4 : a -> Y3\n",
        "Y3 : a -> Y4\n",
        "\n",
        "Y3 : b -> IFY1\n",
        "IFY1 : b -> Y3\n",
        "\n",
        "''')\n",
        "\n",
        "dotObj_dfa(FA2)"
      ],
      "execution_count": 42,
      "outputs": [
        {
          "output_type": "execute_result",
          "data": {
            "text/plain": [
              "<graphviz.dot.Digraph at 0x7fb2cf549150>"
            ],
            "image/svg+xml": "<?xml version=\"1.0\" encoding=\"UTF-8\" standalone=\"no\"?>\n<!DOCTYPE svg PUBLIC \"-//W3C//DTD SVG 1.1//EN\"\n \"http://www.w3.org/Graphics/SVG/1.1/DTD/svg11.dtd\">\n<!-- Generated by graphviz version 2.40.1 (20161225.0304)\n -->\n<!-- Title: %3 Pages: 1 -->\n<svg width=\"447pt\" height=\"110pt\"\n viewBox=\"0.00 0.00 446.58 110.30\" xmlns=\"http://www.w3.org/2000/svg\" xmlns:xlink=\"http://www.w3.org/1999/xlink\">\n<g id=\"graph0\" class=\"graph\" transform=\"scale(1 1) rotate(0) translate(4 106.2953)\">\n<title>%3</title>\n<polygon fill=\"#ffffff\" stroke=\"transparent\" points=\"-4,4 -4,-106.2953 442.5825,-106.2953 442.5825,4 -4,4\"/>\n<!-- EMPTY -->\n<g id=\"node1\" class=\"node\">\n<title>EMPTY</title>\n</g>\n<!-- IFY1 -->\n<g id=\"node5\" class=\"node\">\n<title>IFY1</title>\n<ellipse fill=\"none\" stroke=\"#000000\" cx=\"125.5473\" cy=\"-34.5473\" rx=\"30.5892\" ry=\"30.5892\"/>\n<ellipse fill=\"none\" stroke=\"#000000\" cx=\"125.5473\" cy=\"-34.5473\" rx=\"34.5946\" ry=\"34.5946\"/>\n<text text-anchor=\"middle\" x=\"125.5473\" y=\"-30.8473\" font-family=\"Times,serif\" font-size=\"14.00\" fill=\"#000000\">IFY1</text>\n</g>\n<!-- EMPTY&#45;&gt;IFY1 -->\n<g id=\"edge1\" class=\"edge\">\n<title>EMPTY&#45;&gt;IFY1</title>\n<path fill=\"none\" stroke=\"#000000\" d=\"M54.1893,-34.5473C62.3852,-34.5473 71.6089,-34.5473 80.6358,-34.5473\"/>\n<polygon fill=\"#000000\" stroke=\"#000000\" points=\"80.6786,-38.0474 90.6786,-34.5473 80.6786,-31.0474 80.6786,-38.0474\"/>\n</g>\n<!-- Y3 -->\n<g id=\"node2\" class=\"node\">\n<title>Y3</title>\n<ellipse fill=\"none\" stroke=\"#000000\" cx=\"230.8426\" cy=\"-79.5473\" rx=\"22.9987\" ry=\"22.9987\"/>\n<text text-anchor=\"middle\" x=\"230.8426\" y=\"-75.8473\" font-family=\"Times,serif\" font-size=\"14.00\" fill=\"#000000\">Y3</text>\n</g>\n<!-- Y4 -->\n<g id=\"node4\" class=\"node\">\n<title>Y4</title>\n<ellipse fill=\"none\" stroke=\"#000000\" cx=\"322.3385\" cy=\"-79.5473\" rx=\"22.9987\" ry=\"22.9987\"/>\n<text text-anchor=\"middle\" x=\"322.3385\" y=\"-75.8473\" font-family=\"Times,serif\" font-size=\"14.00\" fill=\"#000000\">Y4</text>\n</g>\n<!-- Y3&#45;&gt;Y4 -->\n<g id=\"edge7\" class=\"edge\">\n<title>Y3&#45;&gt;Y4</title>\n<path fill=\"none\" stroke=\"#000000\" d=\"M253.9309,-79.5473C264.6312,-79.5473 277.5443,-79.5473 289.2554,-79.5473\"/>\n<polygon fill=\"#000000\" stroke=\"#000000\" points=\"289.5746,-83.0474 299.5746,-79.5473 289.5745,-76.0474 289.5746,-83.0474\"/>\n<text text-anchor=\"middle\" x=\"276.5905\" y=\"-83.3473\" font-family=\"Times,serif\" font-size=\"14.00\" fill=\"#000000\">a </text>\n</g>\n<!-- Y3&#45;&gt;IFY1 -->\n<g id=\"edge8\" class=\"edge\">\n<title>Y3&#45;&gt;IFY1</title>\n<path fill=\"none\" stroke=\"#000000\" d=\"M212.4889,-65.6171C205.7196,-60.9653 197.8134,-56.074 190.0946,-52.5473 183.4745,-49.5226 176.2351,-46.9013 169.0745,-44.6668\"/>\n<polygon fill=\"#000000\" stroke=\"#000000\" points=\"170.004,-41.2922 159.4243,-41.858 168.0477,-48.0133 170.004,-41.2922\"/>\n<text text-anchor=\"middle\" x=\"184.0946\" y=\"-56.3473\" font-family=\"Times,serif\" font-size=\"14.00\" fill=\"#000000\">b </text>\n</g>\n<!-- Y2 -->\n<g id=\"node3\" class=\"node\">\n<title>Y2</title>\n<ellipse fill=\"none\" stroke=\"#000000\" cx=\"415.8345\" cy=\"-34.5473\" rx=\"22.9987\" ry=\"22.9987\"/>\n<text text-anchor=\"middle\" x=\"415.8345\" y=\"-30.8473\" font-family=\"Times,serif\" font-size=\"14.00\" fill=\"#000000\">Y2</text>\n</g>\n<!-- Y2&#45;&gt;Y4 -->\n<g id=\"edge4\" class=\"edge\">\n<title>Y2&#45;&gt;Y4</title>\n<path fill=\"none\" stroke=\"#000000\" d=\"M393.7723,-40.6866C384.1235,-43.7219 372.8116,-47.765 363.0865,-52.5473 358.4459,-54.8293 353.7057,-57.5548 349.1762,-60.3833\"/>\n<polygon fill=\"#000000\" stroke=\"#000000\" points=\"347.2583,-57.4555 340.8074,-65.8601 351.0915,-63.3127 347.2583,-57.4555\"/>\n<text text-anchor=\"middle\" x=\"369.0865\" y=\"-56.3473\" font-family=\"Times,serif\" font-size=\"14.00\" fill=\"#000000\">b </text>\n</g>\n<!-- Y2&#45;&gt;IFY1 -->\n<g id=\"edge3\" class=\"edge\">\n<title>Y2&#45;&gt;IFY1</title>\n<path fill=\"none\" stroke=\"#000000\" d=\"M393.1354,-30.3401C366.5244,-25.6396 321.0376,-18.325 281.5905,-15.5473 243.5574,-12.8692 200.5628,-18.7727 169.3492,-24.689\"/>\n<polygon fill=\"#000000\" stroke=\"#000000\" points=\"168.3729,-21.314 159.2395,-26.6835 169.7279,-28.1817 168.3729,-21.314\"/>\n<text text-anchor=\"middle\" x=\"276.5905\" y=\"-19.3473\" font-family=\"Times,serif\" font-size=\"14.00\" fill=\"#000000\">a </text>\n</g>\n<!-- Y4&#45;&gt;Y3 -->\n<g id=\"edge6\" class=\"edge\">\n<title>Y4&#45;&gt;Y3</title>\n<path fill=\"none\" stroke=\"#000000\" d=\"M301.6359,-69.6942C295.3428,-67.1747 288.3113,-64.8195 281.5905,-63.5473 274.6383,-62.2313 267.3034,-63.135 260.4372,-65.0481\"/>\n<polygon fill=\"#000000\" stroke=\"#000000\" points=\"259.0849,-61.8134 250.8118,-68.4321 261.4066,-68.4172 259.0849,-61.8134\"/>\n<text text-anchor=\"middle\" x=\"276.5905\" y=\"-67.3473\" font-family=\"Times,serif\" font-size=\"14.00\" fill=\"#000000\">a </text>\n</g>\n<!-- Y4&#45;&gt;Y2 -->\n<g id=\"edge5\" class=\"edge\">\n<title>Y4&#45;&gt;Y2</title>\n<path fill=\"none\" stroke=\"#000000\" d=\"M345.1719,-76.6947C354.7484,-74.9117 365.7941,-72.0613 375.0865,-67.5473 380.8899,-64.7281 386.6032,-60.9405 391.8315,-56.9368\"/>\n<polygon fill=\"#000000\" stroke=\"#000000\" points=\"394.0766,-59.6221 399.5912,-50.5756 389.6388,-54.2086 394.0766,-59.6221\"/>\n<text text-anchor=\"middle\" x=\"369.0865\" y=\"-75.3473\" font-family=\"Times,serif\" font-size=\"14.00\" fill=\"#000000\">b </text>\n</g>\n<!-- IFY1&#45;&gt;Y3 -->\n<g id=\"edge9\" class=\"edge\">\n<title>IFY1&#45;&gt;Y3</title>\n<path fill=\"none\" stroke=\"#000000\" d=\"M153.7857,-54.7075C161.404,-59.4591 169.8323,-64.1295 178.0946,-67.5473 184.5085,-70.2004 191.6154,-72.3218 198.4805,-73.9974\"/>\n<polygon fill=\"#000000\" stroke=\"#000000\" points=\"197.7391,-77.4179 208.2569,-76.1432 199.2398,-70.5806 197.7391,-77.4179\"/>\n<text text-anchor=\"middle\" x=\"184.0946\" y=\"-74.3473\" font-family=\"Times,serif\" font-size=\"14.00\" fill=\"#000000\">b </text>\n</g>\n<!-- IFY1&#45;&gt;Y2 -->\n<g id=\"edge2\" class=\"edge\">\n<title>IFY1&#45;&gt;Y2</title>\n<path fill=\"none\" stroke=\"#000000\" d=\"M160.2744,-34.5473C216.5675,-34.5473 327.0147,-34.5473 382.4398,-34.5473\"/>\n<polygon fill=\"#000000\" stroke=\"#000000\" points=\"382.7589,-38.0474 392.7588,-34.5473 382.7588,-31.0474 382.7589,-38.0474\"/>\n<text text-anchor=\"middle\" x=\"276.5905\" y=\"-38.3473\" font-family=\"Times,serif\" font-size=\"14.00\" fill=\"#000000\">a </text>\n</g>\n</g>\n</svg>\n"
          },
          "metadata": {},
          "execution_count": 42
        }
      ]
    },
    {
      "cell_type": "markdown",
      "metadata": {
        "id": "N_eBwyh82kF0"
      },
      "source": [
        "Transition table of FA3 ![WhatsApp Image 2021-09-04 at 22.58.55.jpeg](data:image/jpeg;base64,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)"
      ]
    },
    {
      "cell_type": "markdown",
      "metadata": {
        "id": "TMMvnaXB2T9G"
      },
      "source": [
        "Union of FA1 and FA2 -> FA3 ![WhatsApp Image 2021-09-04 at 22.53.05.jpeg](data:image/jpeg;base64,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)"
      ]
    },
    {
      "cell_type": "code",
      "metadata": {
        "colab": {
          "base_uri": "https://localhost:8080/",
          "height": 613
        },
        "id": "R9VWk3Nwzuqf",
        "outputId": "d91d980c-0399-4ffc-d9a0-14b3f23a5c29"
      },
      "source": [
        "FA3 = union_dfa(FA1,FA2)\n",
        "dotObj_dfa(FA3)"
      ],
      "execution_count": 43,
      "outputs": [
        {
          "output_type": "execute_result",
          "data": {
            "text/plain": [
              "<graphviz.dot.Digraph at 0x7fb2cf360b50>"
            ],
            "image/svg+xml": "<?xml version=\"1.0\" encoding=\"UTF-8\" standalone=\"no\"?>\n<!DOCTYPE svg PUBLIC \"-//W3C//DTD SVG 1.1//EN\"\n \"http://www.w3.org/Graphics/SVG/1.1/DTD/svg11.dtd\">\n<!-- Generated by graphviz version 2.40.1 (20161225.0304)\n -->\n<!-- Title: %3 Pages: 1 -->\n<svg width=\"1576pt\" height=\"429pt\"\n viewBox=\"0.00 0.00 1576.41 428.85\" xmlns=\"http://www.w3.org/2000/svg\" xmlns:xlink=\"http://www.w3.org/1999/xlink\">\n<g id=\"graph0\" class=\"graph\" transform=\"scale(1 1) rotate(0) translate(4 424.846)\">\n<title>%3</title>\n<polygon fill=\"#ffffff\" stroke=\"transparent\" points=\"-4,4 -4,-424.846 1572.4106,-424.846 1572.4106,4 -4,4\"/>\n<!-- EMPTY -->\n<g id=\"node1\" class=\"node\">\n<title>EMPTY</title>\n</g>\n<!-- \\(IX1_IFY1\\) -->\n<g id=\"node11\" class=\"node\">\n<title>\\(IX1_IFY1\\)</title>\n<ellipse fill=\"none\" stroke=\"#000000\" cx=\"150.895\" cy=\"-142\" rx=\"55.7973\" ry=\"55.7973\"/>\n<ellipse fill=\"none\" stroke=\"#000000\" cx=\"150.895\" cy=\"-142\" rx=\"59.7903\" ry=\"59.7903\"/>\n<text text-anchor=\"middle\" x=\"150.895\" y=\"-138.3\" font-family=\"Times,serif\" font-size=\"14.00\" fill=\"#000000\">(IX1_IFY1)</text>\n</g>\n<!-- EMPTY&#45;&gt;\\(IX1_IFY1\\) -->\n<g id=\"edge1\" class=\"edge\">\n<title>EMPTY&#45;&gt;\\(IX1_IFY1\\)</title>\n<path fill=\"none\" stroke=\"#000000\" d=\"M54.1893,-142C62.1405,-142 71.2213,-142 80.5612,-142\"/>\n<polygon fill=\"#000000\" stroke=\"#000000\" points=\"80.7565,-145.5001 90.7565,-142 80.7565,-138.5001 80.7565,-145.5001\"/>\n</g>\n<!-- \\(IX1_Y3\\) -->\n<g id=\"node2\" class=\"node\">\n<title>\\(IX1_Y3\\)</title>\n<ellipse fill=\"none\" stroke=\"#000000\" cx=\"306.8858\" cy=\"-142\" rx=\"48.1917\" ry=\"48.1917\"/>\n<text text-anchor=\"middle\" x=\"306.8858\" y=\"-138.3\" font-family=\"Times,serif\" font-size=\"14.00\" fill=\"#000000\">(IX1_Y3)</text>\n</g>\n<!-- \\(X2_Y4\\) -->\n<g id=\"node3\" class=\"node\">\n<title>\\(X2_Y4\\)</title>\n<ellipse fill=\"none\" stroke=\"#000000\" cx=\"445.8276\" cy=\"-195\" rx=\"44.6926\" ry=\"44.6926\"/>\n<text text-anchor=\"middle\" x=\"445.8276\" y=\"-191.3\" font-family=\"Times,serif\" font-size=\"14.00\" fill=\"#000000\">(X2_Y4)</text>\n</g>\n<!-- \\(IX1_Y3\\)&#45;&gt;\\(X2_Y4\\) -->\n<g id=\"edge17\" class=\"edge\">\n<title>\\(IX1_Y3\\)&#45;&gt;\\(X2_Y4\\)</title>\n<path fill=\"none\" stroke=\"#000000\" d=\"M351.9962,-159.2076C365.5163,-164.3649 380.4458,-170.0598 394.3438,-175.3613\"/>\n<polygon fill=\"#000000\" stroke=\"#000000\" points=\"393.18,-178.6633 403.7708,-178.9572 395.6749,-172.123 393.18,-178.6633\"/>\n<text text-anchor=\"middle\" x=\"377.9815\" y=\"-174.8\" font-family=\"Times,serif\" font-size=\"14.00\" fill=\"#000000\">a </text>\n</g>\n<!-- \\(IX1_Y3\\)&#45;&gt;\\(IX1_IFY1\\) -->\n<g id=\"edge14\" class=\"edge\">\n<title>\\(IX1_Y3\\)&#45;&gt;\\(IX1_IFY1\\)</title>\n<path fill=\"none\" stroke=\"#000000\" d=\"M260.6221,-127.739C254.0218,-126.1923 247.2734,-124.867 240.7901,-124 233.5232,-123.0282 225.961,-122.9889 218.4451,-123.5779\"/>\n<polygon fill=\"#000000\" stroke=\"#000000\" points=\"217.7948,-120.1293 208.2568,-124.7421 218.5895,-127.0841 217.7948,-120.1293\"/>\n<text text-anchor=\"middle\" x=\"234.7901\" y=\"-127.8\" font-family=\"Times,serif\" font-size=\"14.00\" fill=\"#000000\">b </text>\n</g>\n<!-- \\(IX1_Y2\\) -->\n<g id=\"node6\" class=\"node\">\n<title>\\(IX1_Y2\\)</title>\n<ellipse fill=\"none\" stroke=\"#000000\" cx=\"586.7693\" cy=\"-195\" rx=\"48.1917\" ry=\"48.1917\"/>\n<text text-anchor=\"middle\" x=\"586.7693\" y=\"-191.3\" font-family=\"Times,serif\" font-size=\"14.00\" fill=\"#000000\">(IX1_Y2)</text>\n</g>\n<!-- \\(X2_Y4\\)&#45;&gt;\\(IX1_Y2\\) -->\n<g id=\"edge6\" class=\"edge\">\n<title>\\(X2_Y4\\)&#45;&gt;\\(IX1_Y2\\)</title>\n<path fill=\"none\" stroke=\"#000000\" d=\"M490.8099,-195C502.6424,-195 515.5829,-195 528.022,-195\"/>\n<polygon fill=\"#000000\" stroke=\"#000000\" points=\"528.3176,-198.5001 538.3176,-195 528.3175,-191.5001 528.3176,-198.5001\"/>\n<text text-anchor=\"middle\" x=\"514.6736\" y=\"-198.8\" font-family=\"Times,serif\" font-size=\"14.00\" fill=\"#000000\">b </text>\n</g>\n<!-- \\(FX3_Y3\\) -->\n<g id=\"node9\" class=\"node\">\n<title>\\(FX3_Y3\\)</title>\n<ellipse fill=\"none\" stroke=\"#000000\" cx=\"1187.2843\" cy=\"-290\" rx=\"50.0878\" ry=\"50.0878\"/>\n<ellipse fill=\"none\" stroke=\"#000000\" cx=\"1187.2843\" cy=\"-290\" rx=\"54.0912\" ry=\"54.0912\"/>\n<text text-anchor=\"middle\" x=\"1187.2843\" y=\"-286.3\" font-family=\"Times,serif\" font-size=\"14.00\" fill=\"#000000\">(FX3_Y3)</text>\n</g>\n<!-- \\(X2_Y4\\)&#45;&gt;\\(FX3_Y3\\) -->\n<g id=\"edge7\" class=\"edge\">\n<title>\\(X2_Y4\\)&#45;&gt;\\(FX3_Y3\\)</title>\n<path fill=\"none\" stroke=\"#000000\" d=\"M483.1614,-220.5403C499.6987,-231.1567 519.6771,-243.0603 538.6736,-252 654.2845,-306.4064 692.6826,-309 820.4556,-309 820.4556,-309 820.4556,-309 1033.1932,-309 1063.2012,-309 1096.2509,-305.4068 1124.0218,-301.3456\"/>\n<polygon fill=\"#000000\" stroke=\"#000000\" points=\"1124.6361,-304.7925 1133.9989,-299.8339 1123.5874,-297.8715 1124.6361,-304.7925\"/>\n<text text-anchor=\"middle\" x=\"820.4556\" y=\"-312.8\" font-family=\"Times,serif\" font-size=\"14.00\" fill=\"#000000\">a </text>\n</g>\n<!-- \\(IX1_Y4\\) -->\n<g id=\"node4\" class=\"node\">\n<title>\\(IX1_Y4\\)</title>\n<ellipse fill=\"none\" stroke=\"#000000\" cx=\"740.1603\" cy=\"-233\" rx=\"48.1917\" ry=\"48.1917\"/>\n<text text-anchor=\"middle\" x=\"740.1603\" y=\"-229.3\" font-family=\"Times,serif\" font-size=\"14.00\" fill=\"#000000\">(IX1_Y4)</text>\n</g>\n<!-- \\(IX1_Y4\\)&#45;&gt;\\(IX1_Y2\\) -->\n<g id=\"edge8\" class=\"edge\">\n<title>\\(IX1_Y4\\)&#45;&gt;\\(IX1_Y2\\)</title>\n<path fill=\"none\" stroke=\"#000000\" d=\"M693.3273,-221.3979C677.6425,-217.5123 659.983,-213.1374 643.6181,-209.0833\"/>\n<polygon fill=\"#000000\" stroke=\"#000000\" points=\"644.1734,-205.6151 633.6252,-206.6077 642.4901,-212.4098 644.1734,-205.6151\"/>\n<text text-anchor=\"middle\" x=\"658.8651\" y=\"-217.8\" font-family=\"Times,serif\" font-size=\"14.00\" fill=\"#000000\">b </text>\n</g>\n<!-- \\(X2_Y3\\) -->\n<g id=\"node7\" class=\"node\">\n<title>\\(X2_Y3\\)</title>\n<ellipse fill=\"none\" stroke=\"#000000\" cx=\"888.3016\" cy=\"-218\" rx=\"44.6926\" ry=\"44.6926\"/>\n<text text-anchor=\"middle\" x=\"888.3016\" y=\"-214.3\" font-family=\"Times,serif\" font-size=\"14.00\" fill=\"#000000\">(X2_Y3)</text>\n</g>\n<!-- \\(IX1_Y4\\)&#45;&gt;\\(X2_Y3\\) -->\n<g id=\"edge23\" class=\"edge\">\n<title>\\(IX1_Y4\\)&#45;&gt;\\(X2_Y3\\)</title>\n<path fill=\"none\" stroke=\"#000000\" d=\"M788.2576,-228.1299C802.6728,-226.6703 818.5908,-225.0585 833.4091,-223.5581\"/>\n<polygon fill=\"#000000\" stroke=\"#000000\" points=\"833.8637,-227.0301 843.4602,-222.5404 833.1584,-220.0657 833.8637,-227.0301\"/>\n<text text-anchor=\"middle\" x=\"820.4556\" y=\"-228.8\" font-family=\"Times,serif\" font-size=\"14.00\" fill=\"#000000\">a </text>\n</g>\n<!-- \\(X2_Y2\\) -->\n<g id=\"node5\" class=\"node\">\n<title>\\(X2_Y2\\)</title>\n<ellipse fill=\"none\" stroke=\"#000000\" cx=\"586.7693\" cy=\"-376\" rx=\"44.6926\" ry=\"44.6926\"/>\n<text text-anchor=\"middle\" x=\"586.7693\" y=\"-372.3\" font-family=\"Times,serif\" font-size=\"14.00\" fill=\"#000000\">(X2_Y2)</text>\n</g>\n<!-- \\(X2_Y2\\)&#45;&gt;\\(IX1_Y4\\) -->\n<g id=\"edge4\" class=\"edge\">\n<title>\\(X2_Y2\\)&#45;&gt;\\(IX1_Y4\\)</title>\n<path fill=\"none\" stroke=\"#000000\" d=\"M619.6755,-345.3229C642.412,-324.1266 672.8698,-295.7321 697.473,-272.7956\"/>\n<polygon fill=\"#000000\" stroke=\"#000000\" points=\"699.9776,-275.2458 704.9054,-265.8667 695.2043,-270.1256 699.9776,-275.2458\"/>\n<text text-anchor=\"middle\" x=\"658.8651\" y=\"-316.8\" font-family=\"Times,serif\" font-size=\"14.00\" fill=\"#000000\">b </text>\n</g>\n<!-- \\(FX3_IFY1\\) -->\n<g id=\"node13\" class=\"node\">\n<title>\\(FX3_IFY1\\)</title>\n<ellipse fill=\"none\" stroke=\"#000000\" cx=\"1351.8247\" cy=\"-298\" rx=\"58.49\" ry=\"58.49\"/>\n<ellipse fill=\"none\" stroke=\"#000000\" cx=\"1351.8247\" cy=\"-298\" rx=\"62.4896\" ry=\"62.4896\"/>\n<text text-anchor=\"middle\" x=\"1351.8247\" y=\"-294.3\" font-family=\"Times,serif\" font-size=\"14.00\" fill=\"#000000\">(FX3_IFY1)</text>\n</g>\n<!-- \\(X2_Y2\\)&#45;&gt;\\(FX3_IFY1\\) -->\n<g id=\"edge3\" class=\"edge\">\n<title>\\(X2_Y2\\)&#45;&gt;\\(FX3_IFY1\\)</title>\n<path fill=\"none\" stroke=\"#000000\" d=\"M631.7386,-375.5526C662.3112,-375.2864 703.6759,-375 740.1603,-375 740.1603,-375 740.1603,-375 1187.2843,-375 1224.7452,-375 1262.8646,-358.4246 1292.9675,-340.6547\"/>\n<polygon fill=\"#000000\" stroke=\"#000000\" points=\"1294.92,-343.5636 1301.6394,-335.3722 1291.2783,-337.5854 1294.92,-343.5636\"/>\n<text text-anchor=\"middle\" x=\"956.1476\" y=\"-378.8\" font-family=\"Times,serif\" font-size=\"14.00\" fill=\"#000000\">a </text>\n</g>\n<!-- \\(IX1_Y2\\)&#45;&gt;\\(IX1_Y4\\) -->\n<g id=\"edge20\" class=\"edge\">\n<title>\\(IX1_Y2\\)&#45;&gt;\\(IX1_Y4\\)</title>\n<path fill=\"none\" stroke=\"#000000\" d=\"M634.7081,-189.7259C644.7796,-189.7407 655.2579,-190.6065 664.8651,-193 673.4224,-195.1319 682.0748,-198.438 690.3145,-202.2563\"/>\n<polygon fill=\"#000000\" stroke=\"#000000\" points=\"688.8989,-205.4607 699.4151,-206.7495 691.998,-199.184 688.8989,-205.4607\"/>\n<text text-anchor=\"middle\" x=\"658.8651\" y=\"-196.8\" font-family=\"Times,serif\" font-size=\"14.00\" fill=\"#000000\">b </text>\n</g>\n<!-- \\(X2_IFY1\\) -->\n<g id=\"node12\" class=\"node\">\n<title>\\(X2_IFY1\\)</title>\n<ellipse fill=\"none\" stroke=\"#000000\" cx=\"740.1603\" cy=\"-110\" rx=\"53.1055\" ry=\"53.1055\"/>\n<ellipse fill=\"none\" stroke=\"#000000\" cx=\"740.1603\" cy=\"-110\" rx=\"57.0913\" ry=\"57.0913\"/>\n<text text-anchor=\"middle\" x=\"740.1603\" y=\"-106.3\" font-family=\"Times,serif\" font-size=\"14.00\" fill=\"#000000\">(X2_IFY1)</text>\n</g>\n<!-- \\(IX1_Y2\\)&#45;&gt;\\(X2_IFY1\\) -->\n<g id=\"edge5\" class=\"edge\">\n<title>\\(IX1_Y2\\)&#45;&gt;\\(X2_IFY1\\)</title>\n<path fill=\"none\" stroke=\"#000000\" d=\"M629.0901,-171.5484C645.0992,-162.6771 663.6276,-152.4098 680.9085,-142.8338\"/>\n<polygon fill=\"#000000\" stroke=\"#000000\" points=\"682.7612,-145.8086 689.8116,-137.9002 679.3683,-139.6858 682.7612,-145.8086\"/>\n<text text-anchor=\"middle\" x=\"658.8651\" y=\"-161.8\" font-family=\"Times,serif\" font-size=\"14.00\" fill=\"#000000\">a </text>\n</g>\n<!-- \\(FX3_Y4\\) -->\n<g id=\"node8\" class=\"node\">\n<title>\\(FX3_Y4\\)</title>\n<ellipse fill=\"none\" stroke=\"#000000\" cx=\"1033.1932\" cy=\"-218\" rx=\"50.0878\" ry=\"50.0878\"/>\n<ellipse fill=\"none\" stroke=\"#000000\" cx=\"1033.1932\" cy=\"-218\" rx=\"54.0912\" ry=\"54.0912\"/>\n<text text-anchor=\"middle\" x=\"1033.1932\" y=\"-214.3\" font-family=\"Times,serif\" font-size=\"14.00\" fill=\"#000000\">(FX3_Y4)</text>\n</g>\n<!-- \\(X2_Y3\\)&#45;&gt;\\(FX3_Y4\\) -->\n<g id=\"edge13\" class=\"edge\">\n<title>\\(X2_Y3\\)&#45;&gt;\\(FX3_Y4\\)</title>\n<path fill=\"none\" stroke=\"#000000\" d=\"M933.352,-218C944.6447,-218 956.9789,-218 969.0055,-218\"/>\n<polygon fill=\"#000000\" stroke=\"#000000\" points=\"969.0059,-221.5001 979.0059,-218 969.0059,-214.5001 969.0059,-221.5001\"/>\n<text text-anchor=\"middle\" x=\"956.1476\" y=\"-221.8\" font-family=\"Times,serif\" font-size=\"14.00\" fill=\"#000000\">a </text>\n</g>\n<!-- \\(X2_Y3\\)&#45;&gt;\\(IX1_IFY1\\) -->\n<g id=\"edge9\" class=\"edge\">\n<title>\\(X2_Y3\\)&#45;&gt;\\(IX1_IFY1\\)</title>\n<path fill=\"none\" stroke=\"#000000\" d=\"M875.9529,-174.4813C862.6644,-135.1587 837.8171,-78.3364 797.4556,-44 777.0214,-26.6162 766.9885,-25 740.1603,-25 306.8858,-25 306.8858,-25 306.8858,-25 262.2582,-25 222.2277,-56.0257 193.8939,-86.1236\"/>\n<polygon fill=\"#000000\" stroke=\"#000000\" points=\"191.1024,-83.9903 186.9467,-93.7361 196.2729,-88.7089 191.1024,-83.9903\"/>\n<text text-anchor=\"middle\" x=\"514.6736\" y=\"-28.8\" font-family=\"Times,serif\" font-size=\"14.00\" fill=\"#000000\">b </text>\n</g>\n<!-- \\(FX3_Y4\\)&#45;&gt;\\(FX3_Y3\\) -->\n<g id=\"edge12\" class=\"edge\">\n<title>\\(FX3_Y4\\)&#45;&gt;\\(FX3_Y3\\)</title>\n<path fill=\"none\" stroke=\"#000000\" d=\"M1080.4685,-244.5788C1088.6476,-248.8921 1097.129,-253.1892 1105.2388,-257 1112.2733,-260.3056 1119.7341,-263.5943 1127.1775,-266.7436\"/>\n<polygon fill=\"#000000\" stroke=\"#000000\" points=\"1125.986,-270.0386 1136.5632,-270.6488 1128.6751,-263.5757 1125.986,-270.0386\"/>\n<text text-anchor=\"middle\" x=\"1110.2388\" y=\"-263.8\" font-family=\"Times,serif\" font-size=\"14.00\" fill=\"#000000\">a </text>\n</g>\n<!-- \\(FX3_Y2\\) -->\n<g id=\"node10\" class=\"node\">\n<title>\\(FX3_Y2\\)</title>\n<ellipse fill=\"none\" stroke=\"#000000\" cx=\"1514.3651\" cy=\"-208\" rx=\"50.0878\" ry=\"50.0878\"/>\n<ellipse fill=\"none\" stroke=\"#000000\" cx=\"1514.3651\" cy=\"-208\" rx=\"54.0912\" ry=\"54.0912\"/>\n<text text-anchor=\"middle\" x=\"1514.3651\" y=\"-204.3\" font-family=\"Times,serif\" font-size=\"14.00\" fill=\"#000000\">(FX3_Y2)</text>\n</g>\n<!-- \\(FX3_Y4\\)&#45;&gt;\\(FX3_Y2\\) -->\n<g id=\"edge15\" class=\"edge\">\n<title>\\(FX3_Y4\\)&#45;&gt;\\(FX3_Y2\\)</title>\n<path fill=\"none\" stroke=\"#000000\" d=\"M1087.4544,-216.8723C1176.8554,-215.0143 1354.7015,-211.3182 1450.1994,-209.3335\"/>\n<polygon fill=\"#000000\" stroke=\"#000000\" points=\"1450.3771,-212.8307 1460.3022,-209.1236 1450.2316,-205.8322 1450.3771,-212.8307\"/>\n<text text-anchor=\"middle\" x=\"1265.3299\" y=\"-217.8\" font-family=\"Times,serif\" font-size=\"14.00\" fill=\"#000000\">b </text>\n</g>\n<!-- \\(FX3_Y3\\)&#45;&gt;\\(FX3_Y4\\) -->\n<g id=\"edge16\" class=\"edge\">\n<title>\\(FX3_Y3\\)&#45;&gt;\\(FX3_Y4\\)</title>\n<path fill=\"none\" stroke=\"#000000\" d=\"M1145.1483,-255.5035C1135.7163,-248.971 1125.4642,-242.7162 1115.2388,-238 1109.3851,-235.3002 1103.1219,-232.9378 1096.7625,-230.8765\"/>\n<polygon fill=\"#000000\" stroke=\"#000000\" points=\"1097.3187,-227.3898 1086.7352,-227.8801 1095.3144,-234.0968 1097.3187,-227.3898\"/>\n<text text-anchor=\"middle\" x=\"1110.2388\" y=\"-241.8\" font-family=\"Times,serif\" font-size=\"14.00\" fill=\"#000000\">a </text>\n</g>\n<!-- \\(FX3_Y3\\)&#45;&gt;\\(FX3_IFY1\\) -->\n<g id=\"edge10\" class=\"edge\">\n<title>\\(FX3_Y3\\)&#45;&gt;\\(FX3_IFY1\\)</title>\n<path fill=\"none\" stroke=\"#000000\" d=\"M1241.617,-292.6417C1253.6565,-293.227 1266.6018,-293.8564 1279.2381,-294.4708\"/>\n<polygon fill=\"#000000\" stroke=\"#000000\" points=\"1279.1244,-297.9693 1289.2826,-294.9592 1279.4644,-290.9776 1279.1244,-297.9693\"/>\n<text text-anchor=\"middle\" x=\"1265.3299\" y=\"-297.8\" font-family=\"Times,serif\" font-size=\"14.00\" fill=\"#000000\">b </text>\n</g>\n<!-- \\(FX3_Y2\\)&#45;&gt;\\(FX3_Y4\\) -->\n<g id=\"edge21\" class=\"edge\">\n<title>\\(FX3_Y2\\)&#45;&gt;\\(FX3_Y4\\)</title>\n<path fill=\"none\" stroke=\"#000000\" d=\"M1460.6305,-202.0892C1409.0182,-197.1623 1328.8456,-191.4739 1259.3299,-195 1204.369,-197.7878 1142.1829,-204.3634 1096.9524,-209.7728\"/>\n<polygon fill=\"#000000\" stroke=\"#000000\" points=\"1096.4986,-206.3021 1086.9914,-210.978 1097.3395,-213.2514 1096.4986,-206.3021\"/>\n<text text-anchor=\"middle\" x=\"1265.3299\" y=\"-198.8\" font-family=\"Times,serif\" font-size=\"14.00\" fill=\"#000000\">b </text>\n</g>\n<!-- \\(FX3_Y2\\)&#45;&gt;\\(FX3_IFY1\\) -->\n<g id=\"edge18\" class=\"edge\">\n<title>\\(FX3_Y2\\)&#45;&gt;\\(FX3_IFY1\\)</title>\n<path fill=\"none\" stroke=\"#000000\" d=\"M1466.9967,-234.2283C1450.9618,-243.1069 1432.7815,-253.1735 1415.6806,-262.6424\"/>\n<polygon fill=\"#000000\" stroke=\"#000000\" points=\"1413.9064,-259.624 1406.8534,-267.5301 1417.2973,-265.7479 1413.9064,-259.624\"/>\n<text text-anchor=\"middle\" x=\"1437.3195\" y=\"-256.8\" font-family=\"Times,serif\" font-size=\"14.00\" fill=\"#000000\">a </text>\n</g>\n<!-- \\(IX1_IFY1\\)&#45;&gt;\\(IX1_Y3\\) -->\n<g id=\"edge25\" class=\"edge\">\n<title>\\(IX1_IFY1\\)&#45;&gt;\\(IX1_Y3\\)</title>\n<path fill=\"none\" stroke=\"#000000\" d=\"M211.2051,-142C223.3954,-142 236.1942,-142 248.3232,-142\"/>\n<polygon fill=\"#000000\" stroke=\"#000000\" points=\"248.3261,-145.5001 258.3261,-142 248.3261,-138.5001 248.3261,-145.5001\"/>\n<text text-anchor=\"middle\" x=\"234.7901\" y=\"-145.8\" font-family=\"Times,serif\" font-size=\"14.00\" fill=\"#000000\">b </text>\n</g>\n<!-- \\(IX1_IFY1\\)&#45;&gt;\\(X2_Y2\\) -->\n<g id=\"edge2\" class=\"edge\">\n<title>\\(IX1_IFY1\\)&#45;&gt;\\(X2_Y2\\)</title>\n<path fill=\"none\" stroke=\"#000000\" d=\"M203.906,-170.4591C289.1911,-216.2445 455.6242,-305.5945 538.0759,-349.8589\"/>\n<polygon fill=\"#000000\" stroke=\"#000000\" points=\"536.5197,-352.9958 546.9859,-354.6422 539.8307,-346.8284 536.5197,-352.9958\"/>\n<text text-anchor=\"middle\" x=\"377.9815\" y=\"-267.8\" font-family=\"Times,serif\" font-size=\"14.00\" fill=\"#000000\">a </text>\n</g>\n<!-- \\(X2_IFY1\\)&#45;&gt;\\(IX1_Y3\\) -->\n<g id=\"edge19\" class=\"edge\">\n<title>\\(X2_IFY1\\)&#45;&gt;\\(IX1_Y3\\)</title>\n<path fill=\"none\" stroke=\"#000000\" d=\"M683.0124,-114.2207C600.3263,-120.3276 448.1448,-131.5671 364.9492,-137.7117\"/>\n<polygon fill=\"#000000\" stroke=\"#000000\" points=\"364.6242,-134.226 354.9092,-138.4532 365.1399,-141.207 364.6242,-134.226\"/>\n<text text-anchor=\"middle\" x=\"514.6736\" y=\"-130.8\" font-family=\"Times,serif\" font-size=\"14.00\" fill=\"#000000\">b </text>\n</g>\n<!-- \\(X2_IFY1\\)&#45;&gt;\\(FX3_Y2\\) -->\n<g id=\"edge24\" class=\"edge\">\n<title>\\(X2_IFY1\\)&#45;&gt;\\(FX3_Y2\\)</title>\n<path fill=\"none\" stroke=\"#000000\" d=\"M774.7797,-64.3057C801.923,-34.0834 842.6533,0 888.3016,0 888.3016,0 888.3016,0 1351.8247,0 1426.8655,0 1472.408,-85.0931 1495.4878,-146.4264\"/>\n<polygon fill=\"#000000\" stroke=\"#000000\" points=\"1492.2835,-147.8556 1499.0002,-156.0494 1498.8592,-145.4555 1492.2835,-147.8556\"/>\n<text text-anchor=\"middle\" x=\"1110.2388\" y=\"-3.8\" font-family=\"Times,serif\" font-size=\"14.00\" fill=\"#000000\">a </text>\n</g>\n<!-- \\(FX3_IFY1\\)&#45;&gt;\\(FX3_Y3\\) -->\n<g id=\"edge11\" class=\"edge\">\n<title>\\(FX3_IFY1\\)&#45;&gt;\\(FX3_Y3\\)</title>\n<path fill=\"none\" stroke=\"#000000\" d=\"M1293.0873,-276.0892C1281.9799,-273.8542 1270.3788,-272.7879 1259.3299,-274 1256.2453,-274.3384 1253.0996,-274.756 1249.9318,-275.2347\"/>\n<polygon fill=\"#000000\" stroke=\"#000000\" points=\"1249.0646,-271.8316 1239.788,-276.9497 1250.2316,-278.7336 1249.0646,-271.8316\"/>\n<text text-anchor=\"middle\" x=\"1265.3299\" y=\"-277.8\" font-family=\"Times,serif\" font-size=\"14.00\" fill=\"#000000\">b </text>\n</g>\n<!-- \\(FX3_IFY1\\)&#45;&gt;\\(FX3_Y2\\) -->\n<g id=\"edge22\" class=\"edge\">\n<title>\\(FX3_IFY1\\)&#45;&gt;\\(FX3_Y2\\)</title>\n<path fill=\"none\" stroke=\"#000000\" d=\"M1413.1549,-283.6099C1423.203,-280.1597 1433.276,-275.9903 1442.3195,-271 1451.3595,-266.0116 1460.2558,-259.7329 1468.5456,-253.0843\"/>\n<polygon fill=\"#000000\" stroke=\"#000000\" points=\"1470.8524,-255.7179 1476.2925,-246.6264 1466.3702,-250.3411 1470.8524,-255.7179\"/>\n<text text-anchor=\"middle\" x=\"1437.3195\" y=\"-278.8\" font-family=\"Times,serif\" font-size=\"14.00\" fill=\"#000000\">a </text>\n</g>\n</g>\n</svg>\n"
          },
          "metadata": {},
          "execution_count": 43
        }
      ]
    }
  ]
}