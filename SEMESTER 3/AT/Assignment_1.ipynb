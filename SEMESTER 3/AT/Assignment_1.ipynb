{
  "nbformat": 4,
  "nbformat_minor": 0,
  "metadata": {
    "colab": {
      "name": "Assignment-1.ipynb",
      "provenance": [],
      "collapsed_sections": []
    },
    "kernelspec": {
      "name": "python3",
      "display_name": "Python 3"
    },
    "language_info": {
      "name": "python"
    }
  },
  "cells": [
    {
      "cell_type": "code",
      "metadata": {
        "id": "NQLMYXKHrMSq"
      },
      "source": [
        "#~~~~~~~~~~~~~~~~~~~~~~~~~~~~~~~~~~~~~~~~~~~~~~~~~~~~~~~\n",
        "import sys\n",
        "\n",
        "# -- Detect if in Own Install or in Colab\n",
        "try:\n",
        "    import google.colab\n",
        "    OWN_INSTALL = False\n",
        "except:\n",
        "    OWN_INSTALL = True\n",
        "    \n",
        "if OWN_INSTALL:\n",
        "    \n",
        "  #---- Leave these definitions ON if running on laptop\n",
        "  #---- Else turn OFF by putting them between ''' ... '''\n",
        "\n",
        "  sys.path[0:0] = ['../../../../..',  '../../../../../3rdparty',  \n",
        "                   '../../../..',  '../../../../3rdparty',  \n",
        "                   '../../..',     '../../../3rdparty', \n",
        "                   '../..',        '../../3rdparty',\n",
        "                   '..',           '../3rdparty' ]\n",
        "\n",
        "else: # In colab\n",
        "  ! if [ ! -d Jove ]; then git clone https://github.com/ganeshutah/Jove Jove; fi\n",
        "  sys.path.append('./Jove')\n",
        "  sys.path.append('./Jove/jove')\n",
        "\n",
        "# -- common imports --\n",
        "from jove.LangDef   import *\n",
        "#~~~~~~~~~~~~~~~~~~~~~~~~~~~~~~~~~~~~~~~~~~~~~~~~~~~~~~~"
      ],
      "execution_count": 37,
      "outputs": []
    },
    {
      "cell_type": "code",
      "metadata": {
        "id": "4T_idEcKrXpv"
      },
      "source": [
        "from jove.LangDef import *"
      ],
      "execution_count": 38,
      "outputs": []
    },
    {
      "cell_type": "code",
      "metadata": {
        "id": "bgtHXlCKraKt"
      },
      "source": [
        "\n",
        "L1 = {'ab','ba'} #String with equal number of a,b\n",
        "L2 = {'','b','c'} #Language with character b, c\n",
        "L3 = {'a','ba'} #Language with character a,b ending with a\n",
        "L4 = {'a'} #Language with char a\n",
        "L5 = {'00','11'} #Language with even 1 and even 0\n",
        "L6 = {'','c'} #Language with char c\n",
        "L7 = {'a','b','c','d','e','f','g','h','i','j','k','l','m','n','o','p','q','r','s','t','u','v','w','x','y','z'} #Language of lower case alphabets\n",
        "L8 = {'0','1'} #Language of numbers in binary i.e language consisting of 1 and 0\n",
        "L9 = {''} #Empty Language\n",
        "\n"
      ],
      "execution_count": 39,
      "outputs": []
    },
    {
      "cell_type": "code",
      "metadata": {
        "colab": {
          "base_uri": "https://localhost:8080/"
        },
        "id": "d9o3Ft1nre0N",
        "outputId": "87d3db20-e4fb-4cf9-ef2f-557f381eb631"
      },
      "source": [
        "lcat(L1,L2)"
      ],
      "execution_count": 40,
      "outputs": [
        {
          "output_type": "execute_result",
          "data": {
            "text/plain": [
              "{'ab', 'abb', 'abc', 'ba', 'bab', 'bac'}"
            ]
          },
          "metadata": {},
          "execution_count": 40
        }
      ]
    },
    {
      "cell_type": "code",
      "metadata": {
        "colab": {
          "base_uri": "https://localhost:8080/"
        },
        "id": "7VoUfkCYu_Ag",
        "outputId": "dd886ae7-d926-492c-e5b3-f32723997b6e"
      },
      "source": [
        "lcat(L2,L3)"
      ],
      "execution_count": 41,
      "outputs": [
        {
          "output_type": "execute_result",
          "data": {
            "text/plain": [
              "{'a', 'ba', 'bba', 'ca', 'cba'}"
            ]
          },
          "metadata": {},
          "execution_count": 41
        }
      ]
    },
    {
      "cell_type": "code",
      "metadata": {
        "colab": {
          "base_uri": "https://localhost:8080/"
        },
        "id": "OQ3uwPcJu_QF",
        "outputId": "0fb5bee1-61cc-44c4-ee23-9eee40e827db"
      },
      "source": [
        "lcat(L3,L4)"
      ],
      "execution_count": 42,
      "outputs": [
        {
          "output_type": "execute_result",
          "data": {
            "text/plain": [
              "{'aa', 'baa'}"
            ]
          },
          "metadata": {},
          "execution_count": 42
        }
      ]
    },
    {
      "cell_type": "code",
      "metadata": {
        "colab": {
          "base_uri": "https://localhost:8080/"
        },
        "id": "rl0mic6BvDR-",
        "outputId": "acb3749c-d67b-41fc-a6b5-180b05f395e8"
      },
      "source": [
        "lcat(L4,L4)"
      ],
      "execution_count": 43,
      "outputs": [
        {
          "output_type": "execute_result",
          "data": {
            "text/plain": [
              "{'aa'}"
            ]
          },
          "metadata": {},
          "execution_count": 43
        }
      ]
    },
    {
      "cell_type": "code",
      "metadata": {
        "colab": {
          "base_uri": "https://localhost:8080/"
        },
        "id": "zNirCwrtvJZR",
        "outputId": "37af30f4-6d7f-4500-a35c-e3143e3b325f"
      },
      "source": [
        "lcat(L8,L9)"
      ],
      "execution_count": 44,
      "outputs": [
        {
          "output_type": "execute_result",
          "data": {
            "text/plain": [
              "{'0', '1'}"
            ]
          },
          "metadata": {},
          "execution_count": 44
        }
      ]
    },
    {
      "cell_type": "code",
      "metadata": {
        "colab": {
          "base_uri": "https://localhost:8080/"
        },
        "id": "DbtuyQKhvL9f",
        "outputId": "0344b0a7-e5f0-4dae-ba75-3e331e67c678"
      },
      "source": [
        "lcat(L7,L8)"
      ],
      "execution_count": 45,
      "outputs": [
        {
          "output_type": "execute_result",
          "data": {
            "text/plain": [
              "{'a0',\n",
              " 'a1',\n",
              " 'b0',\n",
              " 'b1',\n",
              " 'c0',\n",
              " 'c1',\n",
              " 'd0',\n",
              " 'd1',\n",
              " 'e0',\n",
              " 'e1',\n",
              " 'f0',\n",
              " 'f1',\n",
              " 'g0',\n",
              " 'g1',\n",
              " 'h0',\n",
              " 'h1',\n",
              " 'i0',\n",
              " 'i1',\n",
              " 'j0',\n",
              " 'j1',\n",
              " 'k0',\n",
              " 'k1',\n",
              " 'l0',\n",
              " 'l1',\n",
              " 'm0',\n",
              " 'm1',\n",
              " 'n0',\n",
              " 'n1',\n",
              " 'o0',\n",
              " 'o1',\n",
              " 'p0',\n",
              " 'p1',\n",
              " 'q0',\n",
              " 'q1',\n",
              " 'r0',\n",
              " 'r1',\n",
              " 's0',\n",
              " 's1',\n",
              " 't0',\n",
              " 't1',\n",
              " 'u0',\n",
              " 'u1',\n",
              " 'v0',\n",
              " 'v1',\n",
              " 'w0',\n",
              " 'w1',\n",
              " 'x0',\n",
              " 'x1',\n",
              " 'y0',\n",
              " 'y1',\n",
              " 'z0',\n",
              " 'z1'}"
            ]
          },
          "metadata": {},
          "execution_count": 45
        }
      ]
    },
    {
      "cell_type": "code",
      "metadata": {
        "colab": {
          "base_uri": "https://localhost:8080/"
        },
        "id": "c3oczK7urknc",
        "outputId": "dc4e3f66-dae0-4ff8-bef8-22eb21d1e70d"
      },
      "source": [
        "lstar(L1,2)"
      ],
      "execution_count": 46,
      "outputs": [
        {
          "output_type": "execute_result",
          "data": {
            "text/plain": [
              "{'', 'ab', 'abab', 'abba', 'ba', 'baab', 'baba'}"
            ]
          },
          "metadata": {},
          "execution_count": 46
        }
      ]
    },
    {
      "cell_type": "code",
      "metadata": {
        "colab": {
          "base_uri": "https://localhost:8080/"
        },
        "id": "1yUF6mUSswd4",
        "outputId": "190789b2-592f-4944-f19b-dce87e75c15a"
      },
      "source": [
        "lstar(L2,2)"
      ],
      "execution_count": 47,
      "outputs": [
        {
          "output_type": "execute_result",
          "data": {
            "text/plain": [
              "{'', 'b', 'bb', 'bc', 'c', 'cb', 'cc'}"
            ]
          },
          "metadata": {},
          "execution_count": 47
        }
      ]
    },
    {
      "cell_type": "code",
      "metadata": {
        "colab": {
          "base_uri": "https://localhost:8080/"
        },
        "id": "OFCTnrI8s0iN",
        "outputId": "63c5ae3f-3995-4db5-85ab-feb88f05ad88"
      },
      "source": [
        "lstar(L3,2)"
      ],
      "execution_count": 48,
      "outputs": [
        {
          "output_type": "execute_result",
          "data": {
            "text/plain": [
              "{'', 'a', 'aa', 'aba', 'ba', 'baa', 'baba'}"
            ]
          },
          "metadata": {},
          "execution_count": 48
        }
      ]
    },
    {
      "cell_type": "code",
      "metadata": {
        "colab": {
          "base_uri": "https://localhost:8080/"
        },
        "id": "q5eWui98s2Ke",
        "outputId": "5c608382-61f7-4c91-ff6d-373fa5d984ed"
      },
      "source": [
        "lstar(L4,2)"
      ],
      "execution_count": 49,
      "outputs": [
        {
          "output_type": "execute_result",
          "data": {
            "text/plain": [
              "{'', 'a', 'aa'}"
            ]
          },
          "metadata": {},
          "execution_count": 49
        }
      ]
    },
    {
      "cell_type": "code",
      "metadata": {
        "colab": {
          "base_uri": "https://localhost:8080/"
        },
        "id": "QPZPH-qTs3ZG",
        "outputId": "cb977550-ae38-4c9f-cfbb-892db5d6da04"
      },
      "source": [
        "lstar(L5,2)"
      ],
      "execution_count": 50,
      "outputs": [
        {
          "output_type": "execute_result",
          "data": {
            "text/plain": [
              "{'', '00', '0000', '0011', '11', '1100', '1111'}"
            ]
          },
          "metadata": {},
          "execution_count": 50
        }
      ]
    },
    {
      "cell_type": "code",
      "metadata": {
        "colab": {
          "base_uri": "https://localhost:8080/"
        },
        "id": "VrX2ytRzs4ne",
        "outputId": "0ef5e887-74e7-4ec2-a3b1-128bfa414448"
      },
      "source": [
        "lstar(L6,2)"
      ],
      "execution_count": 51,
      "outputs": [
        {
          "output_type": "execute_result",
          "data": {
            "text/plain": [
              "{'', 'c', 'cc'}"
            ]
          },
          "metadata": {},
          "execution_count": 51
        }
      ]
    },
    {
      "cell_type": "code",
      "metadata": {
        "colab": {
          "base_uri": "https://localhost:8080/"
        },
        "id": "Z47yXmIJs5xu",
        "outputId": "6b9fda47-a352-48ed-e4ee-9e9f079a9e14"
      },
      "source": [
        "lstar(L7,2)"
      ],
      "execution_count": 52,
      "outputs": [
        {
          "output_type": "execute_result",
          "data": {
            "text/plain": [
              "{'',\n",
              " 'a',\n",
              " 'aa',\n",
              " 'ab',\n",
              " 'ac',\n",
              " 'ad',\n",
              " 'ae',\n",
              " 'af',\n",
              " 'ag',\n",
              " 'ah',\n",
              " 'ai',\n",
              " 'aj',\n",
              " 'ak',\n",
              " 'al',\n",
              " 'am',\n",
              " 'an',\n",
              " 'ao',\n",
              " 'ap',\n",
              " 'aq',\n",
              " 'ar',\n",
              " 'as',\n",
              " 'at',\n",
              " 'au',\n",
              " 'av',\n",
              " 'aw',\n",
              " 'ax',\n",
              " 'ay',\n",
              " 'az',\n",
              " 'b',\n",
              " 'ba',\n",
              " 'bb',\n",
              " 'bc',\n",
              " 'bd',\n",
              " 'be',\n",
              " 'bf',\n",
              " 'bg',\n",
              " 'bh',\n",
              " 'bi',\n",
              " 'bj',\n",
              " 'bk',\n",
              " 'bl',\n",
              " 'bm',\n",
              " 'bn',\n",
              " 'bo',\n",
              " 'bp',\n",
              " 'bq',\n",
              " 'br',\n",
              " 'bs',\n",
              " 'bt',\n",
              " 'bu',\n",
              " 'bv',\n",
              " 'bw',\n",
              " 'bx',\n",
              " 'by',\n",
              " 'bz',\n",
              " 'c',\n",
              " 'ca',\n",
              " 'cb',\n",
              " 'cc',\n",
              " 'cd',\n",
              " 'ce',\n",
              " 'cf',\n",
              " 'cg',\n",
              " 'ch',\n",
              " 'ci',\n",
              " 'cj',\n",
              " 'ck',\n",
              " 'cl',\n",
              " 'cm',\n",
              " 'cn',\n",
              " 'co',\n",
              " 'cp',\n",
              " 'cq',\n",
              " 'cr',\n",
              " 'cs',\n",
              " 'ct',\n",
              " 'cu',\n",
              " 'cv',\n",
              " 'cw',\n",
              " 'cx',\n",
              " 'cy',\n",
              " 'cz',\n",
              " 'd',\n",
              " 'da',\n",
              " 'db',\n",
              " 'dc',\n",
              " 'dd',\n",
              " 'de',\n",
              " 'df',\n",
              " 'dg',\n",
              " 'dh',\n",
              " 'di',\n",
              " 'dj',\n",
              " 'dk',\n",
              " 'dl',\n",
              " 'dm',\n",
              " 'dn',\n",
              " 'do',\n",
              " 'dp',\n",
              " 'dq',\n",
              " 'dr',\n",
              " 'ds',\n",
              " 'dt',\n",
              " 'du',\n",
              " 'dv',\n",
              " 'dw',\n",
              " 'dx',\n",
              " 'dy',\n",
              " 'dz',\n",
              " 'e',\n",
              " 'ea',\n",
              " 'eb',\n",
              " 'ec',\n",
              " 'ed',\n",
              " 'ee',\n",
              " 'ef',\n",
              " 'eg',\n",
              " 'eh',\n",
              " 'ei',\n",
              " 'ej',\n",
              " 'ek',\n",
              " 'el',\n",
              " 'em',\n",
              " 'en',\n",
              " 'eo',\n",
              " 'ep',\n",
              " 'eq',\n",
              " 'er',\n",
              " 'es',\n",
              " 'et',\n",
              " 'eu',\n",
              " 'ev',\n",
              " 'ew',\n",
              " 'ex',\n",
              " 'ey',\n",
              " 'ez',\n",
              " 'f',\n",
              " 'fa',\n",
              " 'fb',\n",
              " 'fc',\n",
              " 'fd',\n",
              " 'fe',\n",
              " 'ff',\n",
              " 'fg',\n",
              " 'fh',\n",
              " 'fi',\n",
              " 'fj',\n",
              " 'fk',\n",
              " 'fl',\n",
              " 'fm',\n",
              " 'fn',\n",
              " 'fo',\n",
              " 'fp',\n",
              " 'fq',\n",
              " 'fr',\n",
              " 'fs',\n",
              " 'ft',\n",
              " 'fu',\n",
              " 'fv',\n",
              " 'fw',\n",
              " 'fx',\n",
              " 'fy',\n",
              " 'fz',\n",
              " 'g',\n",
              " 'ga',\n",
              " 'gb',\n",
              " 'gc',\n",
              " 'gd',\n",
              " 'ge',\n",
              " 'gf',\n",
              " 'gg',\n",
              " 'gh',\n",
              " 'gi',\n",
              " 'gj',\n",
              " 'gk',\n",
              " 'gl',\n",
              " 'gm',\n",
              " 'gn',\n",
              " 'go',\n",
              " 'gp',\n",
              " 'gq',\n",
              " 'gr',\n",
              " 'gs',\n",
              " 'gt',\n",
              " 'gu',\n",
              " 'gv',\n",
              " 'gw',\n",
              " 'gx',\n",
              " 'gy',\n",
              " 'gz',\n",
              " 'h',\n",
              " 'ha',\n",
              " 'hb',\n",
              " 'hc',\n",
              " 'hd',\n",
              " 'he',\n",
              " 'hf',\n",
              " 'hg',\n",
              " 'hh',\n",
              " 'hi',\n",
              " 'hj',\n",
              " 'hk',\n",
              " 'hl',\n",
              " 'hm',\n",
              " 'hn',\n",
              " 'ho',\n",
              " 'hp',\n",
              " 'hq',\n",
              " 'hr',\n",
              " 'hs',\n",
              " 'ht',\n",
              " 'hu',\n",
              " 'hv',\n",
              " 'hw',\n",
              " 'hx',\n",
              " 'hy',\n",
              " 'hz',\n",
              " 'i',\n",
              " 'ia',\n",
              " 'ib',\n",
              " 'ic',\n",
              " 'id',\n",
              " 'ie',\n",
              " 'if',\n",
              " 'ig',\n",
              " 'ih',\n",
              " 'ii',\n",
              " 'ij',\n",
              " 'ik',\n",
              " 'il',\n",
              " 'im',\n",
              " 'in',\n",
              " 'io',\n",
              " 'ip',\n",
              " 'iq',\n",
              " 'ir',\n",
              " 'is',\n",
              " 'it',\n",
              " 'iu',\n",
              " 'iv',\n",
              " 'iw',\n",
              " 'ix',\n",
              " 'iy',\n",
              " 'iz',\n",
              " 'j',\n",
              " 'ja',\n",
              " 'jb',\n",
              " 'jc',\n",
              " 'jd',\n",
              " 'je',\n",
              " 'jf',\n",
              " 'jg',\n",
              " 'jh',\n",
              " 'ji',\n",
              " 'jj',\n",
              " 'jk',\n",
              " 'jl',\n",
              " 'jm',\n",
              " 'jn',\n",
              " 'jo',\n",
              " 'jp',\n",
              " 'jq',\n",
              " 'jr',\n",
              " 'js',\n",
              " 'jt',\n",
              " 'ju',\n",
              " 'jv',\n",
              " 'jw',\n",
              " 'jx',\n",
              " 'jy',\n",
              " 'jz',\n",
              " 'k',\n",
              " 'ka',\n",
              " 'kb',\n",
              " 'kc',\n",
              " 'kd',\n",
              " 'ke',\n",
              " 'kf',\n",
              " 'kg',\n",
              " 'kh',\n",
              " 'ki',\n",
              " 'kj',\n",
              " 'kk',\n",
              " 'kl',\n",
              " 'km',\n",
              " 'kn',\n",
              " 'ko',\n",
              " 'kp',\n",
              " 'kq',\n",
              " 'kr',\n",
              " 'ks',\n",
              " 'kt',\n",
              " 'ku',\n",
              " 'kv',\n",
              " 'kw',\n",
              " 'kx',\n",
              " 'ky',\n",
              " 'kz',\n",
              " 'l',\n",
              " 'la',\n",
              " 'lb',\n",
              " 'lc',\n",
              " 'ld',\n",
              " 'le',\n",
              " 'lf',\n",
              " 'lg',\n",
              " 'lh',\n",
              " 'li',\n",
              " 'lj',\n",
              " 'lk',\n",
              " 'll',\n",
              " 'lm',\n",
              " 'ln',\n",
              " 'lo',\n",
              " 'lp',\n",
              " 'lq',\n",
              " 'lr',\n",
              " 'ls',\n",
              " 'lt',\n",
              " 'lu',\n",
              " 'lv',\n",
              " 'lw',\n",
              " 'lx',\n",
              " 'ly',\n",
              " 'lz',\n",
              " 'm',\n",
              " 'ma',\n",
              " 'mb',\n",
              " 'mc',\n",
              " 'md',\n",
              " 'me',\n",
              " 'mf',\n",
              " 'mg',\n",
              " 'mh',\n",
              " 'mi',\n",
              " 'mj',\n",
              " 'mk',\n",
              " 'ml',\n",
              " 'mm',\n",
              " 'mn',\n",
              " 'mo',\n",
              " 'mp',\n",
              " 'mq',\n",
              " 'mr',\n",
              " 'ms',\n",
              " 'mt',\n",
              " 'mu',\n",
              " 'mv',\n",
              " 'mw',\n",
              " 'mx',\n",
              " 'my',\n",
              " 'mz',\n",
              " 'n',\n",
              " 'na',\n",
              " 'nb',\n",
              " 'nc',\n",
              " 'nd',\n",
              " 'ne',\n",
              " 'nf',\n",
              " 'ng',\n",
              " 'nh',\n",
              " 'ni',\n",
              " 'nj',\n",
              " 'nk',\n",
              " 'nl',\n",
              " 'nm',\n",
              " 'nn',\n",
              " 'no',\n",
              " 'np',\n",
              " 'nq',\n",
              " 'nr',\n",
              " 'ns',\n",
              " 'nt',\n",
              " 'nu',\n",
              " 'nv',\n",
              " 'nw',\n",
              " 'nx',\n",
              " 'ny',\n",
              " 'nz',\n",
              " 'o',\n",
              " 'oa',\n",
              " 'ob',\n",
              " 'oc',\n",
              " 'od',\n",
              " 'oe',\n",
              " 'of',\n",
              " 'og',\n",
              " 'oh',\n",
              " 'oi',\n",
              " 'oj',\n",
              " 'ok',\n",
              " 'ol',\n",
              " 'om',\n",
              " 'on',\n",
              " 'oo',\n",
              " 'op',\n",
              " 'oq',\n",
              " 'or',\n",
              " 'os',\n",
              " 'ot',\n",
              " 'ou',\n",
              " 'ov',\n",
              " 'ow',\n",
              " 'ox',\n",
              " 'oy',\n",
              " 'oz',\n",
              " 'p',\n",
              " 'pa',\n",
              " 'pb',\n",
              " 'pc',\n",
              " 'pd',\n",
              " 'pe',\n",
              " 'pf',\n",
              " 'pg',\n",
              " 'ph',\n",
              " 'pi',\n",
              " 'pj',\n",
              " 'pk',\n",
              " 'pl',\n",
              " 'pm',\n",
              " 'pn',\n",
              " 'po',\n",
              " 'pp',\n",
              " 'pq',\n",
              " 'pr',\n",
              " 'ps',\n",
              " 'pt',\n",
              " 'pu',\n",
              " 'pv',\n",
              " 'pw',\n",
              " 'px',\n",
              " 'py',\n",
              " 'pz',\n",
              " 'q',\n",
              " 'qa',\n",
              " 'qb',\n",
              " 'qc',\n",
              " 'qd',\n",
              " 'qe',\n",
              " 'qf',\n",
              " 'qg',\n",
              " 'qh',\n",
              " 'qi',\n",
              " 'qj',\n",
              " 'qk',\n",
              " 'ql',\n",
              " 'qm',\n",
              " 'qn',\n",
              " 'qo',\n",
              " 'qp',\n",
              " 'qq',\n",
              " 'qr',\n",
              " 'qs',\n",
              " 'qt',\n",
              " 'qu',\n",
              " 'qv',\n",
              " 'qw',\n",
              " 'qx',\n",
              " 'qy',\n",
              " 'qz',\n",
              " 'r',\n",
              " 'ra',\n",
              " 'rb',\n",
              " 'rc',\n",
              " 'rd',\n",
              " 're',\n",
              " 'rf',\n",
              " 'rg',\n",
              " 'rh',\n",
              " 'ri',\n",
              " 'rj',\n",
              " 'rk',\n",
              " 'rl',\n",
              " 'rm',\n",
              " 'rn',\n",
              " 'ro',\n",
              " 'rp',\n",
              " 'rq',\n",
              " 'rr',\n",
              " 'rs',\n",
              " 'rt',\n",
              " 'ru',\n",
              " 'rv',\n",
              " 'rw',\n",
              " 'rx',\n",
              " 'ry',\n",
              " 'rz',\n",
              " 's',\n",
              " 'sa',\n",
              " 'sb',\n",
              " 'sc',\n",
              " 'sd',\n",
              " 'se',\n",
              " 'sf',\n",
              " 'sg',\n",
              " 'sh',\n",
              " 'si',\n",
              " 'sj',\n",
              " 'sk',\n",
              " 'sl',\n",
              " 'sm',\n",
              " 'sn',\n",
              " 'so',\n",
              " 'sp',\n",
              " 'sq',\n",
              " 'sr',\n",
              " 'ss',\n",
              " 'st',\n",
              " 'su',\n",
              " 'sv',\n",
              " 'sw',\n",
              " 'sx',\n",
              " 'sy',\n",
              " 'sz',\n",
              " 't',\n",
              " 'ta',\n",
              " 'tb',\n",
              " 'tc',\n",
              " 'td',\n",
              " 'te',\n",
              " 'tf',\n",
              " 'tg',\n",
              " 'th',\n",
              " 'ti',\n",
              " 'tj',\n",
              " 'tk',\n",
              " 'tl',\n",
              " 'tm',\n",
              " 'tn',\n",
              " 'to',\n",
              " 'tp',\n",
              " 'tq',\n",
              " 'tr',\n",
              " 'ts',\n",
              " 'tt',\n",
              " 'tu',\n",
              " 'tv',\n",
              " 'tw',\n",
              " 'tx',\n",
              " 'ty',\n",
              " 'tz',\n",
              " 'u',\n",
              " 'ua',\n",
              " 'ub',\n",
              " 'uc',\n",
              " 'ud',\n",
              " 'ue',\n",
              " 'uf',\n",
              " 'ug',\n",
              " 'uh',\n",
              " 'ui',\n",
              " 'uj',\n",
              " 'uk',\n",
              " 'ul',\n",
              " 'um',\n",
              " 'un',\n",
              " 'uo',\n",
              " 'up',\n",
              " 'uq',\n",
              " 'ur',\n",
              " 'us',\n",
              " 'ut',\n",
              " 'uu',\n",
              " 'uv',\n",
              " 'uw',\n",
              " 'ux',\n",
              " 'uy',\n",
              " 'uz',\n",
              " 'v',\n",
              " 'va',\n",
              " 'vb',\n",
              " 'vc',\n",
              " 'vd',\n",
              " 've',\n",
              " 'vf',\n",
              " 'vg',\n",
              " 'vh',\n",
              " 'vi',\n",
              " 'vj',\n",
              " 'vk',\n",
              " 'vl',\n",
              " 'vm',\n",
              " 'vn',\n",
              " 'vo',\n",
              " 'vp',\n",
              " 'vq',\n",
              " 'vr',\n",
              " 'vs',\n",
              " 'vt',\n",
              " 'vu',\n",
              " 'vv',\n",
              " 'vw',\n",
              " 'vx',\n",
              " 'vy',\n",
              " 'vz',\n",
              " 'w',\n",
              " 'wa',\n",
              " 'wb',\n",
              " 'wc',\n",
              " 'wd',\n",
              " 'we',\n",
              " 'wf',\n",
              " 'wg',\n",
              " 'wh',\n",
              " 'wi',\n",
              " 'wj',\n",
              " 'wk',\n",
              " 'wl',\n",
              " 'wm',\n",
              " 'wn',\n",
              " 'wo',\n",
              " 'wp',\n",
              " 'wq',\n",
              " 'wr',\n",
              " 'ws',\n",
              " 'wt',\n",
              " 'wu',\n",
              " 'wv',\n",
              " 'ww',\n",
              " 'wx',\n",
              " 'wy',\n",
              " 'wz',\n",
              " 'x',\n",
              " 'xa',\n",
              " 'xb',\n",
              " 'xc',\n",
              " 'xd',\n",
              " 'xe',\n",
              " 'xf',\n",
              " 'xg',\n",
              " 'xh',\n",
              " 'xi',\n",
              " 'xj',\n",
              " 'xk',\n",
              " 'xl',\n",
              " 'xm',\n",
              " 'xn',\n",
              " 'xo',\n",
              " 'xp',\n",
              " 'xq',\n",
              " 'xr',\n",
              " 'xs',\n",
              " 'xt',\n",
              " 'xu',\n",
              " 'xv',\n",
              " 'xw',\n",
              " 'xx',\n",
              " 'xy',\n",
              " 'xz',\n",
              " 'y',\n",
              " 'ya',\n",
              " 'yb',\n",
              " 'yc',\n",
              " 'yd',\n",
              " 'ye',\n",
              " 'yf',\n",
              " 'yg',\n",
              " 'yh',\n",
              " 'yi',\n",
              " 'yj',\n",
              " 'yk',\n",
              " 'yl',\n",
              " 'ym',\n",
              " 'yn',\n",
              " 'yo',\n",
              " 'yp',\n",
              " 'yq',\n",
              " 'yr',\n",
              " 'ys',\n",
              " 'yt',\n",
              " 'yu',\n",
              " 'yv',\n",
              " 'yw',\n",
              " 'yx',\n",
              " 'yy',\n",
              " 'yz',\n",
              " 'z',\n",
              " 'za',\n",
              " 'zb',\n",
              " 'zc',\n",
              " 'zd',\n",
              " 'ze',\n",
              " 'zf',\n",
              " 'zg',\n",
              " 'zh',\n",
              " 'zi',\n",
              " 'zj',\n",
              " 'zk',\n",
              " 'zl',\n",
              " 'zm',\n",
              " 'zn',\n",
              " 'zo',\n",
              " 'zp',\n",
              " 'zq',\n",
              " 'zr',\n",
              " 'zs',\n",
              " 'zt',\n",
              " 'zu',\n",
              " 'zv',\n",
              " 'zw',\n",
              " 'zx',\n",
              " 'zy',\n",
              " 'zz'}"
            ]
          },
          "metadata": {},
          "execution_count": 52
        }
      ]
    },
    {
      "cell_type": "code",
      "metadata": {
        "colab": {
          "base_uri": "https://localhost:8080/"
        },
        "id": "Xl1yYSWWs7FJ",
        "outputId": "a663a813-8bfc-4350-936d-3d60a1f8f2df"
      },
      "source": [
        "lstar(L8,2)"
      ],
      "execution_count": 53,
      "outputs": [
        {
          "output_type": "execute_result",
          "data": {
            "text/plain": [
              "{'', '0', '00', '01', '1', '10', '11'}"
            ]
          },
          "metadata": {},
          "execution_count": 53
        }
      ]
    },
    {
      "cell_type": "code",
      "metadata": {
        "colab": {
          "base_uri": "https://localhost:8080/"
        },
        "id": "hDK4b3RHs8Se",
        "outputId": "0196ce4b-49d0-4788-f45c-62e215063dc1"
      },
      "source": [
        "lstar(L9,2)"
      ],
      "execution_count": 54,
      "outputs": [
        {
          "output_type": "execute_result",
          "data": {
            "text/plain": [
              "{''}"
            ]
          },
          "metadata": {},
          "execution_count": 54
        }
      ]
    }
  ]
}